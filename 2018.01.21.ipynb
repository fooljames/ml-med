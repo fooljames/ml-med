{
 "cells": [
  {
   "cell_type": "code",
   "execution_count": 3,
   "metadata": {
    "collapsed": true,
    "scrolled": true
   },
   "outputs": [],
   "source": [
    "import pandas as pd\n",
    "import numpy as np\n",
    "import matplotlib.pyplot as plt\n",
    "import glob\n",
    "import time\n",
    "from utils import *\n",
    "import seaborn as sns\n",
    "\n",
    "import plotly.plotly as py\n",
    "from plotly.graph_objs import *\n",
    "import plotly.graph_objs as go\n",
    "from plotly.offline import download_plotlyjs, init_notebook_mode, plot, iplot\n",
    "from plotly import tools\n",
    "\n",
    "# import pandas_profiling\n",
    "import datetime \n",
    "%matplotlib inline"
   ]
  },
  {
   "cell_type": "markdown",
   "metadata": {},
   "source": [
    "# Load Data"
   ]
  },
  {
   "cell_type": "code",
   "execution_count": 4,
   "metadata": {
    "collapsed": true,
    "scrolled": true
   },
   "outputs": [],
   "source": [
    "phlilps = 'D:/03 Project/01 KKU MLMED/data/phlips'\n",
    "capsule = 'D:/03 Project/01 KKU MLMED/data/capsule'\n",
    "output = 'D:/02 Git/ml-med/data/output'\n",
    "\n",
    "# merge_file(phlilps, capsule, output)"
   ]
  },
  {
   "cell_type": "code",
   "execution_count": 5,
   "metadata": {
    "scrolled": true
   },
   "outputs": [
    {
     "name": "stdout",
     "output_type": "stream",
     "text": [
      "Loaded file D:/02 Git/ml-med/data/output\\output_20171112.csv with rows: 41862 \n",
      "Loaded file D:/02 Git/ml-med/data/output\\output_20171113.csv with rows: 43823 \n",
      "Loaded file D:/02 Git/ml-med/data/output\\output_20171114.csv with rows: 46535 \n",
      "Loaded file D:/02 Git/ml-med/data/output\\output_20171115.csv with rows: 40041 \n",
      "Loaded file D:/02 Git/ml-med/data/output\\output_20171116.csv with rows: 42820 \n",
      "Loaded file D:/02 Git/ml-med/data/output\\output_20171117.csv with rows: 51323 \n",
      "Loaded file D:/02 Git/ml-med/data/output\\output_20171118.csv with rows: 44596 \n",
      "Loaded file D:/02 Git/ml-med/data/output\\output_20171119.csv with rows: 40829 \n",
      "Loaded file D:/02 Git/ml-med/data/output\\output_20171120.csv with rows: 37238 \n",
      "Loaded file D:/02 Git/ml-med/data/output\\output_20171121.csv with rows: 29825 \n",
      "Loaded file D:/02 Git/ml-med/data/output\\output_20171122.csv with rows: 18253 \n",
      "Loaded file D:/02 Git/ml-med/data/output\\output_20171123.csv with rows: 28285 \n",
      "Loaded file D:/02 Git/ml-med/data/output\\output_20171124.csv with rows: 26499 \n",
      "Loaded file D:/02 Git/ml-med/data/output\\output_20171126.csv with rows: 29019 \n",
      "Loaded file D:/02 Git/ml-med/data/output\\output_20171127.csv with rows: 23400 \n",
      "Loaded file D:/02 Git/ml-med/data/output\\output_20171128.csv with rows: 17515 \n",
      "Loaded file D:/02 Git/ml-med/data/output\\output_20171129.csv with rows: 0 \n",
      "Loaded file D:/02 Git/ml-med/data/output\\output_20171130.csv with rows: 0 \n",
      "Loaded file D:/02 Git/ml-med/data/output\\output_20171201.csv with rows: 0 \n",
      "Loaded file D:/02 Git/ml-med/data/output\\output_20171202.csv with rows: 0 \n",
      "Loaded file D:/02 Git/ml-med/data/output\\output_20171203.csv with rows: 0 \n",
      "Loaded file D:/02 Git/ml-med/data/output\\output_20171204.csv with rows: 0 \n",
      "Loaded file D:/02 Git/ml-med/data/output\\output_20171205.csv with rows: 0 \n",
      "Loaded file D:/02 Git/ml-med/data/output\\output_20171206.csv with rows: 0 \n",
      "Loaded file D:/02 Git/ml-med/data/output\\output_20171207.csv with rows: 0 \n",
      "Loaded file D:/02 Git/ml-med/data/output\\output_20171208.csv with rows: 0 \n",
      "Loaded file D:/02 Git/ml-med/data/output\\output_20171209.csv with rows: 0 \n",
      "Loaded file D:/02 Git/ml-med/data/output\\output_20171210.csv with rows: 0 \n",
      "Loaded file D:/02 Git/ml-med/data/output\\output_20171211.csv with rows: 0 \n",
      "Loaded file D:/02 Git/ml-med/data/output\\output_20171212.csv with rows: 0 \n",
      "Loaded file D:/02 Git/ml-med/data/output\\output_20171213.csv with rows: 0 \n",
      "Loaded file D:/02 Git/ml-med/data/output\\output_20171214.csv with rows: 0 \n",
      "Loaded file D:/02 Git/ml-med/data/output\\output_20171215.csv with rows: 0 \n",
      "Loaded file D:/02 Git/ml-med/data/output\\output_20171216.csv with rows: 0 \n",
      "Loaded file D:/02 Git/ml-med/data/output\\output_20171217.csv with rows: 0 \n",
      "Loaded file D:/02 Git/ml-med/data/output\\output_20171218.csv with rows: 0 \n",
      "Loaded file D:/02 Git/ml-med/data/output\\output_20171219.csv with rows: 0 \n",
      "Loaded file D:/02 Git/ml-med/data/output\\output_20171221.csv with rows: 8578 \n",
      "Loaded file D:/02 Git/ml-med/data/output\\output_20171222.csv with rows: 20436 \n",
      "Loaded file D:/02 Git/ml-med/data/output\\output_20171223.csv with rows: 1823 \n",
      "Loaded file D:/02 Git/ml-med/data/output\\output_20171224.csv with rows: 10139 \n",
      "Loaded file D:/02 Git/ml-med/data/output\\output_20171226.csv with rows: 23491 \n",
      "Loaded file D:/02 Git/ml-med/data/output\\output_20171227.csv with rows: 22653 \n",
      "Loaded file D:/02 Git/ml-med/data/output\\output_20171228.csv with rows: 17281 \n",
      "Loaded file D:/02 Git/ml-med/data/output\\output_20171229.csv with rows: 26141 \n",
      "Loaded file D:/02 Git/ml-med/data/output\\output_20171230.csv with rows: 32211 \n",
      "Loaded file D:/02 Git/ml-med/data/output\\output_20171231.csv with rows: 14395 \n",
      "Loaded file D:/02 Git/ml-med/data/output\\output_20180101.csv with rows: 13391 \n",
      "Loaded file D:/02 Git/ml-med/data/output\\output_20180102.csv with rows: 27775 \n",
      "Loaded file D:/02 Git/ml-med/data/output\\output_20180103.csv with rows: 31955 \n",
      "Loaded file D:/02 Git/ml-med/data/output\\output_20180104.csv with rows: 35039 \n",
      "Loaded file D:/02 Git/ml-med/data/output\\output_20180105.csv with rows: 34971 \n",
      "Loaded file D:/02 Git/ml-med/data/output\\output_20180106.csv with rows: 19062 \n",
      "Loaded file D:/02 Git/ml-med/data/output\\output_20180107.csv with rows: 35228 \n",
      "Loaded file D:/02 Git/ml-med/data/output\\output_20180108.csv with rows: 45018 \n",
      "Loaded file D:/02 Git/ml-med/data/output\\output_20180109.csv with rows: 35989 \n",
      "Loaded file D:/02 Git/ml-med/data/output\\output_20180110.csv with rows: 27649 \n",
      "Loaded file D:/02 Git/ml-med/data/output\\output_20180111.csv with rows: 26291 \n",
      "Loaded file D:/02 Git/ml-med/data/output\\output_20180112.csv with rows: 29695 \n",
      "Loaded file D:/02 Git/ml-med/data/output\\output_20180113.csv with rows: 23543 \n",
      "Loaded file D:/02 Git/ml-med/data/output\\output_20180114.csv with rows: 16406 \n",
      "Loaded file D:/02 Git/ml-med/data/output\\output_20180115.csv with rows: 17281 \n",
      "Loaded file D:/02 Git/ml-med/data/output\\output_20180116.csv with rows: 17280 \n",
      "Loaded file D:/02 Git/ml-med/data/output\\output_20180117.csv with rows: 13702 \n"
     ]
    }
   ],
   "source": [
    "output = 'D:/02 Git/ml-med/data/output'\n",
    "df = load_data_output(output)\n",
    "# df.dataset_location.unique()"
   ]
  },
  {
   "cell_type": "code",
   "execution_count": 6,
   "metadata": {},
   "outputs": [
    {
     "name": "stderr",
     "output_type": "stream",
     "text": [
      "D:\\02 Git\\ml-med\\utils.py:84: FutureWarning:\n",
      "\n",
      "pd.rolling_quantile is deprecated for Series and will be removed in a future version, replace with \n",
      "\tSeries.rolling(window=600s,center=False,min_periods=0).quantile(quantile=0.1)\n",
      "\n",
      "D:\\02 Git\\ml-med\\utils.py:89: FutureWarning:\n",
      "\n",
      "pd.rolling_mean is deprecated for Series and will be removed in a future version, replace with \n",
      "\tSeries.rolling(window=600s,min_periods=0,center=False).mean()\n",
      "\n"
     ]
    }
   ],
   "source": [
    "col = ['SpO2', 'Inspired Tidal Volume', 'Mean Airway Pressure', 'Respiratory Rate']\n",
    "df_1, features_delta = moving_trim_avg(df, col = col)"
   ]
  },
  {
   "cell_type": "code",
   "execution_count": 7,
   "metadata": {},
   "outputs": [
    {
     "data": {
      "text/plain": [
       "['SpO2_change',\n",
       " 'Inspired Tidal Volume_change',\n",
       " 'Mean Airway Pressure_change',\n",
       " 'Respiratory Rate_change']"
      ]
     },
     "execution_count": 7,
     "metadata": {},
     "output_type": "execute_result"
    }
   ],
   "source": [
    "features_delta"
   ]
  },
  {
   "cell_type": "code",
   "execution_count": 11,
   "metadata": {
    "scrolled": true
   },
   "outputs": [
    {
     "name": "stderr",
     "output_type": "stream",
     "text": [
      "D:\\02 Git\\ml-med\\utils.py:174: SettingWithCopyWarning:\n",
      "\n",
      "\n",
      "A value is trying to be set on a copy of a slice from a DataFrame.\n",
      "Try using .loc[row_indexer,col_indexer] = value instead\n",
      "\n",
      "See the caveats in the documentation: http://pandas.pydata.org/pandas-docs/stable/indexing.html#indexing-view-versus-copy\n",
      "\n",
      "D:\\02 Git\\ml-med\\utils.py:175: SettingWithCopyWarning:\n",
      "\n",
      "\n",
      "A value is trying to be set on a copy of a slice from a DataFrame.\n",
      "Try using .loc[row_indexer,col_indexer] = value instead\n",
      "\n",
      "See the caveats in the documentation: http://pandas.pydata.org/pandas-docs/stable/indexing.html#indexing-view-versus-copy\n",
      "\n",
      "D:\\02 Git\\ml-med\\utils.py:176: SettingWithCopyWarning:\n",
      "\n",
      "\n",
      "A value is trying to be set on a copy of a slice from a DataFrame.\n",
      "Try using .loc[row_indexer,col_indexer] = value instead\n",
      "\n",
      "See the caveats in the documentation: http://pandas.pydata.org/pandas-docs/stable/indexing.html#indexing-view-versus-copy\n",
      "\n",
      "D:\\02 Git\\ml-med\\utils.py:177: SettingWithCopyWarning:\n",
      "\n",
      "\n",
      "A value is trying to be set on a copy of a slice from a DataFrame.\n",
      "Try using .loc[row_indexer,col_indexer] = value instead\n",
      "\n",
      "See the caveats in the documentation: http://pandas.pydata.org/pandas-docs/stable/indexing.html#indexing-view-versus-copy\n",
      "\n",
      "D:\\02 Git\\ml-med\\utils.py:182: FutureWarning:\n",
      "\n",
      "pd.rolling_sum is deprecated for Series and will be removed in a future version, replace with \n",
      "\tSeries.rolling(window=48,min_periods=0,center=False).sum()\n",
      "\n",
      "D:\\02 Git\\ml-med\\utils.py:183: FutureWarning:\n",
      "\n",
      "pd.rolling_sum is deprecated for Series and will be removed in a future version, replace with \n",
      "\tSeries.rolling(window=60,min_periods=0,center=False).sum()\n",
      "\n"
     ]
    },
    {
     "name": "stdout",
     "output_type": "stream",
     "text": [
      "Already created target(y)\n"
     ]
    }
   ],
   "source": [
    "data = check_y(df_1, delta_change=-3.0, start = 480, end = 600) "
   ]
  },
  {
   "cell_type": "code",
   "execution_count": 12,
   "metadata": {
    "scrolled": true
   },
   "outputs": [
    {
     "data": {
      "text/html": [
       "<div>\n",
       "<style>\n",
       "    .dataframe thead tr:only-child th {\n",
       "        text-align: right;\n",
       "    }\n",
       "\n",
       "    .dataframe thead th {\n",
       "        text-align: left;\n",
       "    }\n",
       "\n",
       "    .dataframe tbody tr th {\n",
       "        vertical-align: top;\n",
       "    }\n",
       "</style>\n",
       "<table border=\"1\" class=\"dataframe\">\n",
       "  <thead>\n",
       "    <tr style=\"text-align: right;\">\n",
       "      <th></th>\n",
       "      <th>dataset_datetime</th>\n",
       "      <th>dataset_location</th>\n",
       "      <th>SpO2</th>\n",
       "      <th>SpO2_change</th>\n",
       "      <th>Inspired Tidal Volume</th>\n",
       "      <th>Inspired Tidal Volume_change</th>\n",
       "      <th>Mean Airway Pressure_change</th>\n",
       "      <th>Respiratory Rate_change</th>\n",
       "    </tr>\n",
       "  </thead>\n",
       "  <tbody>\n",
       "    <tr>\n",
       "      <th>26053</th>\n",
       "      <td>2018-01-02 20:32:00</td>\n",
       "      <td>MICU2-6FL-B1</td>\n",
       "      <td>99.0</td>\n",
       "      <td>0.800000</td>\n",
       "      <td>393.500000</td>\n",
       "      <td>3.057778</td>\n",
       "      <td>-0.223611</td>\n",
       "      <td>-1.662500</td>\n",
       "    </tr>\n",
       "    <tr>\n",
       "      <th>26054</th>\n",
       "      <td>2018-01-02 20:32:10</td>\n",
       "      <td>MICU2-6FL-B1</td>\n",
       "      <td>99.0</td>\n",
       "      <td>0.783333</td>\n",
       "      <td>363.000000</td>\n",
       "      <td>-25.883889</td>\n",
       "      <td>-0.715278</td>\n",
       "      <td>-2.095833</td>\n",
       "    </tr>\n",
       "    <tr>\n",
       "      <th>26055</th>\n",
       "      <td>2018-01-02 20:32:20</td>\n",
       "      <td>MICU2-6FL-B1</td>\n",
       "      <td>99.0</td>\n",
       "      <td>0.766667</td>\n",
       "      <td>311.250000</td>\n",
       "      <td>-72.843611</td>\n",
       "      <td>0.530556</td>\n",
       "      <td>-0.062500</td>\n",
       "    </tr>\n",
       "    <tr>\n",
       "      <th>26056</th>\n",
       "      <td>2018-01-02 20:32:30</td>\n",
       "      <td>MICU2-6FL-B1</td>\n",
       "      <td>99.0</td>\n",
       "      <td>0.766667</td>\n",
       "      <td>314.666667</td>\n",
       "      <td>-66.671389</td>\n",
       "      <td>-0.375000</td>\n",
       "      <td>0.929167</td>\n",
       "    </tr>\n",
       "    <tr>\n",
       "      <th>26057</th>\n",
       "      <td>2018-01-02 20:32:40</td>\n",
       "      <td>MICU2-6FL-B1</td>\n",
       "      <td>99.0</td>\n",
       "      <td>0.766667</td>\n",
       "      <td>306.333333</td>\n",
       "      <td>-72.926944</td>\n",
       "      <td>-0.036111</td>\n",
       "      <td>0.912500</td>\n",
       "    </tr>\n",
       "    <tr>\n",
       "      <th>26058</th>\n",
       "      <td>2018-01-02 20:32:50</td>\n",
       "      <td>MICU2-6FL-B1</td>\n",
       "      <td>99.0</td>\n",
       "      <td>0.750000</td>\n",
       "      <td>379.000000</td>\n",
       "      <td>0.106389</td>\n",
       "      <td>-0.686111</td>\n",
       "      <td>0.890278</td>\n",
       "    </tr>\n",
       "    <tr>\n",
       "      <th>26059</th>\n",
       "      <td>2018-01-02 20:33:00</td>\n",
       "      <td>MICU2-6FL-B1</td>\n",
       "      <td>99.0</td>\n",
       "      <td>0.733333</td>\n",
       "      <td>242.500000</td>\n",
       "      <td>-134.568611</td>\n",
       "      <td>-0.194444</td>\n",
       "      <td>1.356944</td>\n",
       "    </tr>\n",
       "    <tr>\n",
       "      <th>26060</th>\n",
       "      <td>2018-01-02 20:33:10</td>\n",
       "      <td>MICU2-6FL-B1</td>\n",
       "      <td>99.0</td>\n",
       "      <td>0.716667</td>\n",
       "      <td>314.250000</td>\n",
       "      <td>-62.756111</td>\n",
       "      <td>0.294444</td>\n",
       "      <td>1.818056</td>\n",
       "    </tr>\n",
       "    <tr>\n",
       "      <th>26061</th>\n",
       "      <td>2018-01-02 20:33:20</td>\n",
       "      <td>MICU2-6FL-B1</td>\n",
       "      <td>99.0</td>\n",
       "      <td>0.700000</td>\n",
       "      <td>273.000000</td>\n",
       "      <td>-99.681111</td>\n",
       "      <td>-0.197222</td>\n",
       "      <td>2.259722</td>\n",
       "    </tr>\n",
       "    <tr>\n",
       "      <th>26062</th>\n",
       "      <td>2018-01-02 20:33:30</td>\n",
       "      <td>MICU2-6FL-B1</td>\n",
       "      <td>99.0</td>\n",
       "      <td>0.683333</td>\n",
       "      <td>270.000000</td>\n",
       "      <td>-100.947778</td>\n",
       "      <td>0.302778</td>\n",
       "      <td>2.201389</td>\n",
       "    </tr>\n",
       "    <tr>\n",
       "      <th>26063</th>\n",
       "      <td>2018-01-02 20:33:40</td>\n",
       "      <td>MICU2-6FL-B1</td>\n",
       "      <td>99.0</td>\n",
       "      <td>0.683333</td>\n",
       "      <td>310.750000</td>\n",
       "      <td>-57.971389</td>\n",
       "      <td>0.302778</td>\n",
       "      <td>2.388889</td>\n",
       "    </tr>\n",
       "    <tr>\n",
       "      <th>26064</th>\n",
       "      <td>2018-01-02 20:33:50</td>\n",
       "      <td>MICU2-6FL-B1</td>\n",
       "      <td>99.0</td>\n",
       "      <td>0.666667</td>\n",
       "      <td>258.666667</td>\n",
       "      <td>-109.165833</td>\n",
       "      <td>-0.033333</td>\n",
       "      <td>2.916667</td>\n",
       "    </tr>\n",
       "    <tr>\n",
       "      <th>34396</th>\n",
       "      <td>2018-01-03 22:24:20</td>\n",
       "      <td>MICU2-6FL-B1</td>\n",
       "      <td>100.0</td>\n",
       "      <td>0.800000</td>\n",
       "      <td>324.250000</td>\n",
       "      <td>-333.486667</td>\n",
       "      <td>0.145833</td>\n",
       "      <td>3.270833</td>\n",
       "    </tr>\n",
       "    <tr>\n",
       "      <th>34397</th>\n",
       "      <td>2018-01-03 22:24:30</td>\n",
       "      <td>MICU2-6FL-B1</td>\n",
       "      <td>100.0</td>\n",
       "      <td>0.766667</td>\n",
       "      <td>603.000000</td>\n",
       "      <td>-52.130159</td>\n",
       "      <td>0.376984</td>\n",
       "      <td>1.448413</td>\n",
       "    </tr>\n",
       "    <tr>\n",
       "      <th>34398</th>\n",
       "      <td>2018-01-03 22:24:40</td>\n",
       "      <td>MICU2-6FL-B1</td>\n",
       "      <td>100.0</td>\n",
       "      <td>0.750000</td>\n",
       "      <td>672.500000</td>\n",
       "      <td>16.580303</td>\n",
       "      <td>0.598485</td>\n",
       "      <td>1.382576</td>\n",
       "    </tr>\n",
       "    <tr>\n",
       "      <th>34399</th>\n",
       "      <td>2018-01-03 22:24:50</td>\n",
       "      <td>MICU2-6FL-B1</td>\n",
       "      <td>100.0</td>\n",
       "      <td>0.750000</td>\n",
       "      <td>593.000000</td>\n",
       "      <td>-60.184058</td>\n",
       "      <td>0.333333</td>\n",
       "      <td>1.800725</td>\n",
       "    </tr>\n",
       "    <tr>\n",
       "      <th>34400</th>\n",
       "      <td>2018-01-03 22:25:00</td>\n",
       "      <td>MICU2-6FL-B1</td>\n",
       "      <td>100.0</td>\n",
       "      <td>0.750000</td>\n",
       "      <td>611.000000</td>\n",
       "      <td>-40.426389</td>\n",
       "      <td>0.319444</td>\n",
       "      <td>1.725694</td>\n",
       "    </tr>\n",
       "    <tr>\n",
       "      <th>34401</th>\n",
       "      <td>2018-01-03 22:25:10</td>\n",
       "      <td>MICU2-6FL-B1</td>\n",
       "      <td>100.0</td>\n",
       "      <td>0.750000</td>\n",
       "      <td>597.250000</td>\n",
       "      <td>-52.009333</td>\n",
       "      <td>0.306667</td>\n",
       "      <td>1.416667</td>\n",
       "    </tr>\n",
       "    <tr>\n",
       "      <th>34402</th>\n",
       "      <td>2018-01-03 22:25:20</td>\n",
       "      <td>MICU2-6FL-B1</td>\n",
       "      <td>100.0</td>\n",
       "      <td>0.750000</td>\n",
       "      <td>597.750000</td>\n",
       "      <td>-49.528205</td>\n",
       "      <td>0.294872</td>\n",
       "      <td>0.160256</td>\n",
       "    </tr>\n",
       "    <tr>\n",
       "      <th>34403</th>\n",
       "      <td>2018-01-03 22:25:30</td>\n",
       "      <td>MICU2-6FL-B1</td>\n",
       "      <td>100.0</td>\n",
       "      <td>0.750000</td>\n",
       "      <td>600.000000</td>\n",
       "      <td>-45.527160</td>\n",
       "      <td>0.283951</td>\n",
       "      <td>-0.327160</td>\n",
       "    </tr>\n",
       "  </tbody>\n",
       "</table>\n",
       "</div>"
      ],
      "text/plain": [
       "         dataset_datetime dataset_location   SpO2  SpO2_change  \\\n",
       "26053 2018-01-02 20:32:00     MICU2-6FL-B1   99.0     0.800000   \n",
       "26054 2018-01-02 20:32:10     MICU2-6FL-B1   99.0     0.783333   \n",
       "26055 2018-01-02 20:32:20     MICU2-6FL-B1   99.0     0.766667   \n",
       "26056 2018-01-02 20:32:30     MICU2-6FL-B1   99.0     0.766667   \n",
       "26057 2018-01-02 20:32:40     MICU2-6FL-B1   99.0     0.766667   \n",
       "26058 2018-01-02 20:32:50     MICU2-6FL-B1   99.0     0.750000   \n",
       "26059 2018-01-02 20:33:00     MICU2-6FL-B1   99.0     0.733333   \n",
       "26060 2018-01-02 20:33:10     MICU2-6FL-B1   99.0     0.716667   \n",
       "26061 2018-01-02 20:33:20     MICU2-6FL-B1   99.0     0.700000   \n",
       "26062 2018-01-02 20:33:30     MICU2-6FL-B1   99.0     0.683333   \n",
       "26063 2018-01-02 20:33:40     MICU2-6FL-B1   99.0     0.683333   \n",
       "26064 2018-01-02 20:33:50     MICU2-6FL-B1   99.0     0.666667   \n",
       "34396 2018-01-03 22:24:20     MICU2-6FL-B1  100.0     0.800000   \n",
       "34397 2018-01-03 22:24:30     MICU2-6FL-B1  100.0     0.766667   \n",
       "34398 2018-01-03 22:24:40     MICU2-6FL-B1  100.0     0.750000   \n",
       "34399 2018-01-03 22:24:50     MICU2-6FL-B1  100.0     0.750000   \n",
       "34400 2018-01-03 22:25:00     MICU2-6FL-B1  100.0     0.750000   \n",
       "34401 2018-01-03 22:25:10     MICU2-6FL-B1  100.0     0.750000   \n",
       "34402 2018-01-03 22:25:20     MICU2-6FL-B1  100.0     0.750000   \n",
       "34403 2018-01-03 22:25:30     MICU2-6FL-B1  100.0     0.750000   \n",
       "\n",
       "       Inspired Tidal Volume  Inspired Tidal Volume_change  \\\n",
       "26053             393.500000                      3.057778   \n",
       "26054             363.000000                    -25.883889   \n",
       "26055             311.250000                    -72.843611   \n",
       "26056             314.666667                    -66.671389   \n",
       "26057             306.333333                    -72.926944   \n",
       "26058             379.000000                      0.106389   \n",
       "26059             242.500000                   -134.568611   \n",
       "26060             314.250000                    -62.756111   \n",
       "26061             273.000000                    -99.681111   \n",
       "26062             270.000000                   -100.947778   \n",
       "26063             310.750000                    -57.971389   \n",
       "26064             258.666667                   -109.165833   \n",
       "34396             324.250000                   -333.486667   \n",
       "34397             603.000000                    -52.130159   \n",
       "34398             672.500000                     16.580303   \n",
       "34399             593.000000                    -60.184058   \n",
       "34400             611.000000                    -40.426389   \n",
       "34401             597.250000                    -52.009333   \n",
       "34402             597.750000                    -49.528205   \n",
       "34403             600.000000                    -45.527160   \n",
       "\n",
       "       Mean Airway Pressure_change  Respiratory Rate_change  \n",
       "26053                    -0.223611                -1.662500  \n",
       "26054                    -0.715278                -2.095833  \n",
       "26055                     0.530556                -0.062500  \n",
       "26056                    -0.375000                 0.929167  \n",
       "26057                    -0.036111                 0.912500  \n",
       "26058                    -0.686111                 0.890278  \n",
       "26059                    -0.194444                 1.356944  \n",
       "26060                     0.294444                 1.818056  \n",
       "26061                    -0.197222                 2.259722  \n",
       "26062                     0.302778                 2.201389  \n",
       "26063                     0.302778                 2.388889  \n",
       "26064                    -0.033333                 2.916667  \n",
       "34396                     0.145833                 3.270833  \n",
       "34397                     0.376984                 1.448413  \n",
       "34398                     0.598485                 1.382576  \n",
       "34399                     0.333333                 1.800725  \n",
       "34400                     0.319444                 1.725694  \n",
       "34401                     0.306667                 1.416667  \n",
       "34402                     0.294872                 0.160256  \n",
       "34403                     0.283951                -0.327160  "
      ]
     },
     "execution_count": 12,
     "metadata": {},
     "output_type": "execute_result"
    }
   ],
   "source": [
    "data[data['y_flag'] == 1][['dataset_datetime', 'dataset_location', 'SpO2', 'SpO2_change', 'Inspired Tidal Volume', 'Inspired Tidal Volume_change', 'Mean Airway Pressure_change', 'Respiratory Rate_change']].head(20)"
   ]
  },
  {
   "cell_type": "code",
   "execution_count": 26,
   "metadata": {
    "scrolled": true
   },
   "outputs": [
    {
     "name": "stdout",
     "output_type": "stream",
     "text": [
      "Already created moving average features -------------------------------------------------------\n",
      "Already created avg and sd of features at 0 secs before \n",
      "Already created avg and sd of features at 300 secs before \n",
      "Already created avg and sd of features at 600 secs before \n",
      "Already created avg and sd of features at 900 secs before \n",
      "Already created avg and sd of features at 1200 secs before \n",
      "Already created avg and sd of features at 1500 secs before \n",
      "y_flag\n",
      "0    294978\n",
      "1       683\n",
      "dtype: int64\n"
     ]
    }
   ],
   "source": [
    "cols = ['Respiratory Rate', 'Mean Airway Pressure', 'Inspired Tidal Volume', 'SpO2', 'Heart Rate', 'Extrinsic PEEP', 'Pulse Rate']\n",
    "data1, features = create_features(data, t_before='300s', t_moving='180s', n_before = 6, cols = cols)\n",
    "data1 = data1[data1['SpO2'].isnull() == False]\n",
    "print(data1.groupby(['y_flag']).size())"
   ]
  },
  {
   "cell_type": "code",
   "execution_count": 15,
   "metadata": {},
   "outputs": [
    {
     "data": {
      "text/plain": [
       "dataset_location\n",
       "MICU2-6FL-B1     72\n",
       "MICU2-6FL-B2     99\n",
       "MICU2-6FL-B3     18\n",
       "MICU2-6FL-B5    494\n",
       "dtype: int64"
      ]
     },
     "execution_count": 15,
     "metadata": {},
     "output_type": "execute_result"
    }
   ],
   "source": [
    "data1[data1['y_flag'] == 1].groupby(by = ['dataset_location']).size()"
   ]
  },
  {
   "cell_type": "code",
   "execution_count": 16,
   "metadata": {},
   "outputs": [
    {
     "name": "stderr",
     "output_type": "stream",
     "text": [
      "C:\\Users\\AIE\\Anaconda3\\lib\\site-packages\\sklearn\\cross_validation.py:41: DeprecationWarning:\n",
      "\n",
      "This module was deprecated in version 0.18 in favor of the model_selection module into which all the refactored classes and functions are moved. Also note that the interface of the new CV iterators are different from that of this module. This module will be removed in 0.20.\n",
      "\n"
     ]
    }
   ],
   "source": [
    "import xgboost as xgb\n",
    "from xgboost import XGBClassifier\n",
    "\n",
    "from sklearn.model_selection import train_test_split\n",
    "from sklearn.model_selection import StratifiedShuffleSplit\n",
    "from sklearn.model_selection import StratifiedKFold\n",
    "from sklearn import cross_validation, metrics\n",
    "from sklearn.metrics import accuracy_score, roc_curve, auc, roc_auc_score\n",
    "\n",
    "from imblearn.over_sampling import ADASYN\n",
    "from imblearn.over_sampling import SMOTE\n",
    "from imblearn.under_sampling import RandomUnderSampler\n",
    "import pickle"
   ]
  },
  {
   "cell_type": "code",
   "execution_count": 17,
   "metadata": {},
   "outputs": [],
   "source": [
    "def roc_auc(x_test, y_test):\n",
    "    from sklearn.metrics import roc_curve, auc, roc_auc_score\n",
    "\n",
    "    pred_prob = Model.predict_proba(x_test)\n",
    "    fpr, tpr, thresholds = roc_curve(y_test, pred_prob[:, 1])\n",
    "    roc_auc = auc(fpr, tpr)\n",
    "    return fpr, tpr, thresholds, roc_auc\n",
    "\n",
    "def roc_curve(fpr, tpr, thresholds, roc_auc):\n",
    "    plt.figure(figsize=(15, 10), dpi= 80, facecolor='w', edgecolor='k')\n",
    "    plt.plot(fpr, tpr, label='ROC curve (area = %0.2f)' % (roc_auc))\n",
    "    plt.plot([0, 1], [0, 1], 'k--')\n",
    "    plt.xlim([0.0, 1.0])\n",
    "    plt.ylim([0.0, 1.05])\n",
    "    plt.xlabel('False Positive Rate', fontsize=14)\n",
    "    plt.ylabel('True Positive Rate', fontsize=14)\n",
    "    plt.title('Receiver operating characteristic', fontsize=18)\n",
    "    plt.legend(loc=\"lower right\", prop={'size': 14})\n",
    "\n",
    "    # create the axis of thresholds (scores)\n",
    "    ax2 = plt.gca().twinx()\n",
    "    ax2.plot(fpr, thresholds, markeredgecolor='r',linestyle='dashed', color='r')\n",
    "    ax2.set_ylabel('Threshold',color='r', fontsize=14)\n",
    "    ax2.tick_params(labelsize = 12)\n",
    "    ax2.set_ylim([thresholds[-1],thresholds[0]])\n",
    "    ax2.set_xlim([fpr[0],fpr[-1]])\n",
    "\n",
    "    plt.show()\n",
    "    plt.savefig('roc_and_threshold.png')\n",
    "    plt.close()"
   ]
  },
  {
   "cell_type": "code",
   "execution_count": 27,
   "metadata": {
    "collapsed": true
   },
   "outputs": [],
   "source": [
    "def roc_curve(x_test, y_test):\n",
    "    \n",
    "    from sklearn.metrics import roc_curve, auc, roc_auc_score\n",
    "\n",
    "    pred_prob = Model.predict_proba(x_test)\n",
    "    fpr, tpr, thresholds = roc_curve(y_test, pred_prob[:, 1])\n",
    "    roc_auc = auc(fpr, tpr)\n",
    "    \n",
    "    plt.figure(figsize=(15, 10), dpi= 80, facecolor='w', edgecolor='k')\n",
    "    plt.plot(fpr, tpr, label='ROC curve (area = %0.2f)' % (roc_auc))\n",
    "    plt.plot([0, 1], [0, 1], 'k--')\n",
    "    plt.xlim([0.0, 1.0])\n",
    "    plt.ylim([0.0, 1.05])\n",
    "    plt.xlabel('False Positive Rate', fontsize=14)\n",
    "    plt.ylabel('True Positive Rate', fontsize=14)\n",
    "    plt.title('Receiver operating characteristic', fontsize=18)\n",
    "    plt.legend(loc=\"lower right\", prop={'size': 14})\n",
    "\n",
    "    # create the axis of thresholds (scores)\n",
    "    ax2 = plt.gca().twinx()\n",
    "    ax2.plot(fpr, thresholds, markeredgecolor='r',linestyle='dashed', color='r')\n",
    "    ax2.set_ylabel('Threshold',color='r', fontsize=14)\n",
    "    ax2.tick_params(labelsize = 12)\n",
    "    ax2.set_ylim([thresholds[-1],thresholds[0]])\n",
    "    ax2.set_xlim([fpr[0],fpr[-1]])\n",
    "\n",
    "    plt.show()\n",
    "    plt.savefig('roc_and_threshold.png')\n",
    "    plt.close()"
   ]
  },
  {
   "cell_type": "code",
   "execution_count": 28,
   "metadata": {
    "collapsed": true
   },
   "outputs": [],
   "source": [
    "path = 'D:/02 Git/ml-med'\n",
    "\n",
    "def under_sampling(labels, p):\n",
    "    negative_idx = np.random.choice(np.where(labels == 0)[0], size=int(len(labels)*p), replace=False)\n",
    "    positive_idx = np.where(labels==1)[0]\n",
    "    return np.concatenate([negative_idx, positive_idx])\n",
    "\n",
    "def model(train_data, test_data, features, early_stopping = 10, undersamp_ratio = 0.5):\n",
    "    \n",
    "    x_train = train_data[features].as_matrix()\n",
    "    y_train = train_data['y_flag'].as_matrix()\n",
    "    \n",
    "    x_test = test_data[features].as_matrix()\n",
    "    y_test = test_data['y_flag'].as_matrix()\n",
    "    \n",
    "    # undersampling\n",
    "    resampled_idx = under_sampling(y_train, undersamp_ratio)\n",
    "    x_resampled, y_resampled = x_train[resampled_idx], y_train[resampled_idx]\n",
    "\n",
    "    # oversampling\n",
    "    sm = SMOTE(random_state = 12, ratio = 0.5)\n",
    "    x_train, y_train = sm.fit_sample(x_resampled, y_resampled)\n",
    "    print('before oversampling : ', np.bincount(y_resampled))\n",
    "    print('after oversampling : ', np.bincount(y_train))\n",
    "    \n",
    "    # training dataset and validation dataset\n",
    "#     TrainTest = StratifiedShuffleSplit(n_splits = 1, test_size = 0.1, random_state = 42)\n",
    "#     for train_index, test_index in TrainTest.split(x_train, y_train):\n",
    "#         print(\"TRAIN:\", train_index, \"TEST:\", test_index)\n",
    "#         x_training, x_validation = x_train[train_index], x_train[test_index]\n",
    "#         y_training, y_validation = y_train[train_index], y_train[test_index]\n",
    "#         print('y_training : ', np.bincount(y_training))\n",
    "#         print('y_validation : ', np.bincount(y_validation))\n",
    "    \n",
    "    # fit Model\n",
    "    Model = XGBClassifier()\n",
    "    eval_set = [(x_train, y_train), (x_test, y_test)]\n",
    "    (Model.fit(x_train, y_train\n",
    "               , early_stopping_rounds = early_stopping\n",
    "               , eval_metric = [\"auc\"]\n",
    "               , eval_set = eval_set\n",
    "#                , n_estimators = 1000\n",
    "               , verbose = True)\n",
    "    )\n",
    "    \n",
    "    # predict\n",
    "    print(Model)\n",
    "    y_predict = Model.predict(x_test)\n",
    "    prediction = [round(value) for value in y_predict]\n",
    "\n",
    "    y_predprob = Model.predict_proba(x_test)\n",
    "    \n",
    "    print(\"AUC Score (test): %f\" %(metrics.roc_auc_score(y_test, prediction)))\n",
    "    \n",
    "    importance_frame = pd.DataFrame({'Importance': list(Model.feature_importances_), 'Feature': list(features)})\n",
    "    importance_frame.sort_values(by = 'Importance', inplace = True)\n",
    "    importance_frame.plot(kind = 'barh', x = 'Feature', figsize = (8,8), color = 'orange')\n",
    "    return x_test, y_test, prediction, Model\n",
    "    "
   ]
  },
  {
   "cell_type": "code",
   "execution_count": 30,
   "metadata": {
    "scrolled": true
   },
   "outputs": [
    {
     "name": "stdout",
     "output_type": "stream",
     "text": [
      "location for test ['MICU2-6FL-B1', 'MICU2-6FL-B1']\n",
      "[y=1/train : 611/213902 = 0.002856] [y=1/test : 72/81759 = 0.000881]\n"
     ]
    },
    {
     "ename": "ValueError",
     "evalue": "Input contains NaN, infinity or a value too large for dtype('float64').",
     "output_type": "error",
     "traceback": [
      "\u001b[1;31m---------------------------------------------------------------------------\u001b[0m",
      "\u001b[1;31mValueError\u001b[0m                                Traceback (most recent call last)",
      "\u001b[1;32m<ipython-input-30-4908c5021bf0>\u001b[0m in \u001b[0;36m<module>\u001b[1;34m()\u001b[0m\n\u001b[0;32m     11\u001b[0m     \u001b[0mprint\u001b[0m\u001b[1;33m(\u001b[0m\u001b[1;34m\"[y=1/train : %d/%d = %f] [y=1/test : %d/%d = %f]\"\u001b[0m \u001b[1;33m%\u001b[0m\u001b[1;33m(\u001b[0m\u001b[0mlen\u001b[0m\u001b[1;33m(\u001b[0m\u001b[0mtrain_data\u001b[0m\u001b[1;33m[\u001b[0m\u001b[0mtrain_data\u001b[0m\u001b[1;33m[\u001b[0m\u001b[1;34m'y_flag'\u001b[0m\u001b[1;33m]\u001b[0m \u001b[1;33m==\u001b[0m \u001b[1;36m1\u001b[0m\u001b[1;33m]\u001b[0m\u001b[1;33m)\u001b[0m\u001b[1;33m,\u001b[0m \u001b[0mlen\u001b[0m\u001b[1;33m(\u001b[0m\u001b[0mtrain_data\u001b[0m\u001b[1;33m)\u001b[0m\u001b[1;33m,\u001b[0m \u001b[0mlen\u001b[0m\u001b[1;33m(\u001b[0m\u001b[0mtrain_data\u001b[0m\u001b[1;33m[\u001b[0m\u001b[0mtrain_data\u001b[0m\u001b[1;33m[\u001b[0m\u001b[1;34m'y_flag'\u001b[0m\u001b[1;33m]\u001b[0m \u001b[1;33m==\u001b[0m \u001b[1;36m1\u001b[0m\u001b[1;33m]\u001b[0m\u001b[1;33m)\u001b[0m\u001b[1;33m/\u001b[0m\u001b[0mlen\u001b[0m\u001b[1;33m(\u001b[0m\u001b[0mtrain_data\u001b[0m\u001b[1;33m)\u001b[0m\u001b[1;33m,\u001b[0m \u001b[0mlen\u001b[0m\u001b[1;33m(\u001b[0m\u001b[0mtest_data\u001b[0m\u001b[1;33m[\u001b[0m\u001b[0mtest_data\u001b[0m\u001b[1;33m[\u001b[0m\u001b[1;34m'y_flag'\u001b[0m\u001b[1;33m]\u001b[0m \u001b[1;33m==\u001b[0m \u001b[1;36m1\u001b[0m\u001b[1;33m]\u001b[0m\u001b[1;33m)\u001b[0m\u001b[1;33m,\u001b[0m \u001b[0mlen\u001b[0m\u001b[1;33m(\u001b[0m\u001b[0mtest_data\u001b[0m\u001b[1;33m)\u001b[0m\u001b[1;33m,\u001b[0m \u001b[0mlen\u001b[0m\u001b[1;33m(\u001b[0m\u001b[0mtest_data\u001b[0m\u001b[1;33m[\u001b[0m\u001b[0mtest_data\u001b[0m\u001b[1;33m[\u001b[0m\u001b[1;34m'y_flag'\u001b[0m\u001b[1;33m]\u001b[0m \u001b[1;33m==\u001b[0m \u001b[1;36m1\u001b[0m\u001b[1;33m]\u001b[0m\u001b[1;33m)\u001b[0m\u001b[1;33m/\u001b[0m\u001b[0mlen\u001b[0m\u001b[1;33m(\u001b[0m\u001b[0mtest_data\u001b[0m\u001b[1;33m)\u001b[0m\u001b[1;33m)\u001b[0m\u001b[1;33m)\u001b[0m\u001b[1;33m\u001b[0m\u001b[0m\n\u001b[0;32m     12\u001b[0m \u001b[1;33m\u001b[0m\u001b[0m\n\u001b[1;32m---> 13\u001b[1;33m     \u001b[0mx_test\u001b[0m\u001b[1;33m,\u001b[0m \u001b[0my_test\u001b[0m\u001b[1;33m,\u001b[0m \u001b[0mprediction\u001b[0m\u001b[1;33m,\u001b[0m \u001b[0mModel\u001b[0m \u001b[1;33m=\u001b[0m \u001b[0mmodel\u001b[0m\u001b[1;33m(\u001b[0m\u001b[0mtrain_data\u001b[0m\u001b[1;33m,\u001b[0m \u001b[0mtest_data\u001b[0m\u001b[1;33m,\u001b[0m \u001b[0mfeatures\u001b[0m\u001b[1;33m,\u001b[0m \u001b[0mearly_stopping\u001b[0m \u001b[1;33m=\u001b[0m \u001b[1;36m50\u001b[0m\u001b[1;33m,\u001b[0m \u001b[0mundersamp_ratio\u001b[0m \u001b[1;33m=\u001b[0m \u001b[1;36m0.5\u001b[0m\u001b[1;33m)\u001b[0m\u001b[1;33m\u001b[0m\u001b[0m\n\u001b[0m\u001b[0;32m     14\u001b[0m \u001b[1;31m#     fpr, tpr, thresholds, roc_auc = roc_auc(x_test, y_test)\u001b[0m\u001b[1;33m\u001b[0m\u001b[1;33m\u001b[0m\u001b[0m\n\u001b[0;32m     15\u001b[0m \u001b[1;31m#     roc_curve(fpr, tpr, thresholds, roc_auc)\u001b[0m\u001b[1;33m\u001b[0m\u001b[1;33m\u001b[0m\u001b[0m\n",
      "\u001b[1;32m<ipython-input-28-da952d62cb9f>\u001b[0m in \u001b[0;36mmodel\u001b[1;34m(train_data, test_data, features, early_stopping, undersamp_ratio)\u001b[0m\n\u001b[0;32m     20\u001b[0m     \u001b[1;31m# oversampling\u001b[0m\u001b[1;33m\u001b[0m\u001b[1;33m\u001b[0m\u001b[0m\n\u001b[0;32m     21\u001b[0m     \u001b[0msm\u001b[0m \u001b[1;33m=\u001b[0m \u001b[0mSMOTE\u001b[0m\u001b[1;33m(\u001b[0m\u001b[0mrandom_state\u001b[0m \u001b[1;33m=\u001b[0m \u001b[1;36m12\u001b[0m\u001b[1;33m,\u001b[0m \u001b[0mratio\u001b[0m \u001b[1;33m=\u001b[0m \u001b[1;36m0.5\u001b[0m\u001b[1;33m)\u001b[0m\u001b[1;33m\u001b[0m\u001b[0m\n\u001b[1;32m---> 22\u001b[1;33m     \u001b[0mx_train\u001b[0m\u001b[1;33m,\u001b[0m \u001b[0my_train\u001b[0m \u001b[1;33m=\u001b[0m \u001b[0msm\u001b[0m\u001b[1;33m.\u001b[0m\u001b[0mfit_sample\u001b[0m\u001b[1;33m(\u001b[0m\u001b[0mx_resampled\u001b[0m\u001b[1;33m,\u001b[0m \u001b[0my_resampled\u001b[0m\u001b[1;33m)\u001b[0m\u001b[1;33m\u001b[0m\u001b[0m\n\u001b[0m\u001b[0;32m     23\u001b[0m     \u001b[0mprint\u001b[0m\u001b[1;33m(\u001b[0m\u001b[1;34m'before oversampling : '\u001b[0m\u001b[1;33m,\u001b[0m \u001b[0mnp\u001b[0m\u001b[1;33m.\u001b[0m\u001b[0mbincount\u001b[0m\u001b[1;33m(\u001b[0m\u001b[0my_resampled\u001b[0m\u001b[1;33m)\u001b[0m\u001b[1;33m)\u001b[0m\u001b[1;33m\u001b[0m\u001b[0m\n\u001b[0;32m     24\u001b[0m     \u001b[0mprint\u001b[0m\u001b[1;33m(\u001b[0m\u001b[1;34m'after oversampling : '\u001b[0m\u001b[1;33m,\u001b[0m \u001b[0mnp\u001b[0m\u001b[1;33m.\u001b[0m\u001b[0mbincount\u001b[0m\u001b[1;33m(\u001b[0m\u001b[0my_train\u001b[0m\u001b[1;33m)\u001b[0m\u001b[1;33m)\u001b[0m\u001b[1;33m\u001b[0m\u001b[0m\n",
      "\u001b[1;32m~\\Anaconda3\\lib\\site-packages\\imblearn\\base.py\u001b[0m in \u001b[0;36mfit_sample\u001b[1;34m(self, X, y)\u001b[0m\n\u001b[0;32m     86\u001b[0m         \"\"\"\n\u001b[0;32m     87\u001b[0m \u001b[1;33m\u001b[0m\u001b[0m\n\u001b[1;32m---> 88\u001b[1;33m         \u001b[1;32mreturn\u001b[0m \u001b[0mself\u001b[0m\u001b[1;33m.\u001b[0m\u001b[0mfit\u001b[0m\u001b[1;33m(\u001b[0m\u001b[0mX\u001b[0m\u001b[1;33m,\u001b[0m \u001b[0my\u001b[0m\u001b[1;33m)\u001b[0m\u001b[1;33m.\u001b[0m\u001b[0msample\u001b[0m\u001b[1;33m(\u001b[0m\u001b[0mX\u001b[0m\u001b[1;33m,\u001b[0m \u001b[0my\u001b[0m\u001b[1;33m)\u001b[0m\u001b[1;33m\u001b[0m\u001b[0m\n\u001b[0m\u001b[0;32m     89\u001b[0m \u001b[1;33m\u001b[0m\u001b[0m\n\u001b[0;32m     90\u001b[0m     \u001b[1;33m@\u001b[0m\u001b[0mabstractmethod\u001b[0m\u001b[1;33m\u001b[0m\u001b[0m\n",
      "\u001b[1;32m~\\Anaconda3\\lib\\site-packages\\imblearn\\base.py\u001b[0m in \u001b[0;36mfit\u001b[1;34m(self, X, y)\u001b[0m\n\u001b[0;32m    155\u001b[0m \u001b[1;33m\u001b[0m\u001b[0m\n\u001b[0;32m    156\u001b[0m         \"\"\"\n\u001b[1;32m--> 157\u001b[1;33m         \u001b[0mX\u001b[0m\u001b[1;33m,\u001b[0m \u001b[0my\u001b[0m \u001b[1;33m=\u001b[0m \u001b[0mcheck_X_y\u001b[0m\u001b[1;33m(\u001b[0m\u001b[0mX\u001b[0m\u001b[1;33m,\u001b[0m \u001b[0my\u001b[0m\u001b[1;33m,\u001b[0m \u001b[0maccept_sparse\u001b[0m\u001b[1;33m=\u001b[0m\u001b[1;33m[\u001b[0m\u001b[1;34m'csr'\u001b[0m\u001b[1;33m,\u001b[0m \u001b[1;34m'csc'\u001b[0m\u001b[1;33m]\u001b[0m\u001b[1;33m)\u001b[0m\u001b[1;33m\u001b[0m\u001b[0m\n\u001b[0m\u001b[0;32m    158\u001b[0m         \u001b[0my\u001b[0m \u001b[1;33m=\u001b[0m \u001b[0mcheck_target_type\u001b[0m\u001b[1;33m(\u001b[0m\u001b[0my\u001b[0m\u001b[1;33m)\u001b[0m\u001b[1;33m\u001b[0m\u001b[0m\n\u001b[0;32m    159\u001b[0m         \u001b[0mself\u001b[0m\u001b[1;33m.\u001b[0m\u001b[0mX_hash_\u001b[0m\u001b[1;33m,\u001b[0m \u001b[0mself\u001b[0m\u001b[1;33m.\u001b[0m\u001b[0my_hash_\u001b[0m \u001b[1;33m=\u001b[0m \u001b[0mhash_X_y\u001b[0m\u001b[1;33m(\u001b[0m\u001b[0mX\u001b[0m\u001b[1;33m,\u001b[0m \u001b[0my\u001b[0m\u001b[1;33m)\u001b[0m\u001b[1;33m\u001b[0m\u001b[0m\n",
      "\u001b[1;32m~\\Anaconda3\\lib\\site-packages\\sklearn\\utils\\validation.py\u001b[0m in \u001b[0;36mcheck_X_y\u001b[1;34m(X, y, accept_sparse, dtype, order, copy, force_all_finite, ensure_2d, allow_nd, multi_output, ensure_min_samples, ensure_min_features, y_numeric, warn_on_dtype, estimator)\u001b[0m\n\u001b[0;32m    571\u001b[0m     X = check_array(X, accept_sparse, dtype, order, copy, force_all_finite,\n\u001b[0;32m    572\u001b[0m                     \u001b[0mensure_2d\u001b[0m\u001b[1;33m,\u001b[0m \u001b[0mallow_nd\u001b[0m\u001b[1;33m,\u001b[0m \u001b[0mensure_min_samples\u001b[0m\u001b[1;33m,\u001b[0m\u001b[1;33m\u001b[0m\u001b[0m\n\u001b[1;32m--> 573\u001b[1;33m                     ensure_min_features, warn_on_dtype, estimator)\n\u001b[0m\u001b[0;32m    574\u001b[0m     \u001b[1;32mif\u001b[0m \u001b[0mmulti_output\u001b[0m\u001b[1;33m:\u001b[0m\u001b[1;33m\u001b[0m\u001b[0m\n\u001b[0;32m    575\u001b[0m         y = check_array(y, 'csr', force_all_finite=True, ensure_2d=False,\n",
      "\u001b[1;32m~\\Anaconda3\\lib\\site-packages\\sklearn\\utils\\validation.py\u001b[0m in \u001b[0;36mcheck_array\u001b[1;34m(array, accept_sparse, dtype, order, copy, force_all_finite, ensure_2d, allow_nd, ensure_min_samples, ensure_min_features, warn_on_dtype, estimator)\u001b[0m\n\u001b[0;32m    451\u001b[0m                              % (array.ndim, estimator_name))\n\u001b[0;32m    452\u001b[0m         \u001b[1;32mif\u001b[0m \u001b[0mforce_all_finite\u001b[0m\u001b[1;33m:\u001b[0m\u001b[1;33m\u001b[0m\u001b[0m\n\u001b[1;32m--> 453\u001b[1;33m             \u001b[0m_assert_all_finite\u001b[0m\u001b[1;33m(\u001b[0m\u001b[0marray\u001b[0m\u001b[1;33m)\u001b[0m\u001b[1;33m\u001b[0m\u001b[0m\n\u001b[0m\u001b[0;32m    454\u001b[0m \u001b[1;33m\u001b[0m\u001b[0m\n\u001b[0;32m    455\u001b[0m     \u001b[0mshape_repr\u001b[0m \u001b[1;33m=\u001b[0m \u001b[0m_shape_repr\u001b[0m\u001b[1;33m(\u001b[0m\u001b[0marray\u001b[0m\u001b[1;33m.\u001b[0m\u001b[0mshape\u001b[0m\u001b[1;33m)\u001b[0m\u001b[1;33m\u001b[0m\u001b[0m\n",
      "\u001b[1;32m~\\Anaconda3\\lib\\site-packages\\sklearn\\utils\\validation.py\u001b[0m in \u001b[0;36m_assert_all_finite\u001b[1;34m(X)\u001b[0m\n\u001b[0;32m     42\u001b[0m             and not np.isfinite(X).all()):\n\u001b[0;32m     43\u001b[0m         raise ValueError(\"Input contains NaN, infinity\"\n\u001b[1;32m---> 44\u001b[1;33m                          \" or a value too large for %r.\" % X.dtype)\n\u001b[0m\u001b[0;32m     45\u001b[0m \u001b[1;33m\u001b[0m\u001b[0m\n\u001b[0;32m     46\u001b[0m \u001b[1;33m\u001b[0m\u001b[0m\n",
      "\u001b[1;31mValueError\u001b[0m: Input contains NaN, infinity or a value too large for dtype('float64')."
     ]
    }
   ],
   "source": [
    "features.extend(features_delta)\n",
    "auc = []\n",
    "for i in range(1, 3):\n",
    "    \n",
    "    import random\n",
    "    location_test = [list(data1['dataset_location'])[i] for i in sorted(random.sample(range(len(data1['dataset_location'])), 2)) ]\n",
    "    print('location for test %s' %location_test)\n",
    "\n",
    "    train_data = data1[~data1.dataset_location.isin(location_test)]\n",
    "    test_data = data1[data1.dataset_location.isin(location_test)]\n",
    "    print(\"[y=1/train : %d/%d = %f] [y=1/test : %d/%d = %f]\" %(len(train_data[train_data['y_flag'] == 1]), len(train_data), len(train_data[train_data['y_flag'] == 1])/len(train_data), len(test_data[test_data['y_flag'] == 1]), len(test_data), len(test_data[test_data['y_flag'] == 1])/len(test_data)))\n",
    "    \n",
    "    x_test, y_test, prediction, Model = model(train_data, test_data, features, early_stopping = 50, undersamp_ratio = 0.5)\n",
    "#     fpr, tpr, thresholds, roc_auc = roc_auc(x_test, y_test)\n",
    "#     roc_curve(fpr, tpr, thresholds, roc_auc)\n",
    "#     auc.append(roc_auc)\n",
    "    roc_curve(x_test, y_test)\n",
    "    print(\"-----------------------------------------------------------------------------------------------------------\")\n",
    "    print(\"-----------------------------------------------------------------------------------------------------------\")"
   ]
  },
  {
   "cell_type": "code",
   "execution_count": 32,
   "metadata": {
    "collapsed": true
   },
   "outputs": [],
   "source": [
    "from sklearn.metrics import roc_curve, auc, roc_auc_score\n",
    "pred_prob = Model.predict_proba(x_test)\n",
    "fpr, tpr, thresholds = roc_curve(y_test, pred_prob[:, 1])\n",
    "roc_auc = auc(fpr, tpr)"
   ]
  },
  {
   "cell_type": "code",
   "execution_count": 33,
   "metadata": {},
   "outputs": [
    {
     "data": {
      "text/plain": [
       "0.5114692762200993"
      ]
     },
     "execution_count": 33,
     "metadata": {},
     "output_type": "execute_result"
    }
   ],
   "source": [
    "roc_auc"
   ]
  },
  {
   "cell_type": "code",
   "execution_count": null,
   "metadata": {
    "collapsed": true
   },
   "outputs": [],
   "source": []
  },
  {
   "cell_type": "code",
   "execution_count": null,
   "metadata": {
    "collapsed": true
   },
   "outputs": [],
   "source": []
  },
  {
   "cell_type": "code",
   "execution_count": null,
   "metadata": {
    "collapsed": true
   },
   "outputs": [],
   "source": []
  },
  {
   "cell_type": "code",
   "execution_count": null,
   "metadata": {
    "collapsed": true
   },
   "outputs": [],
   "source": []
  },
  {
   "cell_type": "code",
   "execution_count": null,
   "metadata": {
    "collapsed": true
   },
   "outputs": [],
   "source": []
  },
  {
   "cell_type": "code",
   "execution_count": null,
   "metadata": {
    "collapsed": true
   },
   "outputs": [],
   "source": []
  },
  {
   "cell_type": "code",
   "execution_count": null,
   "metadata": {
    "collapsed": true
   },
   "outputs": [],
   "source": []
  },
  {
   "cell_type": "code",
   "execution_count": null,
   "metadata": {
    "collapsed": true
   },
   "outputs": [],
   "source": []
  },
  {
   "cell_type": "code",
   "execution_count": null,
   "metadata": {
    "collapsed": true
   },
   "outputs": [],
   "source": []
  },
  {
   "cell_type": "markdown",
   "metadata": {},
   "source": [
    "__Test__"
   ]
  },
  {
   "cell_type": "code",
   "execution_count": 5,
   "metadata": {
    "collapsed": true
   },
   "outputs": [
    {
     "ename": "ValueError",
     "evalue": "window must be an integer",
     "output_type": "error",
     "traceback": [
      "\u001b[1;31m---------------------------------------------------------------------------\u001b[0m",
      "\u001b[1;31mValueError\u001b[0m                                Traceback (most recent call last)",
      "\u001b[1;32m<ipython-input-5-96b1078c70d0>\u001b[0m in \u001b[0;36m<module>\u001b[1;34m()\u001b[0m\n\u001b[1;32m----> 1\u001b[1;33m \u001b[0mmean1\u001b[0m \u001b[1;33m=\u001b[0m \u001b[0mdf\u001b[0m\u001b[1;33m[\u001b[0m\u001b[0mdf\u001b[0m\u001b[1;33m[\u001b[0m\u001b[1;34m'dataset_location'\u001b[0m\u001b[1;33m]\u001b[0m \u001b[1;33m==\u001b[0m \u001b[1;34m'MICU2-6FL-B1'\u001b[0m\u001b[1;33m]\u001b[0m\u001b[1;33m.\u001b[0m\u001b[0mgroupby\u001b[0m\u001b[1;33m(\u001b[0m\u001b[1;33m[\u001b[0m\u001b[1;34m'dataset_location'\u001b[0m\u001b[1;33m]\u001b[0m\u001b[1;33m)\u001b[0m\u001b[1;33m[\u001b[0m\u001b[1;34m'ABPm'\u001b[0m\u001b[1;33m]\u001b[0m\u001b[1;33m.\u001b[0m\u001b[0mrolling\u001b[0m\u001b[1;33m(\u001b[0m\u001b[1;34m'900s'\u001b[0m\u001b[1;33m)\u001b[0m\u001b[1;33m.\u001b[0m\u001b[0mmean\u001b[0m\u001b[1;33m(\u001b[0m\u001b[1;33m)\u001b[0m\u001b[1;33m.\u001b[0m\u001b[0mreset_index\u001b[0m\u001b[1;33m(\u001b[0m\u001b[1;33m)\u001b[0m\u001b[1;33m\u001b[0m\u001b[0m\n\u001b[0m\u001b[0;32m      2\u001b[0m \u001b[0mmax1\u001b[0m \u001b[1;33m=\u001b[0m \u001b[0mdf\u001b[0m\u001b[1;33m[\u001b[0m\u001b[0mdf\u001b[0m\u001b[1;33m[\u001b[0m\u001b[1;34m'dataset_location'\u001b[0m\u001b[1;33m]\u001b[0m \u001b[1;33m==\u001b[0m \u001b[1;34m'MICU2-6FL-B1'\u001b[0m\u001b[1;33m]\u001b[0m\u001b[1;33m.\u001b[0m\u001b[0mgroupby\u001b[0m\u001b[1;33m(\u001b[0m\u001b[1;33m[\u001b[0m\u001b[1;34m'dataset_location'\u001b[0m\u001b[1;33m]\u001b[0m\u001b[1;33m)\u001b[0m\u001b[1;33m[\u001b[0m\u001b[1;34m'ABPm'\u001b[0m\u001b[1;33m]\u001b[0m\u001b[1;33m.\u001b[0m\u001b[0mrolling\u001b[0m\u001b[1;33m(\u001b[0m\u001b[1;34m'900s'\u001b[0m\u001b[1;33m)\u001b[0m\u001b[1;33m.\u001b[0m\u001b[0mmax\u001b[0m\u001b[1;33m(\u001b[0m\u001b[1;33m)\u001b[0m\u001b[1;33m.\u001b[0m\u001b[0mreset_index\u001b[0m\u001b[1;33m(\u001b[0m\u001b[1;33m)\u001b[0m\u001b[1;33m\u001b[0m\u001b[0m\n\u001b[0;32m      3\u001b[0m \u001b[0mmin1\u001b[0m \u001b[1;33m=\u001b[0m \u001b[0mdf\u001b[0m\u001b[1;33m[\u001b[0m\u001b[0mdf\u001b[0m\u001b[1;33m[\u001b[0m\u001b[1;34m'dataset_location'\u001b[0m\u001b[1;33m]\u001b[0m \u001b[1;33m==\u001b[0m \u001b[1;34m'MICU2-6FL-B1'\u001b[0m\u001b[1;33m]\u001b[0m\u001b[1;33m.\u001b[0m\u001b[0mgroupby\u001b[0m\u001b[1;33m(\u001b[0m\u001b[1;33m[\u001b[0m\u001b[1;34m'dataset_location'\u001b[0m\u001b[1;33m]\u001b[0m\u001b[1;33m)\u001b[0m\u001b[1;33m[\u001b[0m\u001b[1;34m'ABPm'\u001b[0m\u001b[1;33m]\u001b[0m\u001b[1;33m.\u001b[0m\u001b[0mrolling\u001b[0m\u001b[1;33m(\u001b[0m\u001b[1;34m'900s'\u001b[0m\u001b[1;33m)\u001b[0m\u001b[1;33m.\u001b[0m\u001b[0mmin\u001b[0m\u001b[1;33m(\u001b[0m\u001b[1;33m)\u001b[0m\u001b[1;33m.\u001b[0m\u001b[0mreset_index\u001b[0m\u001b[1;33m(\u001b[0m\u001b[1;33m)\u001b[0m\u001b[1;33m\u001b[0m\u001b[0m\n\u001b[0;32m      4\u001b[0m \u001b[0mmock_data\u001b[0m \u001b[1;33m=\u001b[0m \u001b[0mpd\u001b[0m\u001b[1;33m.\u001b[0m\u001b[0mmerge\u001b[0m\u001b[1;33m(\u001b[0m\u001b[0mmean1\u001b[0m\u001b[1;33m,\u001b[0m \u001b[0mmax1\u001b[0m\u001b[1;33m,\u001b[0m \u001b[0mhow\u001b[0m \u001b[1;33m=\u001b[0m \u001b[1;34m'left'\u001b[0m\u001b[1;33m,\u001b[0m \u001b[0mon\u001b[0m \u001b[1;33m=\u001b[0m \u001b[1;33m[\u001b[0m\u001b[1;34m'dataset_datetime'\u001b[0m\u001b[1;33m,\u001b[0m \u001b[1;34m'dataset_location'\u001b[0m\u001b[1;33m]\u001b[0m\u001b[1;33m)\u001b[0m\u001b[1;33m\u001b[0m\u001b[0m\n\u001b[0;32m      5\u001b[0m \u001b[0mmock_data\u001b[0m \u001b[1;33m=\u001b[0m \u001b[0mpd\u001b[0m\u001b[1;33m.\u001b[0m\u001b[0mmerge\u001b[0m\u001b[1;33m(\u001b[0m\u001b[0mmock_data\u001b[0m\u001b[1;33m,\u001b[0m \u001b[0mmin1\u001b[0m\u001b[1;33m,\u001b[0m \u001b[0mhow\u001b[0m \u001b[1;33m=\u001b[0m \u001b[1;34m'left'\u001b[0m\u001b[1;33m,\u001b[0m \u001b[0mon\u001b[0m \u001b[1;33m=\u001b[0m \u001b[1;33m[\u001b[0m\u001b[1;34m'dataset_datetime'\u001b[0m\u001b[1;33m,\u001b[0m \u001b[1;34m'dataset_location'\u001b[0m\u001b[1;33m]\u001b[0m\u001b[1;33m)\u001b[0m\u001b[1;33m\u001b[0m\u001b[0m\n",
      "\u001b[1;32m~\\Anaconda3\\lib\\site-packages\\pandas\\core\\groupby.py\u001b[0m in \u001b[0;36mrolling\u001b[1;34m(self, *args, **kwargs)\u001b[0m\n\u001b[0;32m   1241\u001b[0m         \"\"\"\n\u001b[0;32m   1242\u001b[0m         \u001b[1;32mfrom\u001b[0m \u001b[0mpandas\u001b[0m\u001b[1;33m.\u001b[0m\u001b[0mcore\u001b[0m\u001b[1;33m.\u001b[0m\u001b[0mwindow\u001b[0m \u001b[1;32mimport\u001b[0m \u001b[0mRollingGroupby\u001b[0m\u001b[1;33m\u001b[0m\u001b[0m\n\u001b[1;32m-> 1243\u001b[1;33m         \u001b[1;32mreturn\u001b[0m \u001b[0mRollingGroupby\u001b[0m\u001b[1;33m(\u001b[0m\u001b[0mself\u001b[0m\u001b[1;33m,\u001b[0m \u001b[1;33m*\u001b[0m\u001b[0margs\u001b[0m\u001b[1;33m,\u001b[0m \u001b[1;33m**\u001b[0m\u001b[0mkwargs\u001b[0m\u001b[1;33m)\u001b[0m\u001b[1;33m\u001b[0m\u001b[0m\n\u001b[0m\u001b[0;32m   1244\u001b[0m \u001b[1;33m\u001b[0m\u001b[0m\n\u001b[0;32m   1245\u001b[0m     \u001b[1;33m@\u001b[0m\u001b[0mSubstitution\u001b[0m\u001b[1;33m(\u001b[0m\u001b[0mname\u001b[0m\u001b[1;33m=\u001b[0m\u001b[1;34m'groupby'\u001b[0m\u001b[1;33m)\u001b[0m\u001b[1;33m\u001b[0m\u001b[0m\n",
      "\u001b[1;32m~\\Anaconda3\\lib\\site-packages\\pandas\\core\\window.py\u001b[0m in \u001b[0;36m__init__\u001b[1;34m(self, obj, *args, **kwargs)\u001b[0m\n\u001b[0;32m    693\u001b[0m         \u001b[0mself\u001b[0m\u001b[1;33m.\u001b[0m\u001b[0m_groupby\u001b[0m\u001b[1;33m.\u001b[0m\u001b[0mmutated\u001b[0m \u001b[1;33m=\u001b[0m \u001b[1;32mTrue\u001b[0m\u001b[1;33m\u001b[0m\u001b[0m\n\u001b[0;32m    694\u001b[0m         \u001b[0mself\u001b[0m\u001b[1;33m.\u001b[0m\u001b[0m_groupby\u001b[0m\u001b[1;33m.\u001b[0m\u001b[0mgrouper\u001b[0m\u001b[1;33m.\u001b[0m\u001b[0mmutated\u001b[0m \u001b[1;33m=\u001b[0m \u001b[1;32mTrue\u001b[0m\u001b[1;33m\u001b[0m\u001b[0m\n\u001b[1;32m--> 695\u001b[1;33m         \u001b[0msuper\u001b[0m\u001b[1;33m(\u001b[0m\u001b[0mGroupByMixin\u001b[0m\u001b[1;33m,\u001b[0m \u001b[0mself\u001b[0m\u001b[1;33m)\u001b[0m\u001b[1;33m.\u001b[0m\u001b[0m__init__\u001b[0m\u001b[1;33m(\u001b[0m\u001b[0mobj\u001b[0m\u001b[1;33m,\u001b[0m \u001b[1;33m*\u001b[0m\u001b[0margs\u001b[0m\u001b[1;33m,\u001b[0m \u001b[1;33m**\u001b[0m\u001b[0mkwargs\u001b[0m\u001b[1;33m)\u001b[0m\u001b[1;33m\u001b[0m\u001b[0m\n\u001b[0m\u001b[0;32m    696\u001b[0m \u001b[1;33m\u001b[0m\u001b[0m\n\u001b[0;32m    697\u001b[0m     \u001b[0mcount\u001b[0m \u001b[1;33m=\u001b[0m \u001b[0mGroupByMixin\u001b[0m\u001b[1;33m.\u001b[0m\u001b[0m_dispatch\u001b[0m\u001b[1;33m(\u001b[0m\u001b[1;34m'count'\u001b[0m\u001b[1;33m)\u001b[0m\u001b[1;33m\u001b[0m\u001b[0m\n",
      "\u001b[1;32m~\\Anaconda3\\lib\\site-packages\\pandas\\core\\window.py\u001b[0m in \u001b[0;36m__init__\u001b[1;34m(self, obj, window, min_periods, freq, center, win_type, axis, on, closed, **kwargs)\u001b[0m\n\u001b[0;32m     84\u001b[0m         \u001b[0mself\u001b[0m\u001b[1;33m.\u001b[0m\u001b[0mwin_freq\u001b[0m \u001b[1;33m=\u001b[0m \u001b[1;32mNone\u001b[0m\u001b[1;33m\u001b[0m\u001b[0m\n\u001b[0;32m     85\u001b[0m         \u001b[0mself\u001b[0m\u001b[1;33m.\u001b[0m\u001b[0maxis\u001b[0m \u001b[1;33m=\u001b[0m \u001b[0mobj\u001b[0m\u001b[1;33m.\u001b[0m\u001b[0m_get_axis_number\u001b[0m\u001b[1;33m(\u001b[0m\u001b[0maxis\u001b[0m\u001b[1;33m)\u001b[0m \u001b[1;32mif\u001b[0m \u001b[0maxis\u001b[0m \u001b[1;32mis\u001b[0m \u001b[1;32mnot\u001b[0m \u001b[1;32mNone\u001b[0m \u001b[1;32melse\u001b[0m \u001b[1;32mNone\u001b[0m\u001b[1;33m\u001b[0m\u001b[0m\n\u001b[1;32m---> 86\u001b[1;33m         \u001b[0mself\u001b[0m\u001b[1;33m.\u001b[0m\u001b[0mvalidate\u001b[0m\u001b[1;33m(\u001b[0m\u001b[1;33m)\u001b[0m\u001b[1;33m\u001b[0m\u001b[0m\n\u001b[0m\u001b[0;32m     87\u001b[0m \u001b[1;33m\u001b[0m\u001b[0m\n\u001b[0;32m     88\u001b[0m     \u001b[1;33m@\u001b[0m\u001b[0mproperty\u001b[0m\u001b[1;33m\u001b[0m\u001b[0m\n",
      "\u001b[1;32m~\\Anaconda3\\lib\\site-packages\\pandas\\core\\window.py\u001b[0m in \u001b[0;36mvalidate\u001b[1;34m(self)\u001b[0m\n\u001b[0;32m   1104\u001b[0m \u001b[1;33m\u001b[0m\u001b[0m\n\u001b[0;32m   1105\u001b[0m         \u001b[1;32melif\u001b[0m \u001b[1;32mnot\u001b[0m \u001b[0mis_integer\u001b[0m\u001b[1;33m(\u001b[0m\u001b[0mself\u001b[0m\u001b[1;33m.\u001b[0m\u001b[0mwindow\u001b[0m\u001b[1;33m)\u001b[0m\u001b[1;33m:\u001b[0m\u001b[1;33m\u001b[0m\u001b[0m\n\u001b[1;32m-> 1106\u001b[1;33m             \u001b[1;32mraise\u001b[0m \u001b[0mValueError\u001b[0m\u001b[1;33m(\u001b[0m\u001b[1;34m\"window must be an integer\"\u001b[0m\u001b[1;33m)\u001b[0m\u001b[1;33m\u001b[0m\u001b[0m\n\u001b[0m\u001b[0;32m   1107\u001b[0m         \u001b[1;32melif\u001b[0m \u001b[0mself\u001b[0m\u001b[1;33m.\u001b[0m\u001b[0mwindow\u001b[0m \u001b[1;33m<\u001b[0m \u001b[1;36m0\u001b[0m\u001b[1;33m:\u001b[0m\u001b[1;33m\u001b[0m\u001b[0m\n\u001b[0;32m   1108\u001b[0m             \u001b[1;32mraise\u001b[0m \u001b[0mValueError\u001b[0m\u001b[1;33m(\u001b[0m\u001b[1;34m\"window must be non-negative\"\u001b[0m\u001b[1;33m)\u001b[0m\u001b[1;33m\u001b[0m\u001b[0m\n",
      "\u001b[1;31mValueError\u001b[0m: window must be an integer"
     ]
    }
   ],
   "source": [
    "mean1 = df[df['dataset_location'] == 'MICU2-6FL-B1'].groupby(['dataset_location'])['ABPm'].rolling('900s').mean().reset_index()\n",
    "max1 = df[df['dataset_location'] == 'MICU2-6FL-B1'].groupby(['dataset_location'])['ABPm'].rolling('900s').max().reset_index()\n",
    "min1 = df[df['dataset_location'] == 'MICU2-6FL-B1'].groupby(['dataset_location'])['ABPm'].rolling('900s').min().reset_index()\n",
    "mock_data = pd.merge(mean1, max1, how = 'left', on = ['dataset_datetime', 'dataset_location'])\n",
    "mock_data = pd.merge(mock_data, min1, how = 'left', on = ['dataset_datetime', 'dataset_location'])"
   ]
  },
  {
   "cell_type": "code",
   "execution_count": 4,
   "metadata": {
    "collapsed": true
   },
   "outputs": [
    {
     "ename": "NameError",
     "evalue": "name 'mock_data' is not defined",
     "output_type": "error",
     "traceback": [
      "\u001b[1;31m---------------------------------------------------------------------------\u001b[0m",
      "\u001b[1;31mNameError\u001b[0m                                 Traceback (most recent call last)",
      "\u001b[1;32m<ipython-input-4-42ca6eaf136a>\u001b[0m in \u001b[0;36m<module>\u001b[1;34m()\u001b[0m\n\u001b[1;32m----> 1\u001b[1;33m \u001b[0mmock_data\u001b[0m \u001b[1;33m=\u001b[0m \u001b[0mmock_data\u001b[0m\u001b[1;33m[\u001b[0m\u001b[1;33m(\u001b[0m\u001b[0mmock_data\u001b[0m\u001b[1;33m[\u001b[0m\u001b[1;34m'ABPm_x'\u001b[0m\u001b[1;33m]\u001b[0m\u001b[1;33m.\u001b[0m\u001b[0misnull\u001b[0m\u001b[1;33m(\u001b[0m\u001b[1;33m)\u001b[0m \u001b[1;33m==\u001b[0m \u001b[1;32mFalse\u001b[0m\u001b[1;33m)\u001b[0m \u001b[1;33m&\u001b[0m \u001b[1;33m(\u001b[0m\u001b[0mmock_data\u001b[0m\u001b[1;33m[\u001b[0m\u001b[1;34m'ABPm_y'\u001b[0m\u001b[1;33m]\u001b[0m\u001b[1;33m.\u001b[0m\u001b[0misnull\u001b[0m\u001b[1;33m(\u001b[0m\u001b[1;33m)\u001b[0m \u001b[1;33m==\u001b[0m \u001b[1;32mFalse\u001b[0m\u001b[1;33m)\u001b[0m \u001b[1;33m&\u001b[0m \u001b[1;33m(\u001b[0m\u001b[0mmock_data\u001b[0m\u001b[1;33m[\u001b[0m\u001b[1;34m'ABPm'\u001b[0m\u001b[1;33m]\u001b[0m\u001b[1;33m.\u001b[0m\u001b[0misnull\u001b[0m\u001b[1;33m(\u001b[0m\u001b[1;33m)\u001b[0m \u001b[1;33m==\u001b[0m \u001b[1;32mFalse\u001b[0m\u001b[1;33m)\u001b[0m \u001b[1;33m&\u001b[0m \u001b[1;33m(\u001b[0m\u001b[0mmock_data\u001b[0m\u001b[1;33m[\u001b[0m\u001b[1;34m'ABPm'\u001b[0m\u001b[1;33m]\u001b[0m \u001b[1;33m>\u001b[0m \u001b[1;36m0\u001b[0m\u001b[1;33m)\u001b[0m\u001b[1;33m]\u001b[0m\u001b[1;33m.\u001b[0m\u001b[0mhead\u001b[0m\u001b[1;33m(\u001b[0m\u001b[1;36m10\u001b[0m\u001b[1;33m)\u001b[0m\u001b[1;33m\u001b[0m\u001b[0m\n\u001b[0m\u001b[0;32m      2\u001b[0m \u001b[0mmock_data\u001b[0m\u001b[1;33m.\u001b[0m\u001b[0mhead\u001b[0m\u001b[1;33m(\u001b[0m\u001b[1;36m2\u001b[0m\u001b[1;33m)\u001b[0m\u001b[1;33m\u001b[0m\u001b[0m\n",
      "\u001b[1;31mNameError\u001b[0m: name 'mock_data' is not defined"
     ]
    }
   ],
   "source": [
    "mock_data = mock_data[(mock_data['ABPm_x'].isnull() == False) & (mock_data['ABPm_y'].isnull() == False) & (mock_data['ABPm'].isnull() == False) & (mock_data['ABPm'] > 0)].head(10)\n",
    "mock_data.head(2)"
   ]
  },
  {
   "cell_type": "code",
   "execution_count": 239,
   "metadata": {
    "collapsed": true
   },
   "outputs": [],
   "source": [
    "mean1 = pd.DataFrame(df[df['dataset_location'] == 'MICU2-6FL-B1'].groupby(pd.TimeGrouper(freq = '15Min'))['ABPm'].mean().reset_index())\n",
    "max1 = pd.DataFrame(df[df['dataset_location'] == 'MICU2-6FL-B1'].groupby(pd.TimeGrouper(freq = '15Min'))['ABPm'].max().reset_index())\n",
    "min1 = pd.DataFrame(df[df['dataset_location'] == 'MICU2-6FL-B1'].groupby(pd.TimeGrouper(freq = '15Min'))['ABPm'].min().reset_index())\n",
    "mock_data = pd.merge(mean1, max1, how = 'left', on = ['dataset_datetime'])\n",
    "mock_data = pd.merge(mock_data, min1, how = 'left', on = ['dataset_datetime'])"
   ]
  },
  {
   "cell_type": "code",
   "execution_count": 243,
   "metadata": {},
   "outputs": [
    {
     "data": {
      "text/plain": [
       "'{\"dataset_datetime\":{\"4843\":1514806200000,\"4844\":1514807100000,\"4845\":1514808000000,\"4847\":1514809800000,\"4848\":1514810700000,\"4849\":1514811600000,\"4850\":1514812500000,\"4851\":1514813400000,\"4852\":1514814300000,\"4853\":1514815200000},\"ABPm_x\":{\"4843\":77.54,\"4844\":78.5056179775,\"4845\":77.8705882353,\"4847\":79.2272727273,\"4848\":83.2380952381,\"4849\":89.9518072289,\"4850\":91.1445783133,\"4851\":90.3,\"4852\":88.3333333333,\"4853\":85.6555555556},\"ABPm_y\":{\"4843\":81.0,\"4844\":80.0,\"4845\":93.0,\"4847\":82.0,\"4848\":107.0,\"4849\":103.0,\"4850\":151.0,\"4851\":93.0,\"4852\":92.0,\"4853\":91.0},\"ABPm\":{\"4843\":74.0,\"4844\":76.0,\"4845\":72.0,\"4847\":76.0,\"4848\":67.0,\"4849\":80.0,\"4850\":81.0,\"4851\":88.0,\"4852\":86.0,\"4853\":70.0}}'"
      ]
     },
     "execution_count": 243,
     "metadata": {},
     "output_type": "execute_result"
    }
   ],
   "source": [
    "mock_data = mock_data[(mock_data['ABPm_x'].isnull() == False) & (mock_data['ABPm_y'].isnull() == False) & (mock_data['ABPm'].isnull() == False) & (mock_data['ABPm'] > 0)].head(20)\n",
    "mock_data.to_json()"
   ]
  },
  {
   "cell_type": "code",
   "execution_count": 222,
   "metadata": {
    "collapsed": true
   },
   "outputs": [
    {
     "ename": "AttributeError",
     "evalue": "'SeriesGroupBy' object has no attribute 'rolling_apply'",
     "output_type": "error",
     "traceback": [
      "\u001b[1;31m---------------------------------------------------------------------------\u001b[0m",
      "\u001b[1;31mAttributeError\u001b[0m                            Traceback (most recent call last)",
      "\u001b[1;32m<ipython-input-222-fca435dedd37>\u001b[0m in \u001b[0;36m<module>\u001b[1;34m()\u001b[0m\n\u001b[0;32m      1\u001b[0m \u001b[0mdf\u001b[0m\u001b[1;33m.\u001b[0m\u001b[0mindex\u001b[0m \u001b[1;33m=\u001b[0m \u001b[0mdf\u001b[0m\u001b[1;33m[\u001b[0m\u001b[1;34m'dataset_datetime'\u001b[0m\u001b[1;33m]\u001b[0m\u001b[1;33m\u001b[0m\u001b[0m\n\u001b[0;32m      2\u001b[0m \u001b[0mrolling_mean\u001b[0m \u001b[1;33m=\u001b[0m \u001b[0mdf\u001b[0m\u001b[1;33m.\u001b[0m\u001b[0mgroupby\u001b[0m\u001b[1;33m(\u001b[0m\u001b[1;34m'dataset_location'\u001b[0m\u001b[1;33m)\u001b[0m\u001b[1;33m[\u001b[0m\u001b[1;34m'SpO2'\u001b[0m\u001b[1;33m]\u001b[0m\u001b[1;33m.\u001b[0m\u001b[0mrolling\u001b[0m\u001b[1;33m(\u001b[0m\u001b[1;34m'180s'\u001b[0m\u001b[1;33m)\u001b[0m\u001b[1;33m.\u001b[0m\u001b[0mmean\u001b[0m\u001b[1;33m(\u001b[0m\u001b[1;33m)\u001b[0m\u001b[1;33m.\u001b[0m\u001b[0mreset_index\u001b[0m\u001b[1;33m(\u001b[0m\u001b[1;33m)\u001b[0m\u001b[1;33m\u001b[0m\u001b[0m\n\u001b[1;32m----> 3\u001b[1;33m \u001b[0mtest\u001b[0m \u001b[1;33m=\u001b[0m \u001b[0mdf\u001b[0m\u001b[1;33m.\u001b[0m\u001b[0mgroupby\u001b[0m\u001b[1;33m(\u001b[0m\u001b[1;34m'dataset_location'\u001b[0m\u001b[1;33m)\u001b[0m\u001b[1;33m[\u001b[0m\u001b[1;34m'SpO2'\u001b[0m\u001b[1;33m]\u001b[0m\u001b[1;33m.\u001b[0m\u001b[0mrolling_apply\u001b[0m\u001b[1;33m(\u001b[0m\u001b[0mtr\u001b[0m\u001b[1;33m)\u001b[0m\u001b[1;33m\u001b[0m\u001b[0m\n\u001b[0m",
      "\u001b[1;32m~\\Anaconda3\\lib\\site-packages\\pandas\\core\\groupby.py\u001b[0m in \u001b[0;36m__getattr__\u001b[1;34m(self, attr)\u001b[0m\n\u001b[0;32m    549\u001b[0m \u001b[1;33m\u001b[0m\u001b[0m\n\u001b[0;32m    550\u001b[0m         raise AttributeError(\"%r object has no attribute %r\" %\n\u001b[1;32m--> 551\u001b[1;33m                              (type(self).__name__, attr))\n\u001b[0m\u001b[0;32m    552\u001b[0m \u001b[1;33m\u001b[0m\u001b[0m\n\u001b[0;32m    553\u001b[0m     \u001b[0mplot\u001b[0m \u001b[1;33m=\u001b[0m \u001b[0mproperty\u001b[0m\u001b[1;33m(\u001b[0m\u001b[0mGroupByPlot\u001b[0m\u001b[1;33m)\u001b[0m\u001b[1;33m\u001b[0m\u001b[0m\n",
      "\u001b[1;31mAttributeError\u001b[0m: 'SeriesGroupBy' object has no attribute 'rolling_apply'"
     ]
    }
   ],
   "source": [
    "df.index = df['dataset_datetime']\n",
    "rolling_mean = df.groupby('dataset_location')['SpO2'].rolling('180s').mean().reset_index()\n",
    "test = df.groupby('dataset_location')['SpO2'].rolling_apply(tr)"
   ]
  },
  {
   "cell_type": "code",
   "execution_count": 104,
   "metadata": {
    "collapsed": true,
    "scrolled": true
   },
   "outputs": [],
   "source": [
    "import operator\n",
    "data2 = data.copy()\n",
    "col = list(data2.columns)\n",
    "\n",
    "CheckNull = {}\n",
    "CheckZero = {}\n",
    "for i, col in enumerate(col):\n",
    "    CheckNull[col] = data2[col].isnull().sum()/len(data2[col])\n",
    "#     data2[col] = data2[col].astype(int)\n",
    "#     CheckZero[col] = len(data2[data2[col] == 0])/len(data2[col])\n",
    "a = sorted(CheckNull.items(), key=operator.itemgetter(1), reverse=False)\n",
    "pd.DataFrame(a).to_csv('features.csv')"
   ]
  },
  {
   "cell_type": "code",
   "execution_count": 138,
   "metadata": {
    "collapsed": true
   },
   "outputs": [
    {
     "data": {
      "text/html": [
       "<div>\n",
       "<style>\n",
       "    .dataframe thead tr:only-child th {\n",
       "        text-align: right;\n",
       "    }\n",
       "\n",
       "    .dataframe thead th {\n",
       "        text-align: left;\n",
       "    }\n",
       "\n",
       "    .dataframe tbody tr th {\n",
       "        vertical-align: top;\n",
       "    }\n",
       "</style>\n",
       "<table border=\"1\" class=\"dataframe\">\n",
       "  <thead>\n",
       "    <tr style=\"text-align: right;\">\n",
       "      <th></th>\n",
       "      <th>Inspired Minute Volume (Total)</th>\n",
       "      <th>Minute Volume (Spontaneous)</th>\n",
       "    </tr>\n",
       "  </thead>\n",
       "  <tbody>\n",
       "    <tr>\n",
       "      <th>0</th>\n",
       "      <td>10.500000</td>\n",
       "      <td>0.0</td>\n",
       "    </tr>\n",
       "    <tr>\n",
       "      <th>1</th>\n",
       "      <td>10.500000</td>\n",
       "      <td>0.0</td>\n",
       "    </tr>\n",
       "    <tr>\n",
       "      <th>2</th>\n",
       "      <td>10.500000</td>\n",
       "      <td>0.0</td>\n",
       "    </tr>\n",
       "    <tr>\n",
       "      <th>3</th>\n",
       "      <td>10.500000</td>\n",
       "      <td>0.0</td>\n",
       "    </tr>\n",
       "    <tr>\n",
       "      <th>4</th>\n",
       "      <td>10.500000</td>\n",
       "      <td>0.0</td>\n",
       "    </tr>\n",
       "    <tr>\n",
       "      <th>5</th>\n",
       "      <td>10.500000</td>\n",
       "      <td>0.0</td>\n",
       "    </tr>\n",
       "    <tr>\n",
       "      <th>6</th>\n",
       "      <td>10.500000</td>\n",
       "      <td>0.0</td>\n",
       "    </tr>\n",
       "    <tr>\n",
       "      <th>7</th>\n",
       "      <td>10.500000</td>\n",
       "      <td>0.0</td>\n",
       "    </tr>\n",
       "    <tr>\n",
       "      <th>8</th>\n",
       "      <td>10.500000</td>\n",
       "      <td>0.0</td>\n",
       "    </tr>\n",
       "    <tr>\n",
       "      <th>9</th>\n",
       "      <td>10.500000</td>\n",
       "      <td>0.0</td>\n",
       "    </tr>\n",
       "    <tr>\n",
       "      <th>10</th>\n",
       "      <td>10.500000</td>\n",
       "      <td>0.0</td>\n",
       "    </tr>\n",
       "    <tr>\n",
       "      <th>11</th>\n",
       "      <td>10.500000</td>\n",
       "      <td>0.0</td>\n",
       "    </tr>\n",
       "    <tr>\n",
       "      <th>12</th>\n",
       "      <td>10.500000</td>\n",
       "      <td>0.0</td>\n",
       "    </tr>\n",
       "    <tr>\n",
       "      <th>13</th>\n",
       "      <td>10.433333</td>\n",
       "      <td>0.0</td>\n",
       "    </tr>\n",
       "    <tr>\n",
       "      <th>14</th>\n",
       "      <td>10.500000</td>\n",
       "      <td>0.0</td>\n",
       "    </tr>\n",
       "    <tr>\n",
       "      <th>15</th>\n",
       "      <td>10.500000</td>\n",
       "      <td>0.0</td>\n",
       "    </tr>\n",
       "    <tr>\n",
       "      <th>16</th>\n",
       "      <td>10.500000</td>\n",
       "      <td>0.0</td>\n",
       "    </tr>\n",
       "    <tr>\n",
       "      <th>17</th>\n",
       "      <td>10.500000</td>\n",
       "      <td>0.0</td>\n",
       "    </tr>\n",
       "    <tr>\n",
       "      <th>18</th>\n",
       "      <td>10.500000</td>\n",
       "      <td>0.0</td>\n",
       "    </tr>\n",
       "    <tr>\n",
       "      <th>19</th>\n",
       "      <td>10.500000</td>\n",
       "      <td>0.0</td>\n",
       "    </tr>\n",
       "    <tr>\n",
       "      <th>20</th>\n",
       "      <td>10.500000</td>\n",
       "      <td>0.0</td>\n",
       "    </tr>\n",
       "    <tr>\n",
       "      <th>21</th>\n",
       "      <td>10.500000</td>\n",
       "      <td>0.0</td>\n",
       "    </tr>\n",
       "    <tr>\n",
       "      <th>22</th>\n",
       "      <td>10.500000</td>\n",
       "      <td>0.0</td>\n",
       "    </tr>\n",
       "    <tr>\n",
       "      <th>23</th>\n",
       "      <td>10.566667</td>\n",
       "      <td>0.0</td>\n",
       "    </tr>\n",
       "    <tr>\n",
       "      <th>24</th>\n",
       "      <td>10.566667</td>\n",
       "      <td>0.0</td>\n",
       "    </tr>\n",
       "    <tr>\n",
       "      <th>25</th>\n",
       "      <td>10.600000</td>\n",
       "      <td>0.0</td>\n",
       "    </tr>\n",
       "    <tr>\n",
       "      <th>26</th>\n",
       "      <td>10.600000</td>\n",
       "      <td>0.0</td>\n",
       "    </tr>\n",
       "    <tr>\n",
       "      <th>27</th>\n",
       "      <td>10.600000</td>\n",
       "      <td>0.0</td>\n",
       "    </tr>\n",
       "    <tr>\n",
       "      <th>28</th>\n",
       "      <td>10.600000</td>\n",
       "      <td>0.0</td>\n",
       "    </tr>\n",
       "    <tr>\n",
       "      <th>29</th>\n",
       "      <td>10.650000</td>\n",
       "      <td>0.0</td>\n",
       "    </tr>\n",
       "    <tr>\n",
       "      <th>...</th>\n",
       "      <td>...</td>\n",
       "      <td>...</td>\n",
       "    </tr>\n",
       "    <tr>\n",
       "      <th>537256</th>\n",
       "      <td>NaN</td>\n",
       "      <td>NaN</td>\n",
       "    </tr>\n",
       "    <tr>\n",
       "      <th>537257</th>\n",
       "      <td>NaN</td>\n",
       "      <td>NaN</td>\n",
       "    </tr>\n",
       "    <tr>\n",
       "      <th>537258</th>\n",
       "      <td>NaN</td>\n",
       "      <td>NaN</td>\n",
       "    </tr>\n",
       "    <tr>\n",
       "      <th>537259</th>\n",
       "      <td>NaN</td>\n",
       "      <td>NaN</td>\n",
       "    </tr>\n",
       "    <tr>\n",
       "      <th>537260</th>\n",
       "      <td>NaN</td>\n",
       "      <td>NaN</td>\n",
       "    </tr>\n",
       "    <tr>\n",
       "      <th>537261</th>\n",
       "      <td>NaN</td>\n",
       "      <td>NaN</td>\n",
       "    </tr>\n",
       "    <tr>\n",
       "      <th>537262</th>\n",
       "      <td>NaN</td>\n",
       "      <td>NaN</td>\n",
       "    </tr>\n",
       "    <tr>\n",
       "      <th>537263</th>\n",
       "      <td>NaN</td>\n",
       "      <td>NaN</td>\n",
       "    </tr>\n",
       "    <tr>\n",
       "      <th>537264</th>\n",
       "      <td>NaN</td>\n",
       "      <td>NaN</td>\n",
       "    </tr>\n",
       "    <tr>\n",
       "      <th>537265</th>\n",
       "      <td>8.800000</td>\n",
       "      <td>0.0</td>\n",
       "    </tr>\n",
       "    <tr>\n",
       "      <th>537266</th>\n",
       "      <td>NaN</td>\n",
       "      <td>NaN</td>\n",
       "    </tr>\n",
       "    <tr>\n",
       "      <th>537267</th>\n",
       "      <td>NaN</td>\n",
       "      <td>NaN</td>\n",
       "    </tr>\n",
       "    <tr>\n",
       "      <th>537268</th>\n",
       "      <td>NaN</td>\n",
       "      <td>NaN</td>\n",
       "    </tr>\n",
       "    <tr>\n",
       "      <th>537269</th>\n",
       "      <td>NaN</td>\n",
       "      <td>NaN</td>\n",
       "    </tr>\n",
       "    <tr>\n",
       "      <th>537270</th>\n",
       "      <td>NaN</td>\n",
       "      <td>NaN</td>\n",
       "    </tr>\n",
       "    <tr>\n",
       "      <th>537271</th>\n",
       "      <td>NaN</td>\n",
       "      <td>NaN</td>\n",
       "    </tr>\n",
       "    <tr>\n",
       "      <th>537272</th>\n",
       "      <td>NaN</td>\n",
       "      <td>NaN</td>\n",
       "    </tr>\n",
       "    <tr>\n",
       "      <th>537273</th>\n",
       "      <td>NaN</td>\n",
       "      <td>NaN</td>\n",
       "    </tr>\n",
       "    <tr>\n",
       "      <th>537274</th>\n",
       "      <td>NaN</td>\n",
       "      <td>NaN</td>\n",
       "    </tr>\n",
       "    <tr>\n",
       "      <th>537275</th>\n",
       "      <td>NaN</td>\n",
       "      <td>NaN</td>\n",
       "    </tr>\n",
       "    <tr>\n",
       "      <th>537276</th>\n",
       "      <td>NaN</td>\n",
       "      <td>NaN</td>\n",
       "    </tr>\n",
       "    <tr>\n",
       "      <th>537277</th>\n",
       "      <td>NaN</td>\n",
       "      <td>NaN</td>\n",
       "    </tr>\n",
       "    <tr>\n",
       "      <th>537278</th>\n",
       "      <td>NaN</td>\n",
       "      <td>NaN</td>\n",
       "    </tr>\n",
       "    <tr>\n",
       "      <th>537279</th>\n",
       "      <td>NaN</td>\n",
       "      <td>NaN</td>\n",
       "    </tr>\n",
       "    <tr>\n",
       "      <th>537280</th>\n",
       "      <td>NaN</td>\n",
       "      <td>NaN</td>\n",
       "    </tr>\n",
       "    <tr>\n",
       "      <th>537281</th>\n",
       "      <td>NaN</td>\n",
       "      <td>NaN</td>\n",
       "    </tr>\n",
       "    <tr>\n",
       "      <th>537282</th>\n",
       "      <td>NaN</td>\n",
       "      <td>NaN</td>\n",
       "    </tr>\n",
       "    <tr>\n",
       "      <th>537283</th>\n",
       "      <td>NaN</td>\n",
       "      <td>NaN</td>\n",
       "    </tr>\n",
       "    <tr>\n",
       "      <th>537284</th>\n",
       "      <td>NaN</td>\n",
       "      <td>NaN</td>\n",
       "    </tr>\n",
       "    <tr>\n",
       "      <th>537285</th>\n",
       "      <td>8.800000</td>\n",
       "      <td>0.0</td>\n",
       "    </tr>\n",
       "  </tbody>\n",
       "</table>\n",
       "<p>537286 rows × 2 columns</p>\n",
       "</div>"
      ],
      "text/plain": [
       "        Inspired Minute Volume (Total)  Minute Volume (Spontaneous)\n",
       "0                            10.500000                          0.0\n",
       "1                            10.500000                          0.0\n",
       "2                            10.500000                          0.0\n",
       "3                            10.500000                          0.0\n",
       "4                            10.500000                          0.0\n",
       "5                            10.500000                          0.0\n",
       "6                            10.500000                          0.0\n",
       "7                            10.500000                          0.0\n",
       "8                            10.500000                          0.0\n",
       "9                            10.500000                          0.0\n",
       "10                           10.500000                          0.0\n",
       "11                           10.500000                          0.0\n",
       "12                           10.500000                          0.0\n",
       "13                           10.433333                          0.0\n",
       "14                           10.500000                          0.0\n",
       "15                           10.500000                          0.0\n",
       "16                           10.500000                          0.0\n",
       "17                           10.500000                          0.0\n",
       "18                           10.500000                          0.0\n",
       "19                           10.500000                          0.0\n",
       "20                           10.500000                          0.0\n",
       "21                           10.500000                          0.0\n",
       "22                           10.500000                          0.0\n",
       "23                           10.566667                          0.0\n",
       "24                           10.566667                          0.0\n",
       "25                           10.600000                          0.0\n",
       "26                           10.600000                          0.0\n",
       "27                           10.600000                          0.0\n",
       "28                           10.600000                          0.0\n",
       "29                           10.650000                          0.0\n",
       "...                                ...                          ...\n",
       "537256                             NaN                          NaN\n",
       "537257                             NaN                          NaN\n",
       "537258                             NaN                          NaN\n",
       "537259                             NaN                          NaN\n",
       "537260                             NaN                          NaN\n",
       "537261                             NaN                          NaN\n",
       "537262                             NaN                          NaN\n",
       "537263                             NaN                          NaN\n",
       "537264                             NaN                          NaN\n",
       "537265                        8.800000                          0.0\n",
       "537266                             NaN                          NaN\n",
       "537267                             NaN                          NaN\n",
       "537268                             NaN                          NaN\n",
       "537269                             NaN                          NaN\n",
       "537270                             NaN                          NaN\n",
       "537271                             NaN                          NaN\n",
       "537272                             NaN                          NaN\n",
       "537273                             NaN                          NaN\n",
       "537274                             NaN                          NaN\n",
       "537275                             NaN                          NaN\n",
       "537276                             NaN                          NaN\n",
       "537277                             NaN                          NaN\n",
       "537278                             NaN                          NaN\n",
       "537279                             NaN                          NaN\n",
       "537280                             NaN                          NaN\n",
       "537281                             NaN                          NaN\n",
       "537282                             NaN                          NaN\n",
       "537283                             NaN                          NaN\n",
       "537284                             NaN                          NaN\n",
       "537285                        8.800000                          0.0\n",
       "\n",
       "[537286 rows x 2 columns]"
      ]
     },
     "execution_count": 138,
     "metadata": {},
     "output_type": "execute_result"
    }
   ],
   "source": [
    "data2[['Inspired O2 (Ventilator)']]"
   ]
  },
  {
   "cell_type": "code",
   "execution_count": null,
   "metadata": {
    "collapsed": true
   },
   "outputs": [],
   "source": [
    "sorted(CheckNull.items(), key=operator.itemgetter(1), reverse=False)"
   ]
  },
  {
   "cell_type": "markdown",
   "metadata": {},
   "source": [
    "# Checking Y"
   ]
  },
  {
   "cell_type": "code",
   "execution_count": 10,
   "metadata": {
    "collapsed": true
   },
   "outputs": [
    {
     "name": "stderr",
     "output_type": "stream",
     "text": [
      "D:\\02 Git\\ml-med\\utils.py:151: SettingWithCopyWarning:\n",
      "\n",
      "\n",
      "A value is trying to be set on a copy of a slice from a DataFrame.\n",
      "Try using .loc[row_indexer,col_indexer] = value instead\n",
      "\n",
      "See the caveats in the documentation: http://pandas.pydata.org/pandas-docs/stable/indexing.html#indexing-view-versus-copy\n",
      "\n",
      "D:\\02 Git\\ml-med\\utils.py:152: SettingWithCopyWarning:\n",
      "\n",
      "\n",
      "A value is trying to be set on a copy of a slice from a DataFrame.\n",
      "Try using .loc[row_indexer,col_indexer] = value instead\n",
      "\n",
      "See the caveats in the documentation: http://pandas.pydata.org/pandas-docs/stable/indexing.html#indexing-view-versus-copy\n",
      "\n",
      "D:\\02 Git\\ml-med\\utils.py:153: SettingWithCopyWarning:\n",
      "\n",
      "\n",
      "A value is trying to be set on a copy of a slice from a DataFrame.\n",
      "Try using .loc[row_indexer,col_indexer] = value instead\n",
      "\n",
      "See the caveats in the documentation: http://pandas.pydata.org/pandas-docs/stable/indexing.html#indexing-view-versus-copy\n",
      "\n",
      "D:\\02 Git\\ml-med\\utils.py:154: SettingWithCopyWarning:\n",
      "\n",
      "\n",
      "A value is trying to be set on a copy of a slice from a DataFrame.\n",
      "Try using .loc[row_indexer,col_indexer] = value instead\n",
      "\n",
      "See the caveats in the documentation: http://pandas.pydata.org/pandas-docs/stable/indexing.html#indexing-view-versus-copy\n",
      "\n",
      "D:\\02 Git\\ml-med\\utils.py:159: FutureWarning:\n",
      "\n",
      "pd.rolling_sum is deprecated for Series and will be removed in a future version, replace with \n",
      "\tSeries.rolling(window=56,min_periods=0,center=False).sum()\n",
      "\n",
      "D:\\02 Git\\ml-med\\utils.py:160: FutureWarning:\n",
      "\n",
      "pd.rolling_sum is deprecated for Series and will be removed in a future version, replace with \n",
      "\tSeries.rolling(window=60,min_periods=0,center=False).sum()\n",
      "\n"
     ]
    },
    {
     "name": "stdout",
     "output_type": "stream",
     "text": [
      "Already created target(y)\n"
     ]
    }
   ],
   "source": [
    "data = check_y(df, delta_change=-3.0, start = 560, end = 600) "
   ]
  },
  {
   "cell_type": "code",
   "execution_count": 57,
   "metadata": {},
   "outputs": [
    {
     "data": {
      "text/plain": [
       "Index(['ABPd', 'ABPm', 'ABPs', 'Airway Resistance', 'Alarm Silence Status',\n",
       "       'Apnea Ventilation Delay Setting', 'Breathing Circuit Compliance',\n",
       "       'Breathing Circuit Leak', 'CVPm', 'Disconnect Time Setting',\n",
       "       'Dynamic Compliance', 'Expiratory Component of I:E Ratio Setting',\n",
       "       'Expired Minute Volume', 'Expired O2', 'Expired Tidal Volume',\n",
       "       'Expired Tidal Volume Lower Alarm Limit',\n",
       "       'Expired Tidal Volume Upper Alarm Limit', 'Extrinsic PEEP',\n",
       "       'Extrinsic PEEP Lower Alarm Limit', 'Extrinsic PEEP Upper Alarm Limit',\n",
       "       'FiO2 Setting', 'Flow Trigger Setting', 'Heart Rate',\n",
       "       'Inspiratory Component of I:E Ratio Setting',\n",
       "       'Inspiratory Time Setting', 'Inspired Minute Volume (Total)',\n",
       "       'Inspired O2 (FiO2)', 'Inspired O2 (Ventilator)',\n",
       "       'Inspired Pressure Setting', 'Inspired Tidal Volume',\n",
       "       'Intrinsic PEEP Upper Alarm Limit', 'Leakage (ventilator)',\n",
       "       'Maximum Positive Airway Pressure', 'Mean Airway Pressure',\n",
       "       'Mechancial Expired Minute Volume', 'Mechanical Expired Tidal Volume',\n",
       "       'Mechanical Respiratory Rate', 'Minute Volume (Spontaneous)',\n",
       "       'Minute Volume Lower Alarm Limit', 'Minute Volume Upper Alarm Limit',\n",
       "       'PEEP Setting', 'PPV', 'PSV Rise Setting', 'PVC',\n",
       "       'Patient Circuit Leak Alarm Limit', 'Patient Disconnected',\n",
       "       'Peak Airway Pressure Lower Limit', 'Peak Airway Pressure Upper Limit',\n",
       "       'Peak Pressure Upper Alarm Limit', 'Plimit Reached Alarm',\n",
       "       'Pressure Rise Time Setting', 'Pulse Rate',\n",
       "       'Rapid Shallow Breathing Index', 'Respiration',\n",
       "       'Respiration Rate Setting', 'Respiratory Rate',\n",
       "       'Respiratory Rate (CO2)', 'Respiratory Rate Lower Alarm Limit',\n",
       "       'Respiratory Rate Upper Alarm Limit', 'ST aVF', 'ST aVL', 'ST aVR',\n",
       "       'ST lead I', 'ST lead II', 'ST lead III', 'SpO2', 'SpO2_moving_avg',\n",
       "       'SpO2_percent_change', 'Spontaneous Expired Tidal Volume',\n",
       "       'Spontaneous Respiratory Rate', 'Support Pressure Setting',\n",
       "       'Sustained Paw Alarm', 'dataset_datetime', 'dataset_location',\n",
       "       'time_in_sec', 'SpO2_change', 'check', 'data_count', 'y_check_decrease',\n",
       "       'y_value', 'sum_y_value', 'y_cut_flag', 'y_flag'],\n",
       "      dtype='object')"
      ]
     },
     "execution_count": 57,
     "metadata": {},
     "output_type": "execute_result"
    }
   ],
   "source": [
    "data.columns"
   ]
  },
  {
   "cell_type": "code",
   "execution_count": 147,
   "metadata": {},
   "outputs": [
    {
     "data": {
      "text/plain": [
       "'file://D:\\\\02 Git\\\\ml-med\\\\MICU2-6FL-B1.html'"
      ]
     },
     "execution_count": 147,
     "metadata": {},
     "output_type": "execute_result"
    }
   ],
   "source": [
    "import plotly.plotly as py\n",
    "from plotly.graph_objs import *\n",
    "import plotly.graph_objs as go\n",
    "from plotly.offline import download_plotlyjs, init_notebook_mode, plot, iplot\n",
    "from plotly import tools\n",
    "\n",
    "\n",
    "location = 'MICU2-6FL-B1'\n",
    "df_locat = data[data['dataset_location'] == location].copy()\n",
    "df_locat['y_value_1'] = np.where(df_locat['y_flag'] == 1, df_locat['SpO2'], float('nan') )\n",
    "\n",
    "traces = []\n",
    "\n",
    "for i, col in enumerate(['SpO2', 'SpO2_moving_avg']):\n",
    "    traces.append(go.Scatter(\n",
    "                    x = df_locat.dataset_datetime,\n",
    "                    y = df_locat[col],\n",
    "                    mode = 'lines',\n",
    "                    name = col\n",
    "                    ))\n",
    "    \n",
    "traces.append(go.Scatter(\n",
    "            x = df_locat.dataset_datetime,\n",
    "            y = df_locat.y_value_1,\n",
    "            mode = 'markers',\n",
    "            marker = dict(color = 'rgb(255,0,0)'),\n",
    "            name = \"'y'\"\n",
    "            ))\n",
    "\n",
    "\n",
    "fig = go.Figure(data = traces) # , layout = layout\n",
    "plot(fig, filename = location + '.html')"
   ]
  },
  {
   "cell_type": "code",
   "execution_count": 12,
   "metadata": {},
   "outputs": [
    {
     "name": "stdout",
     "output_type": "stream",
     "text": [
      "Already created moving average features -------------------------------------------------------\n",
      "Already created avg and sd of features at 0 secs before \n",
      "Already created avg and sd of features at 600 secs before \n",
      "Already created avg and sd of features at 1200 secs before \n",
      "y_flag\n",
      "0    313042\n",
      "1       402\n",
      "dtype: int64\n"
     ]
    }
   ],
   "source": [
    "cols = ['Respiratory Rate', 'Mean Airway Pressure', 'Inspired Tidal Volume', 'SpO2', 'Heart Rate', 'Extrinsic PEEP', 'Pulse Rate']\n",
    "data1, features = create_features(data, t_moving='180s', n_before = 3, cols = cols)\n",
    "data1 = data1[data1['SpO2'].isnull() == False]\n",
    "print(data1.groupby(['y_flag']).size())"
   ]
  },
  {
   "cell_type": "code",
   "execution_count": 11,
   "metadata": {},
   "outputs": [
    {
     "data": {
      "text/plain": [
       "'file://D:\\\\04 Git\\\\ml-med\\\\MICU2-6FL-B1.html'"
      ]
     },
     "execution_count": 11,
     "metadata": {},
     "output_type": "execute_result"
    }
   ],
   "source": [
    "import plotly.plotly as py\n",
    "from plotly.graph_objs import *\n",
    "import plotly.graph_objs as go\n",
    "from plotly.offline import download_plotlyjs, init_notebook_mode, plot, iplot\n",
    "from plotly import tools\n",
    "\n",
    "\n",
    "location = 'MICU2-6FL-B1'\n",
    "df_locat = data_2[data_2['dataset_location'] == location].copy()\n",
    "df_locat['y_value_1'] = np.where(df_locat['y_value'] == 1, df_locat['SpO2'], float('nan') )\n",
    "df_locat['y_value_2'] = np.where(df_locat['y_cut_flag'] == 'cut', df_locat['SpO2'], float('nan') )\n",
    "\n",
    "traces = []\n",
    "\n",
    "for i, col in enumerate(['SpO2', 'SpO2_moving_mean_avg', 'SpO2_mean0s', 'SpO2_mean600s']):\n",
    "    traces.append(go.Scatter(\n",
    "                    x = df_locat.dataset_datetime,\n",
    "                    y = df_locat[col],\n",
    "                    mode = 'lines',\n",
    "                    name = col\n",
    "                    ))\n",
    "    \n",
    "traces.append(go.Scatter(\n",
    "            x = df_locat.dataset_datetime,\n",
    "            y = df_locat.y_value_1,\n",
    "            mode = 'markers',\n",
    "            marker = dict(color = 'rgb(255,0,0)'),\n",
    "            name = \"'y'\"\n",
    "            ))\n",
    "traces.append(go.Scatter(\n",
    "            x = df_locat.dataset_datetime,\n",
    "            y = df_locat.y_value_2,\n",
    "            mode = 'markers',\n",
    "            marker = dict(color = 'rgb(0,0,255)'),\n",
    "            name = \"'y'\"\n",
    "            ))\n",
    "\n",
    "\n",
    "\n",
    "fig = go.Figure(data = traces) # , layout = layout\n",
    "plot(fig, filename = location + '.html')"
   ]
  },
  {
   "cell_type": "markdown",
   "metadata": {},
   "source": [
    "# Model"
   ]
  },
  {
   "cell_type": "code",
   "execution_count": 25,
   "metadata": {},
   "outputs": [],
   "source": [
    "import xgboost as xgb\n",
    "from xgboost import XGBClassifier\n",
    "\n",
    "from sklearn.model_selection import train_test_split\n",
    "from sklearn.model_selection import StratifiedShuffleSplit\n",
    "from sklearn.model_selection import StratifiedKFold\n",
    "from sklearn.metrics import accuracy_score\n",
    "from sklearn import cross_validation, metrics\n",
    "\n",
    "from imblearn.over_sampling import ADASYN\n",
    "from imblearn.over_sampling import SMOTE\n",
    "from imblearn.under_sampling import RandomUnderSampler\n",
    "import pickle"
   ]
  },
  {
   "cell_type": "markdown",
   "metadata": {},
   "source": [
    "### divide by location"
   ]
  },
  {
   "cell_type": "code",
   "execution_count": 15,
   "metadata": {},
   "outputs": [
    {
     "data": {
      "text/plain": [
       "dataset_location\n",
       "MICU2-6FL-B1     72\n",
       "MICU2-6FL-B2    109\n",
       "MICU2-6FL-B3     12\n",
       "MICU2-6FL-B5    615\n",
       "MICU2-6FL-B8     12\n",
       "dtype: int64"
      ]
     },
     "execution_count": 15,
     "metadata": {},
     "output_type": "execute_result"
    }
   ],
   "source": [
    "data1[data1['y_flag'] == 1].groupby(by = ['dataset_location']).size()"
   ]
  },
  {
   "cell_type": "code",
   "execution_count": 16,
   "metadata": {},
   "outputs": [
    {
     "name": "stdout",
     "output_type": "stream",
     "text": [
      "location for test ['MICU2-6FL-B3']\n",
      "[y=1/train : 808/280919 = 0.002876] [y=1/test : 12/34085 = 0.000352]\n"
     ]
    }
   ],
   "source": [
    "import random\n",
    "location_test = [list(data1['dataset_location'])[i] for i in sorted(random.sample(range(len(data1['dataset_location'])), 1)) ]\n",
    "print('location for test %s' %location_test)\n",
    "\n",
    "train_data = data1[~data1.dataset_location.isin(location_test)]\n",
    "test_data = data1[data1.dataset_location.isin(location_test)]\n",
    "print(\"[y=1/train : %d/%d = %f] [y=1/test : %d/%d = %f]\" %(len(train_data[train_data['y_flag'] == 1]), len(train_data), len(train_data[train_data['y_flag'] == 1])/len(train_data), len(test_data[test_data['y_flag'] == 1]), len(test_data), len(test_data[test_data['y_flag'] == 1])/len(test_data)))"
   ]
  },
  {
   "cell_type": "code",
   "execution_count": 17,
   "metadata": {
    "collapsed": true
   },
   "outputs": [],
   "source": [
    "def roc_curve(x_test, y_test):\n",
    "    from sklearn.metrics import roc_curve, auc, roc_auc_score\n",
    "\n",
    "    pred_prob = Model.predict_proba(x_test)\n",
    "    fpr, tpr, thresholds = roc_curve(y_test, pred_prob[:, 1])\n",
    "    roc_auc = auc(fpr, tpr)\n",
    "\n",
    "    plt.figure(figsize=(15, 10), dpi= 80, facecolor='w', edgecolor='k')\n",
    "    plt.plot(fpr, tpr, label='ROC curve (area = %0.2f)' % (roc_auc))\n",
    "    plt.plot([0, 1], [0, 1], 'k--')\n",
    "    plt.xlim([0.0, 1.0])\n",
    "    plt.ylim([0.0, 1.05])\n",
    "    plt.xlabel('False Positive Rate', fontsize=14)\n",
    "    plt.ylabel('True Positive Rate', fontsize=14)\n",
    "    plt.title('Receiver operating characteristic', fontsize=18)\n",
    "    plt.legend(loc=\"lower right\", prop={'size': 14})\n",
    "\n",
    "    # create the axis of thresholds (scores)\n",
    "    ax2 = plt.gca().twinx()\n",
    "    ax2.plot(fpr, thresholds, markeredgecolor='r',linestyle='dashed', color='r')\n",
    "    ax2.set_ylabel('Threshold',color='r', fontsize=14)\n",
    "    ax2.tick_params(labelsize = 12)\n",
    "    ax2.set_ylim([thresholds[-1],thresholds[0]])\n",
    "    ax2.set_xlim([fpr[0],fpr[-1]])\n",
    "\n",
    "    plt.show()\n",
    "    plt.savefig('roc_and_threshold.png')\n",
    "    plt.close()"
   ]
  },
  {
   "cell_type": "code",
   "execution_count": 18,
   "metadata": {
    "scrolled": true
   },
   "outputs": [
    {
     "name": "stderr",
     "output_type": "stream",
     "text": [
      "C:\\Users\\AIE\\Anaconda3\\lib\\site-packages\\sklearn\\utils\\deprecation.py:77: DeprecationWarning:\n",
      "\n",
      "Function _ratio_float is deprecated; Use a float for 'ratio' is deprecated from version 0.2. The support will be removed in 0.4. Use a dict, str, or a callable instead.\n",
      "\n"
     ]
    },
    {
     "name": "stdout",
     "output_type": "stream",
     "text": [
      "before oversampling :  [140459    808]\n",
      "after oversampling :  [140459  70229]\n",
      "TRAIN: [  5465  57686 198183 ..., 204035 101591 157560] TEST: [ 92561 183350  94018 ...,  75945 126205 190441]\n",
      "y_training :  [126413  63206]\n",
      "y_validation :  [14046  7023]\n",
      "[0]\tvalidation_0-auc:0.676377\tvalidation_1-auc:0.493103\n",
      "Multiple eval metrics have been passed: 'validation_1-auc' will be used for early stopping.\n",
      "\n",
      "Will train until validation_1-auc hasn't improved in 10 rounds.\n",
      "[1]\tvalidation_0-auc:0.681557\tvalidation_1-auc:0.492824\n",
      "[2]\tvalidation_0-auc:0.681569\tvalidation_1-auc:0.492795\n",
      "[3]\tvalidation_0-auc:0.681682\tvalidation_1-auc:0.492795\n",
      "[4]\tvalidation_0-auc:0.684388\tvalidation_1-auc:0.492369\n",
      "[5]\tvalidation_0-auc:0.686528\tvalidation_1-auc:0.4919\n",
      "[6]\tvalidation_0-auc:0.693741\tvalidation_1-auc:0.491812\n",
      "[7]\tvalidation_0-auc:0.693863\tvalidation_1-auc:0.491812\n",
      "[8]\tvalidation_0-auc:0.694887\tvalidation_1-auc:0.491782\n",
      "[9]\tvalidation_0-auc:0.694907\tvalidation_1-auc:0.491782\n",
      "[10]\tvalidation_0-auc:0.695092\tvalidation_1-auc:0.491782\n",
      "Stopping. Best iteration:\n",
      "[0]\tvalidation_0-auc:0.676377\tvalidation_1-auc:0.493103\n",
      "\n",
      "XGBClassifier(base_score=0.5, colsample_bylevel=1, colsample_bytree=1,\n",
      "       gamma=0, learning_rate=0.1, max_delta_step=0, max_depth=3,\n",
      "       min_child_weight=1, missing=None, n_estimators=100, nthread=-1,\n",
      "       objective='binary:logistic', reg_alpha=0, reg_lambda=1,\n",
      "       scale_pos_weight=1, seed=0, silent=True, subsample=1)\n",
      "AUC Score (test): 0.500000\n"
     ]
    },
    {
     "data": {
      "image/png": "[encoded data removed]",
      "text/plain": [
       "<matplotlib.figure.Figure at 0x1ef10395208>"
      ]
     },
     "metadata": {},
     "output_type": "display_data"
    }
   ],
   "source": [
    "path = 'D:/02 Git/ml-med'\n",
    "\n",
    "def under_sampling(labels, p):\n",
    "    negative_idx = np.random.choice(np.where(labels == 0)[0], size=int(len(labels)*p), replace=False)\n",
    "    positive_idx = np.where(labels==1)[0]\n",
    "    return np.concatenate([negative_idx, positive_idx])\n",
    "\n",
    "def model(train_data, test_data, features, early_stopping = 10, undersamp_ratio = 0.5):\n",
    "    \n",
    "    x_train = train_data[features].as_matrix()\n",
    "    y_train = train_data['y_flag'].as_matrix()\n",
    "    \n",
    "    x_test = test_data[features].as_matrix()\n",
    "    y_test = test_data['y_flag'].as_matrix()\n",
    "    \n",
    "    # undersampling\n",
    "    resampled_idx = under_sampling(y_train, undersamp_ratio)\n",
    "    x_resampled, y_resampled = x_train[resampled_idx], y_train[resampled_idx]\n",
    "\n",
    "    # oversampling\n",
    "    sm = SMOTE(random_state = 12, ratio = 0.5)\n",
    "    x_train, y_train = sm.fit_sample(x_resampled, y_resampled)\n",
    "    print('before oversampling : ', np.bincount(y_resampled))\n",
    "    print('after oversampling : ', np.bincount(y_train))\n",
    "    \n",
    "    # training dataset and validation dataset\n",
    "    TrainTest = StratifiedShuffleSplit(n_splits = 1, test_size = 0.1, random_state = 42)\n",
    "    for train_index, test_index in TrainTest.split(x_train, y_train):\n",
    "        print(\"TRAIN:\", train_index, \"TEST:\", test_index)\n",
    "        x_training, x_validation = x_train[train_index], x_train[test_index]\n",
    "        y_training, y_validation = y_train[train_index], y_train[test_index]\n",
    "        print('y_training : ', np.bincount(y_training))\n",
    "        print('y_validation : ', np.bincount(y_validation))\n",
    "    \n",
    "    # fit Model\n",
    "    Model = XGBClassifier()\n",
    "    eval_set = [(x_training, y_training), (x_test, y_test)]\n",
    "    (Model.fit(x_resampled, y_resampled\n",
    "               , early_stopping_rounds = early_stopping\n",
    "               , eval_metric = [\"auc\"]\n",
    "               , eval_set = eval_set\n",
    "               , verbose = True)\n",
    "    )\n",
    "    \n",
    "    # predict\n",
    "    print(Model)\n",
    "    y_predict = Model.predict(x_test)\n",
    "    prediction = [round(value) for value in y_predict]\n",
    "\n",
    "    y_predprob = Model.predict_proba(x_test)\n",
    "    \n",
    "    print(\"AUC Score (test): %f\" %(metrics.roc_auc_score(y_test, prediction)))\n",
    "    \n",
    "    importance_frame = pd.DataFrame({'Importance': list(Model.feature_importances_), 'Feature': list(features)})\n",
    "    importance_frame.sort_values(by = 'Importance', inplace = True)\n",
    "    importance_frame.plot(kind = 'barh', x = 'Feature', figsize = (8,8), color = 'orange')\n",
    "    return x_test, y_test, prediction, Model\n",
    "    \n",
    "\n",
    "x_test, y_test, prediction, Model = model(train_data, test_data, features)"
   ]
  },
  {
   "cell_type": "code",
   "execution_count": 19,
   "metadata": {},
   "outputs": [
    {
     "data": {
      "image/png": "[encoded data removed]",
      "text/plain": [
       "<matplotlib.figure.Figure at 0x1ef56c504a8>"
      ]
     },
     "metadata": {},
     "output_type": "display_data"
    }
   ],
   "source": [
    "roc_curve(x_test, y_test)"
   ]
  },
  {
   "cell_type": "code",
   "execution_count": 55,
   "metadata": {},
   "outputs": [
    {
     "data": {
      "text/plain": [
       "array([0, 0, 0, ..., 0, 0, 0])"
      ]
     },
     "execution_count": 55,
     "metadata": {},
     "output_type": "execute_result"
    }
   ],
   "source": [
    "y_test"
   ]
  },
  {
   "cell_type": "code",
   "execution_count": 53,
   "metadata": {},
   "outputs": [
    {
     "name": "stdout",
     "output_type": "stream",
     "text": [
      "Average precision-recall score: 0.00\n"
     ]
    },
    {
     "data": {
      "text/plain": [
       "Text(0.5,1,'2-class Precision-Recall curve: AP=0.00')"
      ]
     },
     "execution_count": 53,
     "metadata": {},
     "output_type": "execute_result"
    },
    {
     "data": {
      "image/png": "[encoded data removed]",
      "text/plain": [
       "<matplotlib.figure.Figure at 0x146bc994748>"
      ]
     },
     "metadata": {},
     "output_type": "display_data"
    }
   ],
   "source": [
    "from sklearn.metrics import average_precision_score\n",
    "average_precision = average_precision_score(y_test, prediction)\n",
    "\n",
    "print('Average precision-recall score: {0:0.2f}'.format(\n",
    "      average_precision))\n",
    "\n",
    "\n",
    "from sklearn.metrics import precision_recall_curve\n",
    "import matplotlib.pyplot as plt\n",
    "\n",
    "precision, recall, _ = precision_recall_curve(y_test, prediction)\n",
    "\n",
    "plt.step(recall, precision, color='b', alpha=0.2,\n",
    "         where='post')\n",
    "plt.fill_between(recall, precision, step='post', alpha=0.2,\n",
    "                 color='b')\n",
    "\n",
    "plt.xlabel('Recall')\n",
    "plt.ylabel('Precision')\n",
    "plt.ylim([0.0, 1.05])\n",
    "plt.xlim([0.0, 1.0])\n",
    "plt.title('2-class Precision-Recall curve: AP={0:0.2f}'.format(\n",
    "          average_precision))"
   ]
  },
  {
   "cell_type": "code",
   "execution_count": 61,
   "metadata": {
    "scrolled": true
   },
   "outputs": [
    {
     "ename": "TypeError",
     "evalue": "fit() got an unexpected keyword argument 'reg_alpha'",
     "output_type": "error",
     "traceback": [
      "\u001b[1;31m---------------------------------------------------------------------------\u001b[0m",
      "\u001b[1;31mTypeError\u001b[0m                                 Traceback (most recent call last)",
      "\u001b[1;32m<ipython-input-61-fa19d07f2e6c>\u001b[0m in \u001b[0;36m<module>\u001b[1;34m()\u001b[0m\n\u001b[0;32m     24\u001b[0m \u001b[0meval_set\u001b[0m \u001b[1;33m=\u001b[0m \u001b[1;33m[\u001b[0m\u001b[1;33m(\u001b[0m\u001b[0mx_train\u001b[0m\u001b[1;33m,\u001b[0m \u001b[0my_train\u001b[0m\u001b[1;33m)\u001b[0m\u001b[1;33m,\u001b[0m \u001b[1;33m(\u001b[0m\u001b[0mx_test\u001b[0m\u001b[1;33m,\u001b[0m \u001b[0my_test\u001b[0m\u001b[1;33m)\u001b[0m\u001b[1;33m]\u001b[0m\u001b[1;33m\u001b[0m\u001b[0m\n\u001b[0;32m     25\u001b[0m (Model.fit(x_resampled, y_resampled, early_stopping_rounds = early_stop\n\u001b[1;32m---> 26\u001b[1;33m            , eval_metric = [\"auc\"], eval_set = eval_set, verbose = True, reg_alpha = 0.1))\n\u001b[0m\u001b[0;32m     27\u001b[0m \u001b[0mprint\u001b[0m\u001b[1;33m(\u001b[0m\u001b[0mModel\u001b[0m\u001b[1;33m)\u001b[0m\u001b[1;33m\u001b[0m\u001b[0m\n\u001b[0;32m     28\u001b[0m \u001b[0my_pred\u001b[0m \u001b[1;33m=\u001b[0m \u001b[0mModel\u001b[0m\u001b[1;33m.\u001b[0m\u001b[0mpredict\u001b[0m\u001b[1;33m(\u001b[0m\u001b[0mx_test\u001b[0m\u001b[1;33m)\u001b[0m\u001b[1;33m\u001b[0m\u001b[0m\n",
      "\u001b[1;31mTypeError\u001b[0m: fit() got an unexpected keyword argument 'reg_alpha'"
     ]
    }
   ],
   "source": [
    "path = 'D:/02 Git/ml-med'\n",
    "undersamp_ratio = 0.1\n",
    "num_round = 10\n",
    "\n",
    "x_train = train_data[features].as_matrix()\n",
    "y_train = train_data['y_flag'].as_matrix()\n",
    "x_test = test_data[features].as_matrix()\n",
    "y_test = test_data['y_flag'].as_matrix()\n",
    "\n",
    "\n",
    "def under_sampling(labels, p):\n",
    "    negative_idx = np.random.choice(np.where(labels == 0)[0], size=int(len(labels)*p), replace=False)\n",
    "    positive_idx = np.where(labels==1)[0]\n",
    "    return np.concatenate([negative_idx, positive_idx])\n",
    "\n",
    "resampled_idx = under_sampling(y_train, undersamp_ratio)\n",
    "x_resampled, y_resampled = x_train[resampled_idx], y_train[resampled_idx]\n",
    "\n",
    "\n",
    "seed = 42\n",
    "early_stop = 10\n",
    "\n",
    "Model = XGBClassifier()\n",
    "eval_set = [(x_train, y_train), (x_test, y_test)]\n",
    "(Model.fit(x_resampled, y_resampled, early_stopping_rounds = early_stop\n",
    "           , eval_metric = [\"auc\"], eval_set = eval_set, verbose = True, reg_alpha = 0.1))\n",
    "print(Model)\n",
    "y_pred = Model.predict(x_test)\n",
    "prediction = [round(value) for value in y_pred]\n",
    "accuracy = accuracy_score(y_test, prediction)\n",
    "print(\"Accuracy: %.2f%%\" %(accuracy * 100.0))\n",
    "    \n",
    "results = Model.evals_result()\n",
    "epochs = len(results['validation_0']['auc'])\n",
    "pickle.dump(Model, open(path + '/Model.model', 'wb'))"
   ]
  },
  {
   "cell_type": "code",
   "execution_count": null,
   "metadata": {
    "collapsed": true
   },
   "outputs": [],
   "source": [
    "Model = XGBClassifier()\n",
    "Model.fit(num_round)"
   ]
  },
  {
   "cell_type": "code",
   "execution_count": 203,
   "metadata": {
    "collapsed": true,
    "scrolled": true
   },
   "outputs": [],
   "source": [
    "feature_imp = pd.DataFrame({\"imp\": Model.feature_importances_,\"col\": features})\n",
    "feature_imp = feature_imp.sort_values(\"imp\", ascending=False)\n",
    "feature_imp.to_csv('feature_imp.csv')"
   ]
  },
  {
   "cell_type": "code",
   "execution_count": 204,
   "metadata": {
    "scrolled": true
   },
   "outputs": [
    {
     "data": {
      "text/html": [
       "<div>\n",
       "<style>\n",
       "    .dataframe thead tr:only-child th {\n",
       "        text-align: right;\n",
       "    }\n",
       "\n",
       "    .dataframe thead th {\n",
       "        text-align: left;\n",
       "    }\n",
       "\n",
       "    .dataframe tbody tr th {\n",
       "        vertical-align: top;\n",
       "    }\n",
       "</style>\n",
       "<table border=\"1\" class=\"dataframe\">\n",
       "  <thead>\n",
       "    <tr style=\"text-align: right;\">\n",
       "      <th></th>\n",
       "      <th>col</th>\n",
       "      <th>imp</th>\n",
       "    </tr>\n",
       "  </thead>\n",
       "  <tbody>\n",
       "    <tr>\n",
       "      <th>28</th>\n",
       "      <td>Respiratory Rate_mean600s</td>\n",
       "      <td>0.051084</td>\n",
       "    </tr>\n",
       "    <tr>\n",
       "      <th>51</th>\n",
       "      <td>Inspired Tidal Volume_std1200s</td>\n",
       "      <td>0.047988</td>\n",
       "    </tr>\n",
       "    <tr>\n",
       "      <th>10</th>\n",
       "      <td>SpO2_moving_sd_avg</td>\n",
       "      <td>0.043344</td>\n",
       "    </tr>\n",
       "    <tr>\n",
       "      <th>24</th>\n",
       "      <td>SpO2_std0s</td>\n",
       "      <td>0.043344</td>\n",
       "    </tr>\n",
       "    <tr>\n",
       "      <th>32</th>\n",
       "      <td>Heart Rate_mean600s</td>\n",
       "      <td>0.038700</td>\n",
       "    </tr>\n",
       "    <tr>\n",
       "      <th>19</th>\n",
       "      <td>Extrinsic PEEP_mean0s</td>\n",
       "      <td>0.038700</td>\n",
       "    </tr>\n",
       "    <tr>\n",
       "      <th>37</th>\n",
       "      <td>Inspired Tidal Volume_std600s</td>\n",
       "      <td>0.038700</td>\n",
       "    </tr>\n",
       "    <tr>\n",
       "      <th>39</th>\n",
       "      <td>Heart Rate_std600s</td>\n",
       "      <td>0.035604</td>\n",
       "    </tr>\n",
       "    <tr>\n",
       "      <th>30</th>\n",
       "      <td>Inspired Tidal Volume_mean600s</td>\n",
       "      <td>0.034056</td>\n",
       "    </tr>\n",
       "    <tr>\n",
       "      <th>52</th>\n",
       "      <td>SpO2_std1200s</td>\n",
       "      <td>0.029412</td>\n",
       "    </tr>\n",
       "    <tr>\n",
       "      <th>14</th>\n",
       "      <td>Respiratory Rate_mean0s</td>\n",
       "      <td>0.027864</td>\n",
       "    </tr>\n",
       "    <tr>\n",
       "      <th>44</th>\n",
       "      <td>Inspired Tidal Volume_mean1200s</td>\n",
       "      <td>0.027864</td>\n",
       "    </tr>\n",
       "    <tr>\n",
       "      <th>29</th>\n",
       "      <td>Mean Airway Pressure_mean600s</td>\n",
       "      <td>0.027864</td>\n",
       "    </tr>\n",
       "    <tr>\n",
       "      <th>18</th>\n",
       "      <td>Heart Rate_mean0s</td>\n",
       "      <td>0.026316</td>\n",
       "    </tr>\n",
       "    <tr>\n",
       "      <th>31</th>\n",
       "      <td>SpO2_mean600s</td>\n",
       "      <td>0.026316</td>\n",
       "    </tr>\n",
       "    <tr>\n",
       "      <th>45</th>\n",
       "      <td>SpO2_mean1200s</td>\n",
       "      <td>0.026316</td>\n",
       "    </tr>\n",
       "    <tr>\n",
       "      <th>38</th>\n",
       "      <td>SpO2_std600s</td>\n",
       "      <td>0.024768</td>\n",
       "    </tr>\n",
       "    <tr>\n",
       "      <th>25</th>\n",
       "      <td>Heart Rate_std0s</td>\n",
       "      <td>0.024768</td>\n",
       "    </tr>\n",
       "    <tr>\n",
       "      <th>47</th>\n",
       "      <td>Extrinsic PEEP_mean1200s</td>\n",
       "      <td>0.024768</td>\n",
       "    </tr>\n",
       "    <tr>\n",
       "      <th>16</th>\n",
       "      <td>Inspired Tidal Volume_mean0s</td>\n",
       "      <td>0.020124</td>\n",
       "    </tr>\n",
       "    <tr>\n",
       "      <th>36</th>\n",
       "      <td>Mean Airway Pressure_std600s</td>\n",
       "      <td>0.017028</td>\n",
       "    </tr>\n",
       "    <tr>\n",
       "      <th>6</th>\n",
       "      <td>Pulse Rate_moving_mean_avg</td>\n",
       "      <td>0.017028</td>\n",
       "    </tr>\n",
       "    <tr>\n",
       "      <th>22</th>\n",
       "      <td>Mean Airway Pressure_std0s</td>\n",
       "      <td>0.017028</td>\n",
       "    </tr>\n",
       "    <tr>\n",
       "      <th>23</th>\n",
       "      <td>Inspired Tidal Volume_std0s</td>\n",
       "      <td>0.017028</td>\n",
       "    </tr>\n",
       "    <tr>\n",
       "      <th>53</th>\n",
       "      <td>Heart Rate_std1200s</td>\n",
       "      <td>0.017028</td>\n",
       "    </tr>\n",
       "    <tr>\n",
       "      <th>26</th>\n",
       "      <td>Extrinsic PEEP_std0s</td>\n",
       "      <td>0.017028</td>\n",
       "    </tr>\n",
       "    <tr>\n",
       "      <th>33</th>\n",
       "      <td>Extrinsic PEEP_mean600s</td>\n",
       "      <td>0.015480</td>\n",
       "    </tr>\n",
       "    <tr>\n",
       "      <th>48</th>\n",
       "      <td>Pulse Rate_mean1200s</td>\n",
       "      <td>0.015480</td>\n",
       "    </tr>\n",
       "    <tr>\n",
       "      <th>46</th>\n",
       "      <td>Heart Rate_mean1200s</td>\n",
       "      <td>0.013932</td>\n",
       "    </tr>\n",
       "    <tr>\n",
       "      <th>0</th>\n",
       "      <td>Respiratory Rate_moving_mean_avg</td>\n",
       "      <td>0.013932</td>\n",
       "    </tr>\n",
       "    <tr>\n",
       "      <th>21</th>\n",
       "      <td>Respiratory Rate_std0s</td>\n",
       "      <td>0.013932</td>\n",
       "    </tr>\n",
       "    <tr>\n",
       "      <th>3</th>\n",
       "      <td>SpO2_moving_mean_avg</td>\n",
       "      <td>0.013932</td>\n",
       "    </tr>\n",
       "    <tr>\n",
       "      <th>54</th>\n",
       "      <td>Extrinsic PEEP_std1200s</td>\n",
       "      <td>0.012384</td>\n",
       "    </tr>\n",
       "    <tr>\n",
       "      <th>50</th>\n",
       "      <td>Mean Airway Pressure_std1200s</td>\n",
       "      <td>0.012384</td>\n",
       "    </tr>\n",
       "    <tr>\n",
       "      <th>1</th>\n",
       "      <td>Mean Airway Pressure_moving_mean_avg</td>\n",
       "      <td>0.010836</td>\n",
       "    </tr>\n",
       "    <tr>\n",
       "      <th>15</th>\n",
       "      <td>Mean Airway Pressure_mean0s</td>\n",
       "      <td>0.010836</td>\n",
       "    </tr>\n",
       "    <tr>\n",
       "      <th>55</th>\n",
       "      <td>Pulse Rate_std1200s</td>\n",
       "      <td>0.010836</td>\n",
       "    </tr>\n",
       "    <tr>\n",
       "      <th>17</th>\n",
       "      <td>SpO2_mean0s</td>\n",
       "      <td>0.010836</td>\n",
       "    </tr>\n",
       "    <tr>\n",
       "      <th>49</th>\n",
       "      <td>Respiratory Rate_std1200s</td>\n",
       "      <td>0.009288</td>\n",
       "    </tr>\n",
       "    <tr>\n",
       "      <th>2</th>\n",
       "      <td>Inspired Tidal Volume_moving_mean_avg</td>\n",
       "      <td>0.009288</td>\n",
       "    </tr>\n",
       "    <tr>\n",
       "      <th>35</th>\n",
       "      <td>Respiratory Rate_std600s</td>\n",
       "      <td>0.009288</td>\n",
       "    </tr>\n",
       "    <tr>\n",
       "      <th>43</th>\n",
       "      <td>Mean Airway Pressure_mean1200s</td>\n",
       "      <td>0.009288</td>\n",
       "    </tr>\n",
       "    <tr>\n",
       "      <th>41</th>\n",
       "      <td>Pulse Rate_std600s</td>\n",
       "      <td>0.009288</td>\n",
       "    </tr>\n",
       "    <tr>\n",
       "      <th>5</th>\n",
       "      <td>Extrinsic PEEP_moving_mean_avg</td>\n",
       "      <td>0.007740</td>\n",
       "    </tr>\n",
       "    <tr>\n",
       "      <th>42</th>\n",
       "      <td>Respiratory Rate_mean1200s</td>\n",
       "      <td>0.004644</td>\n",
       "    </tr>\n",
       "    <tr>\n",
       "      <th>27</th>\n",
       "      <td>Pulse Rate_std0s</td>\n",
       "      <td>0.004644</td>\n",
       "    </tr>\n",
       "    <tr>\n",
       "      <th>13</th>\n",
       "      <td>Pulse Rate_moving_sd_avg</td>\n",
       "      <td>0.004644</td>\n",
       "    </tr>\n",
       "    <tr>\n",
       "      <th>34</th>\n",
       "      <td>Pulse Rate_mean600s</td>\n",
       "      <td>0.004644</td>\n",
       "    </tr>\n",
       "    <tr>\n",
       "      <th>20</th>\n",
       "      <td>Pulse Rate_mean0s</td>\n",
       "      <td>0.004644</td>\n",
       "    </tr>\n",
       "    <tr>\n",
       "      <th>9</th>\n",
       "      <td>Inspired Tidal Volume_moving_sd_avg</td>\n",
       "      <td>0.003096</td>\n",
       "    </tr>\n",
       "    <tr>\n",
       "      <th>40</th>\n",
       "      <td>Extrinsic PEEP_std600s</td>\n",
       "      <td>0.001548</td>\n",
       "    </tr>\n",
       "    <tr>\n",
       "      <th>4</th>\n",
       "      <td>Heart Rate_moving_mean_avg</td>\n",
       "      <td>0.001548</td>\n",
       "    </tr>\n",
       "    <tr>\n",
       "      <th>12</th>\n",
       "      <td>Extrinsic PEEP_moving_sd_avg</td>\n",
       "      <td>0.001548</td>\n",
       "    </tr>\n",
       "    <tr>\n",
       "      <th>11</th>\n",
       "      <td>Heart Rate_moving_sd_avg</td>\n",
       "      <td>0.000000</td>\n",
       "    </tr>\n",
       "    <tr>\n",
       "      <th>7</th>\n",
       "      <td>Respiratory Rate_moving_sd_avg</td>\n",
       "      <td>0.000000</td>\n",
       "    </tr>\n",
       "    <tr>\n",
       "      <th>8</th>\n",
       "      <td>Mean Airway Pressure_moving_sd_avg</td>\n",
       "      <td>0.000000</td>\n",
       "    </tr>\n",
       "  </tbody>\n",
       "</table>\n",
       "</div>"
      ],
      "text/plain": [
       "                                      col       imp\n",
       "28              Respiratory Rate_mean600s  0.051084\n",
       "51         Inspired Tidal Volume_std1200s  0.047988\n",
       "10                     SpO2_moving_sd_avg  0.043344\n",
       "24                             SpO2_std0s  0.043344\n",
       "32                    Heart Rate_mean600s  0.038700\n",
       "19                  Extrinsic PEEP_mean0s  0.038700\n",
       "37          Inspired Tidal Volume_std600s  0.038700\n",
       "39                     Heart Rate_std600s  0.035604\n",
       "30         Inspired Tidal Volume_mean600s  0.034056\n",
       "52                          SpO2_std1200s  0.029412\n",
       "14                Respiratory Rate_mean0s  0.027864\n",
       "44        Inspired Tidal Volume_mean1200s  0.027864\n",
       "29          Mean Airway Pressure_mean600s  0.027864\n",
       "18                      Heart Rate_mean0s  0.026316\n",
       "31                          SpO2_mean600s  0.026316\n",
       "45                         SpO2_mean1200s  0.026316\n",
       "38                           SpO2_std600s  0.024768\n",
       "25                       Heart Rate_std0s  0.024768\n",
       "47               Extrinsic PEEP_mean1200s  0.024768\n",
       "16           Inspired Tidal Volume_mean0s  0.020124\n",
       "36           Mean Airway Pressure_std600s  0.017028\n",
       "6              Pulse Rate_moving_mean_avg  0.017028\n",
       "22             Mean Airway Pressure_std0s  0.017028\n",
       "23            Inspired Tidal Volume_std0s  0.017028\n",
       "53                    Heart Rate_std1200s  0.017028\n",
       "26                   Extrinsic PEEP_std0s  0.017028\n",
       "33                Extrinsic PEEP_mean600s  0.015480\n",
       "48                   Pulse Rate_mean1200s  0.015480\n",
       "46                   Heart Rate_mean1200s  0.013932\n",
       "0        Respiratory Rate_moving_mean_avg  0.013932\n",
       "21                 Respiratory Rate_std0s  0.013932\n",
       "3                    SpO2_moving_mean_avg  0.013932\n",
       "54                Extrinsic PEEP_std1200s  0.012384\n",
       "50          Mean Airway Pressure_std1200s  0.012384\n",
       "1    Mean Airway Pressure_moving_mean_avg  0.010836\n",
       "15            Mean Airway Pressure_mean0s  0.010836\n",
       "55                    Pulse Rate_std1200s  0.010836\n",
       "17                            SpO2_mean0s  0.010836\n",
       "49              Respiratory Rate_std1200s  0.009288\n",
       "2   Inspired Tidal Volume_moving_mean_avg  0.009288\n",
       "35               Respiratory Rate_std600s  0.009288\n",
       "43         Mean Airway Pressure_mean1200s  0.009288\n",
       "41                     Pulse Rate_std600s  0.009288\n",
       "5          Extrinsic PEEP_moving_mean_avg  0.007740\n",
       "42             Respiratory Rate_mean1200s  0.004644\n",
       "27                       Pulse Rate_std0s  0.004644\n",
       "13               Pulse Rate_moving_sd_avg  0.004644\n",
       "34                    Pulse Rate_mean600s  0.004644\n",
       "20                      Pulse Rate_mean0s  0.004644\n",
       "9     Inspired Tidal Volume_moving_sd_avg  0.003096\n",
       "40                 Extrinsic PEEP_std600s  0.001548\n",
       "4              Heart Rate_moving_mean_avg  0.001548\n",
       "12           Extrinsic PEEP_moving_sd_avg  0.001548\n",
       "11               Heart Rate_moving_sd_avg  0.000000\n",
       "7          Respiratory Rate_moving_sd_avg  0.000000\n",
       "8      Mean Airway Pressure_moving_sd_avg  0.000000"
      ]
     },
     "execution_count": 204,
     "metadata": {},
     "output_type": "execute_result"
    }
   ],
   "source": [
    "feature_imp"
   ]
  },
  {
   "cell_type": "markdown",
   "metadata": {},
   "source": [
    "### divide by shuffle"
   ]
  },
  {
   "cell_type": "code",
   "execution_count": 113,
   "metadata": {
    "collapsed": true
   },
   "outputs": [],
   "source": [
    "x_data = data1[features].as_matrix()\n",
    "y_data = data1['y_flag'].as_matrix()"
   ]
  },
  {
   "cell_type": "code",
   "execution_count": 114,
   "metadata": {
    "scrolled": true
   },
   "outputs": [
    {
     "name": "stdout",
     "output_type": "stream",
     "text": [
      "StratifiedShuffleSplit(n_splits=3, random_state=42, test_size=0.25,\n",
      "            train_size=None)\n",
      "TRAIN: [137404 193475   3071 ...,  55417 121762 184782] TEST: [124434  79384 147046 ..., 219666   3249 296879]\n",
      "Already spilt data --------------------------------------------------------------------------\n",
      "Already under-sampling data for label = 0 ---------------------------------------------------\n",
      "-----------------------\n",
      "Initial Model\n",
      "-----------------------\n",
      "[0]\tvalidation_0-auc:0.636199\tvalidation_1-auc:0.629655\n",
      "Multiple eval metrics have been passed: 'validation_1-auc' will be used for early stopping.\n",
      "\n",
      "Will train until validation_1-auc hasn't improved in 10 rounds.\n",
      "[1]\tvalidation_0-auc:0.709778\tvalidation_1-auc:0.704734\n",
      "[2]\tvalidation_0-auc:0.739793\tvalidation_1-auc:0.733236\n",
      "[3]\tvalidation_0-auc:0.768389\tvalidation_1-auc:0.762599\n",
      "[4]\tvalidation_0-auc:0.779428\tvalidation_1-auc:0.773059\n",
      "[5]\tvalidation_0-auc:0.785227\tvalidation_1-auc:0.779043\n",
      "[6]\tvalidation_0-auc:0.789005\tvalidation_1-auc:0.781923\n",
      "[7]\tvalidation_0-auc:0.800785\tvalidation_1-auc:0.792807\n",
      "[8]\tvalidation_0-auc:0.80479\tvalidation_1-auc:0.797648\n",
      "[9]\tvalidation_0-auc:0.811795\tvalidation_1-auc:0.803489\n",
      "[10]\tvalidation_0-auc:0.813894\tvalidation_1-auc:0.804908\n",
      "[11]\tvalidation_0-auc:0.814835\tvalidation_1-auc:0.806263\n",
      "[12]\tvalidation_0-auc:0.823196\tvalidation_1-auc:0.812385\n",
      "[13]\tvalidation_0-auc:0.824858\tvalidation_1-auc:0.813965\n",
      "[14]\tvalidation_0-auc:0.82565\tvalidation_1-auc:0.815155\n",
      "[15]\tvalidation_0-auc:0.829513\tvalidation_1-auc:0.820005\n",
      "[16]\tvalidation_0-auc:0.836563\tvalidation_1-auc:0.826578\n",
      "[17]\tvalidation_0-auc:0.842691\tvalidation_1-auc:0.832869\n",
      "[18]\tvalidation_0-auc:0.845572\tvalidation_1-auc:0.835903\n",
      "[19]\tvalidation_0-auc:0.848612\tvalidation_1-auc:0.839184\n",
      "[20]\tvalidation_0-auc:0.85119\tvalidation_1-auc:0.842094\n",
      "[21]\tvalidation_0-auc:0.855665\tvalidation_1-auc:0.847403\n",
      "[22]\tvalidation_0-auc:0.856082\tvalidation_1-auc:0.847872\n",
      "[23]\tvalidation_0-auc:0.858878\tvalidation_1-auc:0.849651\n",
      "[24]\tvalidation_0-auc:0.862379\tvalidation_1-auc:0.854417\n",
      "[25]\tvalidation_0-auc:0.863327\tvalidation_1-auc:0.854823\n",
      "[26]\tvalidation_0-auc:0.866475\tvalidation_1-auc:0.858499\n",
      "[27]\tvalidation_0-auc:0.871441\tvalidation_1-auc:0.862317\n",
      "[28]\tvalidation_0-auc:0.872491\tvalidation_1-auc:0.863118\n",
      "[29]\tvalidation_0-auc:0.873856\tvalidation_1-auc:0.86469\n",
      "[30]\tvalidation_0-auc:0.874297\tvalidation_1-auc:0.865112\n",
      "[31]\tvalidation_0-auc:0.877744\tvalidation_1-auc:0.868656\n",
      "[32]\tvalidation_0-auc:0.879007\tvalidation_1-auc:0.869979\n",
      "[33]\tvalidation_0-auc:0.88296\tvalidation_1-auc:0.874142\n",
      "[34]\tvalidation_0-auc:0.883676\tvalidation_1-auc:0.874768\n",
      "[35]\tvalidation_0-auc:0.887877\tvalidation_1-auc:0.878409\n",
      "[36]\tvalidation_0-auc:0.889942\tvalidation_1-auc:0.879974\n",
      "[37]\tvalidation_0-auc:0.892187\tvalidation_1-auc:0.881994\n",
      "[38]\tvalidation_0-auc:0.893876\tvalidation_1-auc:0.883417\n",
      "[39]\tvalidation_0-auc:0.89502\tvalidation_1-auc:0.884464\n",
      "[40]\tvalidation_0-auc:0.895949\tvalidation_1-auc:0.885173\n",
      "[41]\tvalidation_0-auc:0.897315\tvalidation_1-auc:0.886952\n",
      "[42]\tvalidation_0-auc:0.898147\tvalidation_1-auc:0.888088\n",
      "[43]\tvalidation_0-auc:0.898847\tvalidation_1-auc:0.888762\n",
      "[44]\tvalidation_0-auc:0.899501\tvalidation_1-auc:0.88943\n",
      "[45]\tvalidation_0-auc:0.900851\tvalidation_1-auc:0.891027\n",
      "[46]\tvalidation_0-auc:0.902383\tvalidation_1-auc:0.892323\n",
      "[47]\tvalidation_0-auc:0.90721\tvalidation_1-auc:0.897314\n",
      "[48]\tvalidation_0-auc:0.907678\tvalidation_1-auc:0.897828\n",
      "[49]\tvalidation_0-auc:0.908406\tvalidation_1-auc:0.898585\n",
      "[50]\tvalidation_0-auc:0.9093\tvalidation_1-auc:0.89916\n",
      "[51]\tvalidation_0-auc:0.911378\tvalidation_1-auc:0.901238\n",
      "[52]\tvalidation_0-auc:0.911458\tvalidation_1-auc:0.901297\n",
      "[53]\tvalidation_0-auc:0.911901\tvalidation_1-auc:0.901786\n",
      "[54]\tvalidation_0-auc:0.914467\tvalidation_1-auc:0.904242\n",
      "[55]\tvalidation_0-auc:0.915131\tvalidation_1-auc:0.905\n",
      "[56]\tvalidation_0-auc:0.917539\tvalidation_1-auc:0.907351\n",
      "[57]\tvalidation_0-auc:0.918319\tvalidation_1-auc:0.907772\n",
      "[58]\tvalidation_0-auc:0.921414\tvalidation_1-auc:0.910435\n",
      "[59]\tvalidation_0-auc:0.922134\tvalidation_1-auc:0.911196\n",
      "[60]\tvalidation_0-auc:0.924655\tvalidation_1-auc:0.913502\n",
      "[61]\tvalidation_0-auc:0.927688\tvalidation_1-auc:0.916624\n",
      "[62]\tvalidation_0-auc:0.929248\tvalidation_1-auc:0.9181\n",
      "[63]\tvalidation_0-auc:0.929604\tvalidation_1-auc:0.918392\n",
      "[64]\tvalidation_0-auc:0.931316\tvalidation_1-auc:0.919885\n",
      "[65]\tvalidation_0-auc:0.932025\tvalidation_1-auc:0.920499\n",
      "[66]\tvalidation_0-auc:0.932597\tvalidation_1-auc:0.921017\n",
      "[67]\tvalidation_0-auc:0.935672\tvalidation_1-auc:0.924045\n",
      "[68]\tvalidation_0-auc:0.93661\tvalidation_1-auc:0.924892\n",
      "[69]\tvalidation_0-auc:0.93737\tvalidation_1-auc:0.925691\n",
      "[70]\tvalidation_0-auc:0.939093\tvalidation_1-auc:0.927554\n",
      "[71]\tvalidation_0-auc:0.939381\tvalidation_1-auc:0.927874\n",
      "[72]\tvalidation_0-auc:0.940998\tvalidation_1-auc:0.929349\n",
      "[73]\tvalidation_0-auc:0.942665\tvalidation_1-auc:0.931119\n",
      "[74]\tvalidation_0-auc:0.94264\tvalidation_1-auc:0.931274\n",
      "[75]\tvalidation_0-auc:0.944245\tvalidation_1-auc:0.932749\n",
      "[76]\tvalidation_0-auc:0.945797\tvalidation_1-auc:0.934211\n",
      "[77]\tvalidation_0-auc:0.946232\tvalidation_1-auc:0.9347\n",
      "[78]\tvalidation_0-auc:0.94686\tvalidation_1-auc:0.935373\n",
      "[79]\tvalidation_0-auc:0.946955\tvalidation_1-auc:0.935547\n",
      "[80]\tvalidation_0-auc:0.947592\tvalidation_1-auc:0.936178\n",
      "[81]\tvalidation_0-auc:0.948406\tvalidation_1-auc:0.936999\n",
      "[82]\tvalidation_0-auc:0.948465\tvalidation_1-auc:0.937201\n",
      "[83]\tvalidation_0-auc:0.949332\tvalidation_1-auc:0.937993\n",
      "[84]\tvalidation_0-auc:0.949373\tvalidation_1-auc:0.938063\n",
      "[85]\tvalidation_0-auc:0.950118\tvalidation_1-auc:0.938732\n",
      "[86]\tvalidation_0-auc:0.952188\tvalidation_1-auc:0.94115\n",
      "[87]\tvalidation_0-auc:0.95456\tvalidation_1-auc:0.943464\n",
      "[88]\tvalidation_0-auc:0.955209\tvalidation_1-auc:0.94418\n",
      "[89]\tvalidation_0-auc:0.955346\tvalidation_1-auc:0.944292\n",
      "[90]\tvalidation_0-auc:0.955805\tvalidation_1-auc:0.944899\n",
      "[91]\tvalidation_0-auc:0.955979\tvalidation_1-auc:0.945147\n",
      "[92]\tvalidation_0-auc:0.956312\tvalidation_1-auc:0.945573\n",
      "[93]\tvalidation_0-auc:0.957285\tvalidation_1-auc:0.946503\n",
      "[94]\tvalidation_0-auc:0.958052\tvalidation_1-auc:0.94753\n",
      "[95]\tvalidation_0-auc:0.959345\tvalidation_1-auc:0.948916\n",
      "[96]\tvalidation_0-auc:0.959998\tvalidation_1-auc:0.949674\n",
      "[97]\tvalidation_0-auc:0.960085\tvalidation_1-auc:0.949814\n",
      "[98]\tvalidation_0-auc:0.960766\tvalidation_1-auc:0.95041\n",
      "[99]\tvalidation_0-auc:0.960911\tvalidation_1-auc:0.950602\n",
      "XGBClassifier(base_score=0.5, colsample_bylevel=1, colsample_bytree=1,\n",
      "       gamma=0, learning_rate=0.1, max_delta_step=0, max_depth=3,\n",
      "       min_child_weight=1, missing=None, n_estimators=100, nthread=-1,\n",
      "       objective='binary:logistic', reg_alpha=0, reg_lambda=1,\n",
      "       scale_pos_weight=1, seed=0, silent=True, subsample=1)\n",
      "Accuracy: 98.40%\n"
     ]
    },
    {
     "ename": "AttributeError",
     "evalue": "'XGBClassifier' object has no attribute 'save_model'",
     "output_type": "error",
     "traceback": [
      "\u001b[1;31m---------------------------------------------------------------------------\u001b[0m",
      "\u001b[1;31mAttributeError\u001b[0m                            Traceback (most recent call last)",
      "\u001b[1;32m<ipython-input-114-9d21615dc1d3>\u001b[0m in \u001b[0;36m<module>\u001b[1;34m()\u001b[0m\n\u001b[0;32m     51\u001b[0m \u001b[1;33m\u001b[0m\u001b[0m\n\u001b[0;32m     52\u001b[0m     \u001b[1;31m#pickle.dump(Model, open(path + '/Model.model', 'wb'))\u001b[0m\u001b[1;33m\u001b[0m\u001b[1;33m\u001b[0m\u001b[0m\n\u001b[1;32m---> 53\u001b[1;33m     \u001b[0mModel\u001b[0m\u001b[1;33m.\u001b[0m\u001b[0msave_model\u001b[0m\u001b[1;33m(\u001b[0m\u001b[1;34m'Model.model'\u001b[0m\u001b[1;33m)\u001b[0m\u001b[1;33m\u001b[0m\u001b[0m\n\u001b[0m\u001b[0;32m     54\u001b[0m     \u001b[0mn\u001b[0m \u001b[1;33m=\u001b[0m \u001b[0mn\u001b[0m\u001b[1;33m+\u001b[0m\u001b[1;36m1\u001b[0m\u001b[1;33m\u001b[0m\u001b[0m\n\u001b[0;32m     55\u001b[0m     \u001b[0mprint\u001b[0m\u001b[1;33m(\u001b[0m\u001b[1;34m\"\"\u001b[0m\u001b[1;33m)\u001b[0m\u001b[1;33m\u001b[0m\u001b[0m\n",
      "\u001b[1;31mAttributeError\u001b[0m: 'XGBClassifier' object has no attribute 'save_model'"
     ]
    }
   ],
   "source": [
    "import pickle\n",
    "def under_sampling(labels, p):\n",
    "    negative_idx = np.random.choice(np.where(labels == 0)[0], size=int(len(labels)*p), replace=False)\n",
    "    positive_idx = np.where(labels==1)[0]\n",
    "    return np.concatenate([negative_idx, positive_idx])\n",
    "\n",
    "n_split = 3\n",
    "test_size = 0.25\n",
    "validate_size = 0.15\n",
    "seed = 42\n",
    "TrainTest = StratifiedShuffleSplit(n_splits = n_split, test_size = test_size, random_state = seed)\n",
    "# TrainValidation = StratifiedShuffleSplit(n_splits = 1, test_size = validate_size, random_state = seed)\n",
    "path = 'D:/04 Git/ml-med'\n",
    "undersamp_ratio = 0.2\n",
    "early_stop = 10\n",
    "print(TrainTest)\n",
    "n = 1\n",
    "auc = []\n",
    "\n",
    "for train_index, test_index in TrainTest.split(x_data, y_data):\n",
    "    print(\"TRAIN:\", train_index, \"TEST:\", test_index)\n",
    "    x_train, x_test = x_data[train_index], x_data[test_index]\n",
    "    y_train, y_test = y_data[train_index], y_data[test_index]\n",
    "    print(\"Already spilt data --------------------------------------------------------------------------\")\n",
    "    \n",
    "    resampled_idx = under_sampling(y_train, undersamp_ratio)\n",
    "    x_resampled, y_resampled = x_train[resampled_idx], y_train[resampled_idx]\n",
    "    print(\"Already under-sampling data for label = 0 ---------------------------------------------------\")\n",
    "    \n",
    "    if n == 1:\n",
    "        print(\"-----------------------\")\n",
    "        print(\"Initial Model\")\n",
    "        print(\"-----------------------\")\n",
    "        Model = XGBClassifier()\n",
    "    else:\n",
    "        print(\"-----------------------\")\n",
    "        print(\"Train Model # %d\" %n)\n",
    "        print(\"-----------------------\")\n",
    "        Model = pickle.load(open(path + '/Model.model', 'rb'))\n",
    "    eval_set = [(x_train, y_train), (x_test, y_test)]\n",
    "    Model.fit(x_resampled, y_resampled, early_stopping_rounds = early_stop, eval_metric = [\"auc\"], eval_set = eval_set, verbose = True)\n",
    "    print(Model)\n",
    "    y_pred = Model.predict(x_test)\n",
    "    prediction = [round(value) for value in y_pred]\n",
    "    accuracy = accuracy_score(y_test, prediction)\n",
    "    print(\"Accuracy: %.2f%%\" %(accuracy * 100.0))\n",
    "    \n",
    "    results = Model.evals_result()\n",
    "    epochs = len(results['validation_0']['auc'])\n",
    "    auc.append(results)\n",
    "    \n",
    "    pickle.dump(Model, open(path + '/Model.model', 'wb'))\n",
    "    #Model.save_model('Model.model')\n",
    "    n = n+1\n",
    "    print(\"\")"
   ]
  },
  {
   "cell_type": "code",
   "execution_count": 160,
   "metadata": {
    "collapsed": true,
    "scrolled": true
   },
   "outputs": [],
   "source": [
    "feature_imp = pd.DataFrame({\"imp\": Model.feature_importances_,\"col\": features})\n",
    "feature_imp = feature_imp.sort_values(\"imp\", ascending=False)\n",
    "feature_imp = feature_imp.reset_index()\n",
    "feature_imp.to_csv(path + '/feature_imp.csv')"
   ]
  },
  {
   "cell_type": "code",
   "execution_count": 173,
   "metadata": {},
   "outputs": [
    {
     "data": {
      "image/png": "[encoded data removed]",
      "text/plain": [
       "<matplotlib.figure.Figure at 0x183048e1dd8>"
      ]
     },
     "metadata": {},
     "output_type": "display_data"
    }
   ],
   "source": [
    "import matplotlib.pyplot as pyplot\n",
    "fig = pyplot.figure(figsize=(15, 10), dpi= 80, facecolor='w', edgecolor='k')\n",
    "ax = fig.add_subplot(111)\n",
    "pyplot.bar(feature_imp['col'][:15], feature_imp['imp'][:15])\n",
    "ax.set_title('Feature Important', fontsize=18)\n",
    "ax.set_xlabel('Features', fontsize=14)\n",
    "ax.set_ylabel('Score', fontsize=14)\n",
    "ax.get_autoscale_on()\n",
    "pyplot.show()"
   ]
  },
  {
   "cell_type": "code",
   "execution_count": 159,
   "metadata": {},
   "outputs": [
    {
     "ename": "NameError",
     "evalue": "name 'plot_importance' is not defined",
     "output_type": "error",
     "traceback": [
      "\u001b[1;31m---------------------------------------------------------------------------\u001b[0m",
      "\u001b[1;31mNameError\u001b[0m                                 Traceback (most recent call last)",
      "\u001b[1;32m<ipython-input-159-3ee0ba3437e1>\u001b[0m in \u001b[0;36m<module>\u001b[1;34m()\u001b[0m\n\u001b[1;32m----> 1\u001b[1;33m \u001b[0mplot_importance\u001b[0m\u001b[1;33m(\u001b[0m\u001b[0mModel\u001b[0m\u001b[1;33m)\u001b[0m\u001b[1;33m\u001b[0m\u001b[0m\n\u001b[0m",
      "\u001b[1;31mNameError\u001b[0m: name 'plot_importance' is not defined"
     ]
    }
   ],
   "source": [
    "plot_importance(Model)"
   ]
  },
  {
   "cell_type": "code",
   "execution_count": 39,
   "metadata": {
    "collapsed": true
   },
   "outputs": [],
   "source": []
  },
  {
   "cell_type": "code",
   "execution_count": 41,
   "metadata": {},
   "outputs": [],
   "source": []
  },
  {
   "cell_type": "code",
   "execution_count": 45,
   "metadata": {
    "collapsed": true
   },
   "outputs": [
    {
     "data": {
      "image/png": "[encoded data removed]",
      "text/plain": [
       "<matplotlib.figure.Figure at 0x1830671c278>"
      ]
     },
     "metadata": {},
     "output_type": "display_data"
    },
    {
     "data": {
      "text/plain": [
       "<matplotlib.figure.Figure at 0x1830671c320>"
      ]
     },
     "metadata": {},
     "output_type": "display_data"
    }
   ],
   "source": [
    "import numpy as np\n",
    "import matplotlib.pyplot as plt\n",
    "\n",
    "for i in range(0, len(auc)):\n",
    "    xaxis = range(0, len(auc[i]['validation_0']['auc']))\n",
    "    plt.subplot(321+i)\n",
    "    plt.plot(xaxis, auc[i]['validation_0']['auc'], 'r--', xaxis, auc[i]['validation_1']['auc'], 'b--')\n",
    "    plt.show()\n",
    "    \n",
    "plt.figure(figsize=(20,29))\n",
    "plt.subplots_adjust(top=0.92, bottom=0.08, left=0.10, right=0.95, hspace=0.25,wspace=0.35)"
   ]
  },
  {
   "cell_type": "code",
   "execution_count": 74,
   "metadata": {},
   "outputs": [
    {
     "data": {
      "image/png": "[encoded data removed]",
      "text/plain": [
       "<matplotlib.figure.Figure at 0x1e1446a84e0>"
      ]
     },
     "metadata": {},
     "output_type": "display_data"
    }
   ],
   "source": [
    "import matplotlib.pyplot as pyplot\n",
    "pyplot.bar(range(len(Model.feature_importances_)), Model.feature_importances_)\n",
    "pyplot.show()"
   ]
  },
  {
   "cell_type": "markdown",
   "metadata": {},
   "source": [
    "### Tuning parameters"
   ]
  },
  {
   "cell_type": "code",
   "execution_count": null,
   "metadata": {
    "collapsed": true
   },
   "outputs": [],
   "source": []
  },
  {
   "cell_type": "code",
   "execution_count": null,
   "metadata": {
    "collapsed": true
   },
   "outputs": [],
   "source": []
  },
  {
   "cell_type": "code",
   "execution_count": null,
   "metadata": {
    "collapsed": true
   },
   "outputs": [],
   "source": []
  },
  {
   "cell_type": "code",
   "execution_count": null,
   "metadata": {
    "collapsed": true
   },
   "outputs": [],
   "source": []
  },
  {
   "cell_type": "code",
   "execution_count": null,
   "metadata": {
    "collapsed": true
   },
   "outputs": [],
   "source": []
  },
  {
   "cell_type": "code",
   "execution_count": null,
   "metadata": {
    "collapsed": true
   },
   "outputs": [],
   "source": []
  },
  {
   "cell_type": "code",
   "execution_count": null,
   "metadata": {
    "collapsed": true
   },
   "outputs": [],
   "source": []
  }
 ],
 "metadata": {
  "kernelspec": {
   "display_name": "Python 3",
   "language": "python",
   "name": "python3"
  }
 },
 "nbformat": 4,
 "nbformat_minor": 2
}
