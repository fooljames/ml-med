{
 "cells": [
  {
   "cell_type": "code",
   "execution_count": 1,
   "metadata": {},
   "outputs": [
    {
     "name": "stdout",
     "output_type": "stream",
     "text": [
      "Loaded file /Users/tniyomkarn/KKU_med/data/output/output_20171218.csv with rows: 0 \n",
      "Loaded file /Users/tniyomkarn/KKU_med/data/output/output_20171230.csv with rows: 32211 \n",
      "Loaded file /Users/tniyomkarn/KKU_med/data/output/output_20171224.csv with rows: 10139 \n",
      "Loaded file /Users/tniyomkarn/KKU_med/data/output/output_20171225.csv with rows: 19330 \n",
      "Loaded file /Users/tniyomkarn/KKU_med/data/output/output_20171231.csv with rows: 14395 \n",
      "Loaded file /Users/tniyomkarn/KKU_med/data/output/output_20171219.csv with rows: 0 \n",
      "Loaded file /Users/tniyomkarn/KKU_med/data/output/output_20171227.csv with rows: 22653 \n",
      "Loaded file /Users/tniyomkarn/KKU_med/data/output/output_20171226.csv with rows: 23491 \n",
      "Loaded file /Users/tniyomkarn/KKU_med/data/output/output_20171222.csv with rows: 20436 \n",
      "Loaded file /Users/tniyomkarn/KKU_med/data/output/output_20171223.csv with rows: 1823 \n",
      "Loaded file /Users/tniyomkarn/KKU_med/data/output/output_20171221.csv with rows: 8578 \n",
      "Loaded file /Users/tniyomkarn/KKU_med/data/output/output_20171209.csv with rows: 0 \n",
      "Loaded file /Users/tniyomkarn/KKU_med/data/output/output_20171208.csv with rows: 16 \n",
      "Loaded file /Users/tniyomkarn/KKU_med/data/output/output_20171119.csv with rows: 40829 \n",
      "Loaded file /Users/tniyomkarn/KKU_med/data/output/output_20171125.csv with rows: 29019 \n",
      "Loaded file /Users/tniyomkarn/KKU_med/data/output/output_20171130.csv with rows: 0 \n",
      "Loaded file /Users/tniyomkarn/KKU_med/data/output/output_20171124.csv with rows: 26499 \n",
      "Loaded file /Users/tniyomkarn/KKU_med/data/output/output_20171118.csv with rows: 44596 \n",
      "Loaded file /Users/tniyomkarn/KKU_med/data/output/output_20180108.csv with rows: 45018 \n",
      "Loaded file /Users/tniyomkarn/KKU_med/data/output/output_20171126.csv with rows: 29019 \n",
      "Loaded file /Users/tniyomkarn/KKU_med/data/output/output_20171127.csv with rows: 23400 \n",
      "Loaded file /Users/tniyomkarn/KKU_med/data/output/output_20180109.csv with rows: 35989 \n",
      "Loaded file /Users/tniyomkarn/KKU_med/data/output/output_20171123.csv with rows: 28285 \n",
      "Loaded file /Users/tniyomkarn/KKU_med/data/output/output_20171122.csv with rows: 18253 \n",
      "Loaded file /Users/tniyomkarn/KKU_med/data/output/output_20171120.csv with rows: 37238 \n",
      "Loaded file /Users/tniyomkarn/KKU_med/data/output/output_20171121.csv with rows: 29825 \n",
      "Loaded file /Users/tniyomkarn/KKU_med/data/output/output_20180102.csv with rows: 27775 \n",
      "Loaded file /Users/tniyomkarn/KKU_med/data/output/output_20180116.csv with rows: 17280 \n",
      "Loaded file /Users/tniyomkarn/KKU_med/data/output/output_20180117.csv with rows: 13702 \n",
      "Loaded file /Users/tniyomkarn/KKU_med/data/output/output_20180103.csv with rows: 31955 \n",
      "Loaded file /Users/tniyomkarn/KKU_med/data/output/output_20180115.csv with rows: 17281 \n",
      "Loaded file /Users/tniyomkarn/KKU_med/data/output/output_20171113.csv with rows: 43823 \n",
      "Loaded file /Users/tniyomkarn/KKU_med/data/output/output_20171112.csv with rows: 41862 \n",
      "Loaded file /Users/tniyomkarn/KKU_med/data/output/output_20180114.csv with rows: 16406 \n",
      "Loaded file /Users/tniyomkarn/KKU_med/data/output/output_20180110.csv with rows: 27649 \n",
      "Loaded file /Users/tniyomkarn/KKU_med/data/output/output_20180104.csv with rows: 35039 \n",
      "Loaded file /Users/tniyomkarn/KKU_med/data/output/output_20171116.csv with rows: 42820 \n",
      "Loaded file /Users/tniyomkarn/KKU_med/data/output/output_20171117.csv with rows: 51323 \n",
      "Loaded file /Users/tniyomkarn/KKU_med/data/output/output_20180105.csv with rows: 34971 \n",
      "Loaded file /Users/tniyomkarn/KKU_med/data/output/output_20180111.csv with rows: 26291 \n",
      "Loaded file /Users/tniyomkarn/KKU_med/data/output/output_20180107.csv with rows: 35228 \n",
      "Loaded file /Users/tniyomkarn/KKU_med/data/output/output_20180113.csv with rows: 23543 \n",
      "Loaded file /Users/tniyomkarn/KKU_med/data/output/output_20171115.csv with rows: 40041 \n",
      "Loaded file /Users/tniyomkarn/KKU_med/data/output/output_20171129.csv with rows: 0 \n",
      "Loaded file /Users/tniyomkarn/KKU_med/data/output/output_20171128.csv with rows: 17515 \n",
      "Loaded file /Users/tniyomkarn/KKU_med/data/output/output_20171114.csv with rows: 46535 \n",
      "Loaded file /Users/tniyomkarn/KKU_med/data/output/output_20180112.csv with rows: 29695 \n",
      "Loaded file /Users/tniyomkarn/KKU_med/data/output/output_20180106.csv with rows: 19062 \n",
      "Loaded file /Users/tniyomkarn/KKU_med/data/output/output_20171211.csv with rows: 0 \n",
      "Loaded file /Users/tniyomkarn/KKU_med/data/output/output_20171205.csv with rows: 0 \n",
      "Loaded file /Users/tniyomkarn/KKU_med/data/output/output_20171204.csv with rows: 0 \n",
      "Loaded file /Users/tniyomkarn/KKU_med/data/output/output_20171210.csv with rows: 0 \n",
      "Loaded file /Users/tniyomkarn/KKU_med/data/output/output_20171206.csv with rows: 0 \n",
      "Loaded file /Users/tniyomkarn/KKU_med/data/output/output_20171212.csv with rows: 0 \n",
      "Loaded file /Users/tniyomkarn/KKU_med/data/output/output_20171213.csv with rows: 0 \n",
      "Loaded file /Users/tniyomkarn/KKU_med/data/output/output_20171207.csv with rows: 0 \n",
      "Loaded file /Users/tniyomkarn/KKU_med/data/output/output_20171203.csv with rows: 0 \n",
      "Loaded file /Users/tniyomkarn/KKU_med/data/output/output_20171217.csv with rows: 0 \n",
      "Loaded file /Users/tniyomkarn/KKU_med/data/output/output_20171216.csv with rows: 0 \n",
      "Loaded file /Users/tniyomkarn/KKU_med/data/output/output_20171202.csv with rows: 0 \n",
      "Loaded file /Users/tniyomkarn/KKU_med/data/output/output_20171214.csv with rows: 0 \n",
      "Loaded file /Users/tniyomkarn/KKU_med/data/output/output_20171228.csv with rows: 17281 \n",
      "Loaded file /Users/tniyomkarn/KKU_med/data/output/output_20171229.csv with rows: 26141 \n",
      "Loaded file /Users/tniyomkarn/KKU_med/data/output/output_20171201.csv with rows: 0 \n",
      "Loaded file /Users/tniyomkarn/KKU_med/data/output/output_20171215.csv with rows: 0 \n"
     ]
    },
    {
     "data": {
      "text/plain": [
       "array(['MICU2-6FL-B2', 'MICU2-6FL-B5', 'MICU2-6FL-B6', 'MICU2-6FL-B7',\n",
       "       'MICU2-6FL-B3', 'MICU2-6FL-B4', 'MICU2-6FL-B8', 'MICU2-6FL-B1',\n",
       "       'MICU1-7FL-B5', 'MICU1-7FL-B6'], dtype=object)"
      ]
     },
     "execution_count": 1,
     "metadata": {},
     "output_type": "execute_result"
    }
   ],
   "source": [
    "from myconfig import *\n",
    "from utils import *\n",
    "\n",
    "# merge_file(phlilps, capsule, output)\n",
    "df = load_data_output(output)\n",
    "df.dataset_location.unique()"
   ]
  },
  {
   "cell_type": "code",
   "execution_count": 2,
   "metadata": {},
   "outputs": [],
   "source": [
    "df.to_pickle(output + '/df.pkl')"
   ]
  }
 ],
 "metadata": {
  "kernelspec": {
   "display_name": "Python 3",
   "language": "python",
   "name": "python3"
  },
  "language_info": {
   "codemirror_mode": {
    "name": "ipython",
    "version": 3.0
   },
   "file_extension": ".py",
   "mimetype": "text/x-python",
   "name": "python",
   "nbconvert_exporter": "python",
   "pygments_lexer": "ipython3",
   "version": "3.6.3"
  }
 },
 "nbformat": 4,
 "nbformat_minor": 0
}