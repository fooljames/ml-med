{
 "cells": [
  {
   "cell_type": "code",
   "execution_count": 1,
   "metadata": {},
   "outputs": [
    {
     "name": "stderr",
     "output_type": "stream",
     "text": [
      "/Users/tniyomkarn/tensorflow/lib/python3.6/site-packages/sklearn/cross_validation.py:41: DeprecationWarning:\n",
      "\n",
      "This module was deprecated in version 0.18 in favor of the model_selection module into which all the refactored classes and functions are moved. Also note that the interface of the new CV iterators are different from that of this module. This module will be removed in 0.20.\n",
      "\n"
     ]
    }
   ],
   "source": [
    "from myconfig import *\n",
    "from utils import *\n",
    "\n",
    "import pandas as pd\n",
    "import plotly.plotly as py\n",
    "from plotly.graph_objs import *\n",
    "import plotly.graph_objs as go\n",
    "from plotly.offline import download_plotlyjs, init_notebook_mode, plot, iplot\n",
    "from plotly import tools\n",
    "\n",
    "import xgboost as xgb\n",
    "from xgboost import XGBClassifier\n",
    "\n",
    "from sklearn.model_selection import train_test_split\n",
    "from sklearn.model_selection import StratifiedShuffleSplit\n",
    "from sklearn.model_selection import StratifiedKFold\n",
    "from sklearn.metrics import accuracy_score\n",
    "\n",
    "from imblearn.over_sampling import ADASYN\n",
    "from imblearn.over_sampling import SMOTE\n",
    "from imblearn.under_sampling import RandomUnderSampler"
   ]
  },
  {
   "cell_type": "markdown",
   "metadata": {},
   "source": [
    "# Create label"
   ]
  },
  {
   "cell_type": "code",
   "execution_count": 2,
   "metadata": {},
   "outputs": [],
   "source": [
    "df = pd.read_pickle(output + '/df.pkl')"
   ]
  },
  {
   "cell_type": "code",
   "execution_count": 3,
   "metadata": {},
   "outputs": [
    {
     "name": "stderr",
     "output_type": "stream",
     "text": [
      "/Users/tniyomkarn/KKU_med/ml-med/utils.py:151: SettingWithCopyWarning:\n",
      "\n",
      "\n",
      "A value is trying to be set on a copy of a slice from a DataFrame.\n",
      "Try using .loc[row_indexer,col_indexer] = value instead\n",
      "\n",
      "See the caveats in the documentation: http://pandas.pydata.org/pandas-docs/stable/indexing.html#indexing-view-versus-copy\n",
      "\n",
      "/Users/tniyomkarn/KKU_med/ml-med/utils.py:152: SettingWithCopyWarning:\n",
      "\n",
      "\n",
      "A value is trying to be set on a copy of a slice from a DataFrame.\n",
      "Try using .loc[row_indexer,col_indexer] = value instead\n",
      "\n",
      "See the caveats in the documentation: http://pandas.pydata.org/pandas-docs/stable/indexing.html#indexing-view-versus-copy\n",
      "\n",
      "/Users/tniyomkarn/KKU_med/ml-med/utils.py:153: SettingWithCopyWarning:\n",
      "\n",
      "\n",
      "A value is trying to be set on a copy of a slice from a DataFrame.\n",
      "Try using .loc[row_indexer,col_indexer] = value instead\n",
      "\n",
      "See the caveats in the documentation: http://pandas.pydata.org/pandas-docs/stable/indexing.html#indexing-view-versus-copy\n",
      "\n",
      "/Users/tniyomkarn/KKU_med/ml-med/utils.py:154: SettingWithCopyWarning:\n",
      "\n",
      "\n",
      "A value is trying to be set on a copy of a slice from a DataFrame.\n",
      "Try using .loc[row_indexer,col_indexer] = value instead\n",
      "\n",
      "See the caveats in the documentation: http://pandas.pydata.org/pandas-docs/stable/indexing.html#indexing-view-versus-copy\n",
      "\n",
      "/Users/tniyomkarn/KKU_med/ml-med/utils.py:162: FutureWarning:\n",
      "\n",
      "pd.rolling_sum is deprecated for Series and will be removed in a future version, replace with \n",
      "\tSeries.rolling(window=150,min_periods=0,center=False).sum()\n",
      "\n",
      "/Users/tniyomkarn/KKU_med/ml-med/utils.py:163: FutureWarning:\n",
      "\n",
      "pd.rolling_sum is deprecated for Series and will be removed in a future version, replace with \n",
      "\tSeries.rolling(window=180,min_periods=0,center=False).sum()\n",
      "\n"
     ]
    },
    {
     "name": "stdout",
     "output_type": "stream",
     "text": [
      "Already created target(y)\n"
     ]
    }
   ],
   "source": [
    "df_1 = check_y(df, delta_change=-2.0, start = 1500, end = 1800) "
   ]
  },
  {
   "cell_type": "code",
   "execution_count": 4,
   "metadata": {},
   "outputs": [
    {
     "name": "stdout",
     "output_type": "stream",
     "text": [
      "Already created moving average features -------------------------------------------------------\n",
      "Already created avg and sd of features at 0 secs before \n",
      "Already created avg and sd of features at 600 secs before \n",
      "Already created avg and sd of features at 1200 secs before \n"
     ]
    }
   ],
   "source": [
    "data_2, features = create_features(df_1, n_before = 3)"
   ]
  },
  {
   "cell_type": "code",
   "execution_count": 5,
   "metadata": {},
   "outputs": [],
   "source": [
    "data_2 = data_2[data_2['SpO2'].isnull() == False]"
   ]
  },
  {
   "cell_type": "code",
   "execution_count": 6,
   "metadata": {},
   "outputs": [
    {
     "name": "stdout",
     "output_type": "stream",
     "text": [
      "y_flag\n",
      "0    295986\n",
      "1      6896\n",
      "dtype: int64\n"
     ]
    }
   ],
   "source": [
    "print(data_2.groupby(['y_flag']).size())"
   ]
  },
  {
   "cell_type": "code",
   "execution_count": 7,
   "metadata": {},
   "outputs": [
    {
     "name": "stdout",
     "output_type": "stream",
     "text": [
      "['Respiratory Rate_moving_mean_avg', 'Mean Airway Pressure_moving_mean_avg', 'Inspired Tidal Volume_moving_mean_avg', 'SpO2_moving_mean_avg', 'Respiratory Rate_moving_sd_avg', 'Mean Airway Pressure_moving_sd_avg', 'Inspired Tidal Volume_moving_sd_avg', 'SpO2_moving_sd_avg', 'Respiratory Rate_mean0s', 'Mean Airway Pressure_mean0s', 'Inspired Tidal Volume_mean0s', 'SpO2_mean0s', 'Respiratory Rate_std0s', 'Mean Airway Pressure_std0s', 'Inspired Tidal Volume_std0s', 'SpO2_std0s', 'Respiratory Rate_mean600s', 'Mean Airway Pressure_mean600s', 'Inspired Tidal Volume_mean600s', 'SpO2_mean600s', 'Respiratory Rate_std600s', 'Mean Airway Pressure_std600s', 'Inspired Tidal Volume_std600s', 'SpO2_std600s', 'Respiratory Rate_mean1200s', 'Mean Airway Pressure_mean1200s', 'Inspired Tidal Volume_mean1200s', 'SpO2_mean1200s', 'Respiratory Rate_std1200s', 'Mean Airway Pressure_std1200s', 'Inspired Tidal Volume_std1200s', 'SpO2_std1200s', 'dataset_datetime', 'dataset_location', 'SpO2', 'Respiratory Rate', 'Mean Airway Pressure', 'Inspired Tidal Volume', 'y_flag', 'y_value']\n"
     ]
    }
   ],
   "source": [
    "f = features.copy()\n",
    "f.extend(['dataset_datetime', 'dataset_location', 'SpO2', 'Respiratory Rate', 'Mean Airway Pressure', 'Inspired Tidal Volume', 'y_flag', 'y_value'])\n",
    "print(f)\n",
    "data_2[data_2['dataset_location']  == 'MICU2-6FL-B2'][f].to_csv('/Users/tniyomkarn/KKU_med/data/check_value.csv')"
   ]
  },
  {
   "cell_type": "code",
   "execution_count": 8,
   "metadata": {},
   "outputs": [
    {
     "data": {
      "text/plain": [
       "'file:///Users/tniyomkarn/KKU_med/ml-med/MICU2-6FL-B1.html'"
      ]
     },
     "execution_count": 8,
     "metadata": {},
     "output_type": "execute_result"
    }
   ],
   "source": [
    "location = 'MICU2-6FL-B1'\n",
    "df_locat = data_2[data_2['dataset_location'] == location].copy()\n",
    "df_locat['y_value_1'] = np.where(df_locat['y_value'] == 1, df_locat['SpO2'], float('nan') )\n",
    "df_locat['y_value_2'] = np.where(df_locat['y_cut_flag'] == 'cut', df_locat['SpO2'], float('nan') )\n",
    "\n",
    "traces = []\n",
    "\n",
    "for i, col in enumerate(['SpO2', 'SpO2_moving_mean_avg', 'SpO2_mean0s', 'SpO2_mean600s']):\n",
    "    traces.append(go.Scatter(\n",
    "                    x = df_locat.dataset_datetime,\n",
    "                    y = df_locat[col],\n",
    "                    mode = 'lines',\n",
    "                    name = col\n",
    "                    ))\n",
    "    \n",
    "traces.append(go.Scatter(\n",
    "            x = df_locat.dataset_datetime,\n",
    "            y = df_locat.y_value_1,\n",
    "            mode = 'markers',\n",
    "            marker = dict(color = 'rgb(255,0,0)'),\n",
    "            name = \"'y'\"\n",
    "            ))\n",
    "traces.append(go.Scatter(\n",
    "            x = df_locat.dataset_datetime,\n",
    "            y = df_locat.y_value_2,\n",
    "            mode = 'markers',\n",
    "            marker = dict(color = 'rgb(0,0,255)'),\n",
    "            name = \"'y'\"\n",
    "            ))\n",
    "\n",
    "\n",
    "\n",
    "fig = go.Figure(data = traces) # , layout = layout\n",
    "plot(fig, filename = location + '.html')"
   ]
  },
  {
   "cell_type": "markdown",
   "metadata": {},
   "source": [
    "# Model"
   ]
  },
  {
   "cell_type": "code",
   "execution_count": 9,
   "metadata": {},
   "outputs": [],
   "source": [
    "x_data = data_2[features].as_matrix()\n",
    "y_data = data_2['y_flag'].as_matrix()\n",
    "#x_train, y_train, x_test, y_test = split_data(x_data, y_data)"
   ]
  },
  {
   "cell_type": "code",
   "execution_count": 10,
   "metadata": {},
   "outputs": [
    {
     "name": "stdout",
     "output_type": "stream",
     "text": [
      "StratifiedShuffleSplit(n_splits=1, random_state=42, test_size=0.25,\n",
      "            train_size=None)\n",
      "TRAIN: [177953 221810 275544 ..., 140828 249331  17238] TEST: [118086 106640  17640 ..., 182243 269815  33460]\n"
     ]
    }
   ],
   "source": [
    "n_split = 1\n",
    "test_size = 0.25\n",
    "seed = 42\n",
    "sss = StratifiedShuffleSplit(n_splits = n_split, test_size = test_size, random_state = seed)\n",
    "print(sss)\n",
    "x_train = []\n",
    "y_train = []\n",
    "x_test = []\n",
    "y_test = []\n",
    "for train_index, test_index in sss.split(x_data, y_data):\n",
    "    print(\"TRAIN:\", train_index, \"TEST:\", test_index)\n",
    "    x_train1, x_test1 = x_data[train_index], x_data[test_index]\n",
    "    y_train1, y_test1 = y_data[train_index], y_data[test_index]\n",
    "    \n",
    "    x_train.append(x_train1)\n",
    "    y_train.append(y_train1)\n",
    "    x_test.append(x_test1)\n",
    "    y_test.append(y_test1)"
   ]
  },
  {
   "cell_type": "code",
   "execution_count": 11,
   "metadata": {},
   "outputs": [],
   "source": [
    "def under_sampling(labels, p):\n",
    "    negative_idx = np.random.choice(np.where(labels == 0)[0], size=int(len(labels)*p), replace=False)\n",
    "    positive_idx = np.where(labels==1)[0]\n",
    "    return np.concatenate([negative_idx, positive_idx])"
   ]
  },
  {
   "cell_type": "code",
   "execution_count": 12,
   "metadata": {},
   "outputs": [],
   "source": [
    "x_train = x_train[0]\n",
    "y_train = y_train[0]\n",
    "x_test = x_test[0]\n",
    "y_test = y_test[0]\n",
    "\n",
    "resampled_idx = under_sampling(y_train, 0.2)\n",
    "x_resampled, y_resampled = x_train[resampled_idx], y_train[resampled_idx]\n",
    "\n",
    "#sm = SMOTE(random_state = seed, ratio = 0.5)  # class ratio of 1\n",
    "#x_resamp, y_resamp = sm.fit_sample(x_resampled, y_resampled)\n",
    "#print(y_train.value_counts(), np.bincount(y_resamp))"
   ]
  },
  {
   "cell_type": "code",
   "execution_count": 13,
   "metadata": {},
   "outputs": [
    {
     "name": "stdout",
     "output_type": "stream",
     "text": [
      "50604\n",
      "50604\n"
     ]
    }
   ],
   "source": [
    "print(len(x_resampled))\n",
    "print(len(y_resampled))"
   ]
  },
  {
   "cell_type": "code",
   "execution_count": 14,
   "metadata": {},
   "outputs": [
    {
     "name": "stdout",
     "output_type": "stream",
     "text": [
      "[0]\tvalidation_0-auc:0.656259\n",
      "Will train until validation_0-auc hasn't improved in 10 rounds.\n",
      "[1]\tvalidation_0-auc:0.698439\n",
      "[2]\tvalidation_0-auc:0.700407\n",
      "[3]\tvalidation_0-auc:0.722498\n",
      "[4]\tvalidation_0-auc:0.724226\n",
      "[5]\tvalidation_0-auc:0.782675\n",
      "[6]\tvalidation_0-auc:0.786291\n",
      "[7]\tvalidation_0-auc:0.78647\n",
      "[8]\tvalidation_0-auc:0.800331\n",
      "[9]\tvalidation_0-auc:0.809493\n",
      "[10]\tvalidation_0-auc:0.810493\n",
      "[11]\tvalidation_0-auc:0.815709\n",
      "[12]\tvalidation_0-auc:0.820304\n",
      "[13]\tvalidation_0-auc:0.82555\n",
      "[14]\tvalidation_0-auc:0.82277\n",
      "[15]\tvalidation_0-auc:0.823102\n",
      "[16]\tvalidation_0-auc:0.828144\n",
      "[17]\tvalidation_0-auc:0.831995\n",
      "[18]\tvalidation_0-auc:0.832773\n",
      "[19]\tvalidation_0-auc:0.831878\n",
      "[20]\tvalidation_0-auc:0.83368\n",
      "[21]\tvalidation_0-auc:0.837379\n",
      "[22]\tvalidation_0-auc:0.836338\n",
      "[23]\tvalidation_0-auc:0.839023\n",
      "[24]\tvalidation_0-auc:0.841425\n",
      "[25]\tvalidation_0-auc:0.841209\n",
      "[26]\tvalidation_0-auc:0.843721\n",
      "[27]\tvalidation_0-auc:0.844829\n",
      "[28]\tvalidation_0-auc:0.846293\n",
      "[29]\tvalidation_0-auc:0.84715\n",
      "[30]\tvalidation_0-auc:0.848985\n",
      "[31]\tvalidation_0-auc:0.850975\n",
      "[32]\tvalidation_0-auc:0.852946\n",
      "[33]\tvalidation_0-auc:0.854265\n",
      "[34]\tvalidation_0-auc:0.856984\n",
      "[35]\tvalidation_0-auc:0.857514\n",
      "[36]\tvalidation_0-auc:0.858651\n",
      "[37]\tvalidation_0-auc:0.860545\n",
      "[38]\tvalidation_0-auc:0.862116\n",
      "[39]\tvalidation_0-auc:0.863559\n",
      "[40]\tvalidation_0-auc:0.86461\n",
      "[41]\tvalidation_0-auc:0.86607\n",
      "[42]\tvalidation_0-auc:0.869194\n",
      "[43]\tvalidation_0-auc:0.872026\n",
      "[44]\tvalidation_0-auc:0.874249\n",
      "[45]\tvalidation_0-auc:0.876088\n",
      "[46]\tvalidation_0-auc:0.878905\n",
      "[47]\tvalidation_0-auc:0.88171\n",
      "[48]\tvalidation_0-auc:0.883414\n",
      "[49]\tvalidation_0-auc:0.884901\n",
      "[50]\tvalidation_0-auc:0.88784\n",
      "[51]\tvalidation_0-auc:0.889749\n",
      "[52]\tvalidation_0-auc:0.890838\n",
      "[53]\tvalidation_0-auc:0.894573\n",
      "[54]\tvalidation_0-auc:0.896456\n",
      "[55]\tvalidation_0-auc:0.897718\n",
      "[56]\tvalidation_0-auc:0.897953\n",
      "[57]\tvalidation_0-auc:0.899368\n",
      "[58]\tvalidation_0-auc:0.90019\n",
      "[59]\tvalidation_0-auc:0.900797\n",
      "[60]\tvalidation_0-auc:0.90183\n",
      "[61]\tvalidation_0-auc:0.90276\n",
      "[62]\tvalidation_0-auc:0.903971\n",
      "[63]\tvalidation_0-auc:0.90521\n",
      "[64]\tvalidation_0-auc:0.907083\n",
      "[65]\tvalidation_0-auc:0.907616\n",
      "[66]\tvalidation_0-auc:0.907887\n",
      "[67]\tvalidation_0-auc:0.909125\n",
      "[68]\tvalidation_0-auc:0.910918\n",
      "[69]\tvalidation_0-auc:0.911781\n",
      "[70]\tvalidation_0-auc:0.912053\n",
      "[71]\tvalidation_0-auc:0.912723\n",
      "[72]\tvalidation_0-auc:0.913243\n",
      "[73]\tvalidation_0-auc:0.914397\n",
      "[74]\tvalidation_0-auc:0.914631\n",
      "[75]\tvalidation_0-auc:0.915604\n",
      "[76]\tvalidation_0-auc:0.916961\n",
      "[77]\tvalidation_0-auc:0.918174\n",
      "[78]\tvalidation_0-auc:0.91859\n",
      "[79]\tvalidation_0-auc:0.919569\n",
      "[80]\tvalidation_0-auc:0.920076\n",
      "[81]\tvalidation_0-auc:0.920828\n",
      "[82]\tvalidation_0-auc:0.921161\n",
      "[83]\tvalidation_0-auc:0.921481\n",
      "[84]\tvalidation_0-auc:0.922219\n",
      "[85]\tvalidation_0-auc:0.922992\n",
      "[86]\tvalidation_0-auc:0.923972\n",
      "[87]\tvalidation_0-auc:0.925099\n",
      "[88]\tvalidation_0-auc:0.925173\n",
      "[89]\tvalidation_0-auc:0.926986\n",
      "[90]\tvalidation_0-auc:0.927176\n",
      "[91]\tvalidation_0-auc:0.927964\n",
      "[92]\tvalidation_0-auc:0.928902\n",
      "[93]\tvalidation_0-auc:0.930041\n",
      "[94]\tvalidation_0-auc:0.931183\n",
      "[95]\tvalidation_0-auc:0.931669\n",
      "[96]\tvalidation_0-auc:0.932047\n",
      "[97]\tvalidation_0-auc:0.932891\n",
      "[98]\tvalidation_0-auc:0.93319\n",
      "[99]\tvalidation_0-auc:0.934416\n",
      "XGBClassifier(base_score=0.5, colsample_bylevel=1, colsample_bytree=1,\n",
      "       gamma=0, learning_rate=0.1, max_delta_step=0, max_depth=3,\n",
      "       min_child_weight=1, missing=None, n_estimators=100, nthread=-1,\n",
      "       objective='binary:logistic', reg_alpha=0, reg_lambda=1,\n",
      "       scale_pos_weight=1, seed=0, silent=True, subsample=1)\n",
      "Accuracy: 98.26%\n"
     ]
    },
    {
     "data": {
      "text/plain": [
       "\"import matplotlib.pyplot as pyplot\\nfig, ax = pyplot.subplots()\\nax.plot(x_axis, results['validation_0']['auc'], label='Train')\\nax.plot(x_axis, results['validation_1']['auc'], label='Test')\\nax.legend()\\npyplot.ylabel('AUC')\\npyplot.title('XGBoost AUC')\\npyplot.show()\""
      ]
     },
     "execution_count": 14,
     "metadata": {},
     "output_type": "execute_result"
    }
   ],
   "source": [
    "# Algorithm gradient boosting\n",
    "eval_set = [(x_test, y_test)]\n",
    "clf = XGBClassifier()\n",
    "clf.fit(x_resampled, y_resampled, early_stopping_rounds = 10, eval_metric = [\"auc\"], eval_set = eval_set, verbose = True)\n",
    "print(clf)\n",
    "\n",
    "y_pred = clf.predict(x_test)\n",
    "prediction = [round(value) for value in y_pred]\n",
    "\n",
    "accuracy = accuracy_score(y_test, prediction)\n",
    "print(\"Accuracy: %.2f%%\" %(accuracy * 100.0))\n",
    "\n",
    "results = clf.evals_result()\n",
    "epochs = len(results['validation_0']['auc'])\n",
    "x_axis = range(0, epochs)\n",
    "\n",
    "# plot log loss\n",
    "\"\"\"import matplotlib.pyplot as pyplot\n",
    "fig, ax = pyplot.subplots()\n",
    "ax.plot(x_axis, results['validation_0']['auc'], label='Train')\n",
    "ax.plot(x_axis, results['validation_1']['auc'], label='Test')\n",
    "ax.legend()\n",
    "pyplot.ylabel('AUC')\n",
    "pyplot.title('XGBoost AUC')\n",
    "pyplot.show()\"\"\"\n",
    "\n"
   ]
  },
  {
   "cell_type": "code",
   "execution_count": 15,
   "metadata": {},
   "outputs": [
    {
     "data": {
      "text/plain": [
       "<matplotlib.figure.Figure at 0x10fc18ba8>"
      ]
     },
     "metadata": {},
     "output_type": "display_data"
    }
   ],
   "source": [
    "import matplotlib.pyplot as pyplot\n",
    "pyplot.bar(range(len(clf.feature_importances_)), clf.feature_importances_)\n",
    "pyplot.show()"
   ]
  },
  {
   "cell_type": "code",
   "execution_count": 16,
   "metadata": {},
   "outputs": [],
   "source": [
    "feature_imp = pd.DataFrame({\"imp\": clf.feature_importances_,\"col\": features})"
   ]
  },
  {
   "cell_type": "code",
   "execution_count": 17,
   "metadata": {},
   "outputs": [
    {
     "data": {
      "text/html": [
       "<div>\n",
       "<style scoped>\n",
       "    .dataframe tbody tr th:only-of-type {\n",
       "        vertical-align: middle;\n",
       "    }\n",
       "\n",
       "    .dataframe tbody tr th {\n",
       "        vertical-align: top;\n",
       "    }\n",
       "\n",
       "    .dataframe thead th {\n",
       "        text-align: right;\n",
       "    }\n",
       "</style>\n",
       "<table border=\"1\" class=\"dataframe\">\n",
       "  <thead>\n",
       "    <tr style=\"text-align: right;\">\n",
       "      <th></th>\n",
       "      <th>col</th>\n",
       "      <th>imp</th>\n",
       "    </tr>\n",
       "  </thead>\n",
       "  <tbody>\n",
       "    <tr>\n",
       "      <th>10</th>\n",
       "      <td>Inspired Tidal Volume_mean0s</td>\n",
       "      <td>0.088191</td>\n",
       "    </tr>\n",
       "    <tr>\n",
       "      <th>25</th>\n",
       "      <td>Mean Airway Pressure_mean1200s</td>\n",
       "      <td>0.065770</td>\n",
       "    </tr>\n",
       "    <tr>\n",
       "      <th>26</th>\n",
       "      <td>Inspired Tidal Volume_mean1200s</td>\n",
       "      <td>0.053812</td>\n",
       "    </tr>\n",
       "    <tr>\n",
       "      <th>20</th>\n",
       "      <td>Respiratory Rate_std600s</td>\n",
       "      <td>0.044843</td>\n",
       "    </tr>\n",
       "    <tr>\n",
       "      <th>23</th>\n",
       "      <td>SpO2_std600s</td>\n",
       "      <td>0.043348</td>\n",
       "    </tr>\n",
       "    <tr>\n",
       "      <th>31</th>\n",
       "      <td>SpO2_std1200s</td>\n",
       "      <td>0.043348</td>\n",
       "    </tr>\n",
       "    <tr>\n",
       "      <th>29</th>\n",
       "      <td>Mean Airway Pressure_std1200s</td>\n",
       "      <td>0.043348</td>\n",
       "    </tr>\n",
       "    <tr>\n",
       "      <th>27</th>\n",
       "      <td>SpO2_mean1200s</td>\n",
       "      <td>0.041854</td>\n",
       "    </tr>\n",
       "    <tr>\n",
       "      <th>13</th>\n",
       "      <td>Mean Airway Pressure_std0s</td>\n",
       "      <td>0.038864</td>\n",
       "    </tr>\n",
       "    <tr>\n",
       "      <th>7</th>\n",
       "      <td>SpO2_moving_sd_avg</td>\n",
       "      <td>0.037369</td>\n",
       "    </tr>\n",
       "    <tr>\n",
       "      <th>24</th>\n",
       "      <td>Respiratory Rate_mean1200s</td>\n",
       "      <td>0.035874</td>\n",
       "    </tr>\n",
       "    <tr>\n",
       "      <th>1</th>\n",
       "      <td>Mean Airway Pressure_moving_mean_avg</td>\n",
       "      <td>0.035874</td>\n",
       "    </tr>\n",
       "    <tr>\n",
       "      <th>30</th>\n",
       "      <td>Inspired Tidal Volume_std1200s</td>\n",
       "      <td>0.034380</td>\n",
       "    </tr>\n",
       "    <tr>\n",
       "      <th>12</th>\n",
       "      <td>Respiratory Rate_std0s</td>\n",
       "      <td>0.032885</td>\n",
       "    </tr>\n",
       "    <tr>\n",
       "      <th>28</th>\n",
       "      <td>Respiratory Rate_std1200s</td>\n",
       "      <td>0.032885</td>\n",
       "    </tr>\n",
       "    <tr>\n",
       "      <th>9</th>\n",
       "      <td>Mean Airway Pressure_mean0s</td>\n",
       "      <td>0.032885</td>\n",
       "    </tr>\n",
       "    <tr>\n",
       "      <th>11</th>\n",
       "      <td>SpO2_mean0s</td>\n",
       "      <td>0.031390</td>\n",
       "    </tr>\n",
       "    <tr>\n",
       "      <th>8</th>\n",
       "      <td>Respiratory Rate_mean0s</td>\n",
       "      <td>0.026906</td>\n",
       "    </tr>\n",
       "    <tr>\n",
       "      <th>15</th>\n",
       "      <td>SpO2_std0s</td>\n",
       "      <td>0.025411</td>\n",
       "    </tr>\n",
       "    <tr>\n",
       "      <th>18</th>\n",
       "      <td>Inspired Tidal Volume_mean600s</td>\n",
       "      <td>0.025411</td>\n",
       "    </tr>\n",
       "    <tr>\n",
       "      <th>22</th>\n",
       "      <td>Inspired Tidal Volume_std600s</td>\n",
       "      <td>0.025411</td>\n",
       "    </tr>\n",
       "    <tr>\n",
       "      <th>14</th>\n",
       "      <td>Inspired Tidal Volume_std0s</td>\n",
       "      <td>0.022422</td>\n",
       "    </tr>\n",
       "    <tr>\n",
       "      <th>19</th>\n",
       "      <td>SpO2_mean600s</td>\n",
       "      <td>0.020927</td>\n",
       "    </tr>\n",
       "    <tr>\n",
       "      <th>21</th>\n",
       "      <td>Mean Airway Pressure_std600s</td>\n",
       "      <td>0.019432</td>\n",
       "    </tr>\n",
       "    <tr>\n",
       "      <th>2</th>\n",
       "      <td>Inspired Tidal Volume_moving_mean_avg</td>\n",
       "      <td>0.017937</td>\n",
       "    </tr>\n",
       "    <tr>\n",
       "      <th>6</th>\n",
       "      <td>Inspired Tidal Volume_moving_sd_avg</td>\n",
       "      <td>0.014948</td>\n",
       "    </tr>\n",
       "    <tr>\n",
       "      <th>0</th>\n",
       "      <td>Respiratory Rate_moving_mean_avg</td>\n",
       "      <td>0.013453</td>\n",
       "    </tr>\n",
       "    <tr>\n",
       "      <th>16</th>\n",
       "      <td>Respiratory Rate_mean600s</td>\n",
       "      <td>0.013453</td>\n",
       "    </tr>\n",
       "    <tr>\n",
       "      <th>4</th>\n",
       "      <td>Respiratory Rate_moving_sd_avg</td>\n",
       "      <td>0.011958</td>\n",
       "    </tr>\n",
       "    <tr>\n",
       "      <th>5</th>\n",
       "      <td>Mean Airway Pressure_moving_sd_avg</td>\n",
       "      <td>0.008969</td>\n",
       "    </tr>\n",
       "    <tr>\n",
       "      <th>3</th>\n",
       "      <td>SpO2_moving_mean_avg</td>\n",
       "      <td>0.008969</td>\n",
       "    </tr>\n",
       "    <tr>\n",
       "      <th>17</th>\n",
       "      <td>Mean Airway Pressure_mean600s</td>\n",
       "      <td>0.007474</td>\n",
       "    </tr>\n",
       "  </tbody>\n",
       "</table>\n",
       "</div>"
      ],
      "text/plain": [
       "                                      col       imp\n",
       "10           Inspired Tidal Volume_mean0s  0.088191\n",
       "25         Mean Airway Pressure_mean1200s  0.065770\n",
       "26        Inspired Tidal Volume_mean1200s  0.053812\n",
       "20               Respiratory Rate_std600s  0.044843\n",
       "23                           SpO2_std600s  0.043348\n",
       "31                          SpO2_std1200s  0.043348\n",
       "29          Mean Airway Pressure_std1200s  0.043348\n",
       "27                         SpO2_mean1200s  0.041854\n",
       "13             Mean Airway Pressure_std0s  0.038864\n",
       "7                      SpO2_moving_sd_avg  0.037369\n",
       "24             Respiratory Rate_mean1200s  0.035874\n",
       "1    Mean Airway Pressure_moving_mean_avg  0.035874\n",
       "30         Inspired Tidal Volume_std1200s  0.034380\n",
       "12                 Respiratory Rate_std0s  0.032885\n",
       "28              Respiratory Rate_std1200s  0.032885\n",
       "9             Mean Airway Pressure_mean0s  0.032885\n",
       "11                            SpO2_mean0s  0.031390\n",
       "8                 Respiratory Rate_mean0s  0.026906\n",
       "15                             SpO2_std0s  0.025411\n",
       "18         Inspired Tidal Volume_mean600s  0.025411\n",
       "22          Inspired Tidal Volume_std600s  0.025411\n",
       "14            Inspired Tidal Volume_std0s  0.022422\n",
       "19                          SpO2_mean600s  0.020927\n",
       "21           Mean Airway Pressure_std600s  0.019432\n",
       "2   Inspired Tidal Volume_moving_mean_avg  0.017937\n",
       "6     Inspired Tidal Volume_moving_sd_avg  0.014948\n",
       "0        Respiratory Rate_moving_mean_avg  0.013453\n",
       "16              Respiratory Rate_mean600s  0.013453\n",
       "4          Respiratory Rate_moving_sd_avg  0.011958\n",
       "5      Mean Airway Pressure_moving_sd_avg  0.008969\n",
       "3                    SpO2_moving_mean_avg  0.008969\n",
       "17          Mean Airway Pressure_mean600s  0.007474"
      ]
     },
     "execution_count": 17,
     "metadata": {},
     "output_type": "execute_result"
    }
   ],
   "source": [
    "feature_imp.sort_values(\"imp\", ascending=False)"
   ]
  },
  {
   "cell_type": "code",
   "execution_count": 18,
   "metadata": {},
   "outputs": [
    {
     "data": {
      "image/png": "[encoded data removed]",
      "text/plain": [
       "<matplotlib.figure.Figure at 0x11a8fbf60>"
      ]
     },
     "metadata": {},
     "output_type": "display_data"
    }
   ],
   "source": [
    "from xgboost import plot_importance\n",
    "plot_importance(clf)\n",
    "pyplot.show()"
   ]
  },
  {
   "cell_type": "code",
   "execution_count": 19,
   "metadata": {},
   "outputs": [],
   "source": [
    "# pickle.dump(clf, open(\"xgb.pickle.dat\", \"wb\"))"
   ]
  },
  {
   "cell_type": "code",
   "execution_count": 20,
   "metadata": {},
   "outputs": [],
   "source": [
    "# load\n",
    "# loaded_model = pickle.load(open(\"pima.pickle.dat\", \"rb\"))"
   ]
  }
 ],
 "metadata": {
  "kernelspec": {
   "display_name": "Python 3",
   "language": "python",
   "name": "python3"
  },
  "language_info": {
   "codemirror_mode": {
    "name": "ipython",
    "version": 3
   },
   "file_extension": ".py",
   "mimetype": "text/x-python",
   "name": "python",
   "nbconvert_exporter": "python",
   "pygments_lexer": "ipython3",
   "version": "3.6.3"
  }
 },
 "nbformat": 4,
 "nbformat_minor": 2
}
